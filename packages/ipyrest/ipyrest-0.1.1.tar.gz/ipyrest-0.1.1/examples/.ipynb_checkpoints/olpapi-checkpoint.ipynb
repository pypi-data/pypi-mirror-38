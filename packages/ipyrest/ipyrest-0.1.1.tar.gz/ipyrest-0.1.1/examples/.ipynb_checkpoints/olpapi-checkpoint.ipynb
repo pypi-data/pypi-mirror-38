{
 "cells": [
  {
   "cell_type": "markdown",
   "metadata": {},
   "source": [
    "# Accessing Data From OLP Catalogs\n",
    "\n",
    "This is an example notebook to illustrate the easiest way of accessing data inside OLP catalogs. Here we show this only for data in GeoJSON format because this can be immediately displayed using many existing tools.\n",
    "\n",
    "If you are new to [OLP](https://openlocation.here.com/) it's recommended to read some documentation about [core concepts](https://developer.here.com/olp/documentation/get-started/dev_guide/topics/learn-core-concepts.html), especially, [catalogs](https://developer.here.com/olp/documentation/get-started/dev_guide/shared_content/topics/olp/concepts/catalogs.html), [layers](https://developer.here.com/olp/documentation/get-started/dev_guide/shared_content/topics/olp/concepts/layers.html), and [partitions](https://developer.here.com/olp/documentation/get-started/dev_guide/shared_content/topics/olp/concepts/partitions.html).\n",
    "This code wraps a minimal subset of the [OLP APIs](https://developer.here.com/olp/documentation/get-started/dev_guide/topics/try-out-the-apis-rest.html), specifically from the so-called  [Data Store API](https://developer.here.com/olp/documentation/data-store/api-reference.html).\n"
   ]
  },
  {
   "cell_type": "code",
   "execution_count": null,
   "metadata": {},
   "outputs": [],
   "source": [
    "import subprocess\n",
    "import json\n",
    "import os\n",
    "from os.path import expanduser, expandvars\n",
    "from datetime import datetime, timedelta"
   ]
  },
  {
   "cell_type": "code",
   "execution_count": null,
   "metadata": {},
   "outputs": [],
   "source": [
    "import jprops\n",
    "import requests\n",
    "from requests_oauthlib import OAuth1\n",
    "from ipyleaflet import Map, GeoJSON\n",
    "from deprecated import deprecated"
   ]
  },
  {
   "cell_type": "markdown",
   "metadata": {},
   "source": [
    "## Get an OLP App Access Token"
   ]
  },
  {
   "cell_type": "code",
   "execution_count": null,
   "metadata": {},
   "outputs": [],
   "source": [
    "@deprecated(reason=\"Deprecated as it needs to have the olpcli tool installed. \\\n",
    "Better use the function get_olp_token_oauth().\")\n",
    "def get_olp_token_cli(path: str) -> str:\n",
    "    \"Return an app access token obtained via olpcli for some OLP app credentials file.\"\n",
    "\n",
    "    exp_path = expanduser(expandvars(path))\n",
    "    cmd = ['olp', 'token', 'get', '--json', '--credentials', exp_path]\n",
    "    out = subprocess.check_output(cmd).decode('utf-8')\n",
    "    token = json.loads(out)['accessToken']\n",
    "    \n",
    "    return token"
   ]
  },
  {
   "cell_type": "code",
   "execution_count": null,
   "metadata": {},
   "outputs": [],
   "source": [
    "get_olp_token_cli('~/.here/credentials.properties')"
   ]
  },
  {
   "cell_type": "code",
   "execution_count": null,
   "metadata": {},
   "outputs": [],
   "source": [
    "def get_olp_token_oauth(path: str) -> str:\n",
    "    \"Return an app access token obtained via OAuth for some OLP app credentials file.\"\n",
    "\n",
    "    with open(expanduser(expandvars(path))) as f:\n",
    "        p = jprops.load_properties(f)\n",
    "\n",
    "    client_key = p['here.access.key.id']\n",
    "    client_secret = p['here.access.key.secret']\n",
    "    ha_url = 'https://account.api.here.com/oauth2/token'\n",
    "    ha_url = p.get('here.token.endpoint.url', ha_url)\n",
    "    \n",
    "    auth = OAuth1(client_key, client_secret=client_secret)\n",
    "    data = {\"grant_type\": \"client_credentials\"}\n",
    "    token_json = requests.post('%s' % ha_url, auth=auth, data=data).json()\n",
    "    expires_in = datetime.now() + timedelta(seconds=int(token_json['expires_in']))\n",
    "    token = token_json['access_token']\n",
    "    \n",
    "    return token"
   ]
  },
  {
   "cell_type": "code",
   "execution_count": null,
   "metadata": {},
   "outputs": [],
   "source": [
    "get_olp_token_oauth('~/.here/credentials.properties')"
   ]
  },
  {
   "cell_type": "markdown",
   "metadata": {},
   "source": [
    "## Use *ipyrest* to Explore an API (Postman-like)"
   ]
  },
  {
   "cell_type": "code",
   "execution_count": null,
   "metadata": {},
   "outputs": [],
   "source": [
    "from ipyrest import Api"
   ]
  },
  {
   "cell_type": "code",
   "execution_count": null,
   "metadata": {},
   "outputs": [],
   "source": [
    "class OLPApi(Api):\n",
    "    \"\"\"\n",
    "    An Api subclass that adds a bearer token to the HTTP request header.\n",
    "    \n",
    "    The token is generated from the path of an OLP credentials file if given,\n",
    "    (by default ~/.here/credentials.properties if found).\n",
    "    \"\"\"\n",
    "    \n",
    "    # TODO: refactor code from __init__ here \n",
    "    def get_token(self, data):\n",
    "        return ''\n",
    "\n",
    "    def __init__(self, *args, olp_credentials_path: str, **kwargs):\n",
    "        _key = 'olp_credentials_path'\n",
    "        _value = kwargs.get(_key, None)\n",
    "        _default_value = '~/.here/credentials.properties'\n",
    "        if _value:\n",
    "            exp_path = expanduser(expandvars(_value))\n",
    "            assert os.path.exists(exp_path)\n",
    "            self.olp_credentials_path = exp_path\n",
    "            del kwargs[_key]\n",
    "        else:\n",
    "            exp_path = expanduser(expandvars(_default_value))\n",
    "            assert os.path.exists(exp_path)\n",
    "            self.olp_credentials_path = exp_path\n",
    "        print('Using OLP app credentials from existing file \"{}\"'.format(self.olp_credentials_path))\n",
    "        \n",
    "        token = get_olp_token_oauth(self.olp_credentials_path)\n",
    "        headers = {'Authorization': 'Bearer {}'.format(token)}\n",
    "        super().__init__(*args, headers=headers, **kwargs)"
   ]
  },
  {
   "cell_type": "markdown",
   "metadata": {},
   "source": [
    "### Run Sample API-Lookup Requests"
   ]
  },
  {
   "cell_type": "code",
   "execution_count": null,
   "metadata": {},
   "outputs": [],
   "source": [
    "url = 'https://api-lookup.data.api.platform.here.com/lookup/v1/platform/apis'\n",
    "OLPApi(url, olp_credentials_path='~/.here/credentials.properties', click_send=True)"
   ]
  },
  {
   "cell_type": "code",
   "execution_count": null,
   "metadata": {},
   "outputs": [],
   "source": [
    "hrn = 'hrn:here:data:::here-geojson-samples'\n",
    "url = f'https://api-lookup.data.api.platform.here.com/lookup/v1/resources/{hrn}/apis'\n",
    "OLPApi(url, olp_credentials_path='~/.here/credentials.properties', click_send=True)"
   ]
  },
  {
   "cell_type": "markdown",
   "metadata": {},
   "source": [
    "### Get List of Catalogs"
   ]
  },
  {
   "cell_type": "code",
   "execution_count": null,
   "metadata": {},
   "outputs": [],
   "source": [
    "url = 'https://config.data.api.platform.here.com/config/v1/catalogs'\n",
    "api = OLPApi(url, olp_credentials_path='~/.here/credentials.properties')\n",
    "api"
   ]
  },
  {
   "cell_type": "markdown",
   "metadata": {},
   "source": [
    "### Get Info on Single Catalog\n",
    "\n",
    "https://developer.here.com/olp/documentation/data-store/swagger/2.0/api_reference/config-v1-external-spec.json"
   ]
  },
  {
   "cell_type": "code",
   "execution_count": null,
   "metadata": {},
   "outputs": [],
   "source": [
    "hrn = 'hrn:here:data:::here-geojson-samples'\n",
    "url = f'https://config.data.api.platform.here.com/config/v1/catalogs/{hrn}'\n",
    "OLPApi(url, olp_credentials_path='~/.here/credentials.properties', click_send=True)"
   ]
  },
  {
   "cell_type": "markdown",
   "metadata": {},
   "source": [
    "### Show a Single GeoJSON Partition of a Catalog Layer."
   ]
  },
  {
   "cell_type": "code",
   "execution_count": null,
   "metadata": {},
   "outputs": [],
   "source": [
    "# https://platform.here.com/data/hrn:here:data:::here-geojson-samples\n",
    "cat_id = 'here-geojson-samples'\n",
    "layer_id = 'country-borders'\n",
    "data_handle = '11d11ee4-b40b-4c52-9708-d747e226b55a'\n",
    "url = f'https://blob.data.api.platform.here.com/blobstore/v1/catalogs/{cat_id}/layers/{layer_id}/data/{data_handle}'\n",
    "OLPApi(url, olp_credentials_path='~/.here/credentials.properties', click_send=True)"
   ]
  },
  {
   "cell_type": "markdown",
   "metadata": {},
   "source": [
    "## To Be Included in *ipyrest*..."
   ]
  },
  {
   "cell_type": "markdown",
   "metadata": {},
   "source": [
    "### Show All GeoJSON Partitions of a Catalog Layer\n",
    "\n",
    "By displaying the result of an API call to get all partitions."
   ]
  },
  {
   "cell_type": "code",
   "execution_count": null,
   "metadata": {},
   "outputs": [],
   "source": [
    "class Catalog(object):\n",
    "    \"\"\"\n",
    "    A minimal OLP Catalog class.\n",
    "    \n",
    "    This is intended mostly to provide access (via RESTful APIs) to the data of one\n",
    "    catalog layer's partitions, so-called blobs, assumed here to be GeoJSON strings.\n",
    "    \"\"\"\n",
    "    def __init__(self, cat_id):\n",
    "        self.cat_id = cat_id\n",
    "        token = get_olp_token_oauth('~/.here/credentials.properties')\n",
    "        self.headers = {'Authorization': f'Bearer {token}'}\n",
    "        self.metadata_api = 'https://metadata.data.api.platform.here.com/metadata'\n",
    "        self.blobstore_api = 'https://blob.data.api.platform.here.com/blobstore'\n",
    "\n",
    "    def get_latest_version(self):\n",
    "        \"Get the latest catalog version.\"\n",
    "        cat_id = self.cat_id\n",
    "        url = self.metadata_api + f'/v1/catalogs/{cat_id}/versions/latest?startVersion=-1'\n",
    "        try: version = requests.get(url, headers=self.headers).json()['version']\n",
    "        except: version = -1\n",
    "        return version\n",
    "\n",
    "    def get_partitions(self, layer_id, version):\n",
    "        \"Get list of partitions for given layer and catalog version.\"\n",
    "        cat_id = self.cat_id\n",
    "        url = self.metadata_api + f'/v1/catalogs/{cat_id}/layers/{layer_id}/partitions?version={version}'\n",
    "        return requests.get(url, headers=self.headers).json()['partitions']\n",
    "\n",
    "    def get_blob(self, layer_id, data_handle):\n",
    "        \"Get blob for one partition of a layer (here expected to be a GeoJSON string).\"\n",
    "        url = self.blobstore_api + f'/v1/catalogs/{cat_id}/layers/{layer_id}/data/{data_handle}'\n",
    "        return requests.get(url, headers=self.headers).json()  "
   ]
  },
  {
   "cell_type": "code",
   "execution_count": null,
   "metadata": {},
   "outputs": [],
   "source": [
    "cat_id = 'here-geojson-samples'\n",
    "cat = Catalog(cat_id)\n",
    "version = cat.get_latest_version()\n",
    "parts = cat.get_partitions('country-borders', version)\n",
    "gj = cat.get_blob('country-borders', '11d11ee4-b40b-4c52-9708-d747e226b55a')"
   ]
  },
  {
   "cell_type": "code",
   "execution_count": null,
   "metadata": {},
   "outputs": [],
   "source": [
    "m = Map(zoom=1)\n",
    "m"
   ]
  },
  {
   "cell_type": "code",
   "execution_count": null,
   "metadata": {},
   "outputs": [],
   "source": [
    "for part in parts[:50]:\n",
    "    data_handle = part['dataHandle']\n",
    "    gj = cat.get_blob('country-borders', data_handle)\n",
    "    m += GeoJSON(data=gj)"
   ]
  }
 ],
 "metadata": {
  "kernelspec": {
   "display_name": "Python 3",
   "language": "python",
   "name": "python3"
  },
  "language_info": {
   "codemirror_mode": {
    "name": "ipython",
    "version": 3
   },
   "file_extension": ".py",
   "mimetype": "text/x-python",
   "name": "python",
   "nbconvert_exporter": "python",
   "pygments_lexer": "ipython3",
   "version": "3.6.3"
  }
 },
 "nbformat": 4,
 "nbformat_minor": 2
}
