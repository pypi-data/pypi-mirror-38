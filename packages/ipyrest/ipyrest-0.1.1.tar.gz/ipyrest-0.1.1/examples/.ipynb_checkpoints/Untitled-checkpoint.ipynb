{
 "cells": [
  {
   "cell_type": "code",
   "execution_count": null,
   "metadata": {},
   "outputs": [],
   "source": [
    "from ipyrest import Api"
   ]
  },
  {
   "cell_type": "code",
   "execution_count": null,
   "metadata": {},
   "outputs": [],
   "source": [
    "def post(resp):\n",
    "    \"Post-process response content-type since gists seem to use text/plain.\"\n",
    "    resp.headers['Content-Type'] = 'application/vnd.geo+json'"
   ]
  },
  {
   "cell_type": "code",
   "execution_count": null,
   "metadata": {},
   "outputs": [],
   "source": [
    "url = 'https://api.openstreetmap.org/api/0.6/notes.json?bbox=-0.65094,51.312159,0.374908,51.669148'\n",
    "api = Api(url, post_process_resp=post)\n",
    "api"
   ]
  },
  {
   "cell_type": "code",
   "execution_count": null,
   "metadata": {},
   "outputs": [],
   "source": [
    "api.resp.json().keys()"
   ]
  },
  {
   "cell_type": "code",
   "execution_count": null,
   "metadata": {},
   "outputs": [],
   "source": [
    "from ipyrest import Api\n",
    "url = 'https://tile.osm.org/1/1/1.png'\n",
    "Api(url, click_send=True)"
   ]
  },
  {
   "cell_type": "markdown",
   "metadata": {},
   "source": [
    "GPX"
   ]
  },
  {
   "cell_type": "code",
   "execution_count": null,
   "metadata": {},
   "outputs": [],
   "source": [
    "body = '''\\\n",
    "<?xml version=\"1.0\"?>\n",
    "<gpx version=\"1.0\"\n",
    "xmlns:xsi=\"http://www.w3.org/2001/XMLSchema-instance\"\n",
    "xmlns=\"http://www.topografix.com/GPX/1/0\"\n",
    "xsi:schemaLocation=\"http://www.topografix.com/GPX/1/0 http://www.topografix.com/GPX/1/0/gpx.xsd\">\n",
    "  <trk>\n",
    "    <trkseg>\n",
    "      <trkpt lat=\"51.10177\" lon=\"0.39349\"/>\n",
    "      <trkpt lat=\"51.10181\" lon=\"0.39335\"/>\n",
    "      <trkpt lat=\"51.10255\" lon=\"0.39369\"/>\n",
    "      <trkpt lat=\"51.10398\" lon=\"0.39466\"/>\n",
    "      <trkpt lat=\"51.10501\" lon=\"0.39533\"/>\n",
    "    </trkseg>\n",
    "  </trk>\n",
    "</gpx>\n",
    "'''"
   ]
  },
  {
   "cell_type": "code",
   "execution_count": null,
   "metadata": {},
   "outputs": [],
   "source": [
    "from ipyrest import Api\n",
    "url = 'http://localhost:5000/get_gpx'\n",
    "Api(url, click_send=True)"
   ]
  },
  {
   "cell_type": "code",
   "execution_count": null,
   "metadata": {},
   "outputs": [],
   "source": [
    "import requests\n",
    "body = requests.get('http://localhost:5000/get_gpx').content"
   ]
  },
  {
   "cell_type": "code",
   "execution_count": null,
   "metadata": {},
   "outputs": [],
   "source": [
    "from ipyrest.responseviews import GPXResponseView"
   ]
  },
  {
   "cell_type": "code",
   "execution_count": null,
   "metadata": {},
   "outputs": [],
   "source": [
    "GPXResponseView??"
   ]
  }
 ],
 "metadata": {
  "kernelspec": {
   "display_name": "Python 3",
   "language": "python",
   "name": "python3"
  },
  "language_info": {
   "codemirror_mode": {
    "name": "ipython",
    "version": 3
   },
   "file_extension": ".py",
   "mimetype": "text/x-python",
   "name": "python",
   "nbconvert_exporter": "python",
   "pygments_lexer": "ipython3",
   "version": "3.6.3"
  }
 },
 "nbformat": 4,
 "nbformat_minor": 2
}
