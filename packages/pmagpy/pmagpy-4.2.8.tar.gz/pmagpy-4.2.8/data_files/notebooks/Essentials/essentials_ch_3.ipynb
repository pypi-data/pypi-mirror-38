{
 "cells": [
  {
   "cell_type": "markdown",
   "metadata": {},
   "source": [
    "# Jupyter Notebook  problems in the Essentials of Paleomagnetism Textbook by L. Tauxe"
   ]
  },
  {
   "cell_type": "markdown",
   "metadata": {},
   "source": [
    "## Problems in Chapter 3"
   ]
  },
  {
   "cell_type": "markdown",
   "metadata": {},
   "source": [
    "### Problem 1a"
   ]
  },
  {
   "cell_type": "markdown",
   "metadata": {},
   "source": [
    "Calculate the magnetostatic interaction energy for one Bohr magneton in a field of 40 $\\mu$T and plot for angles 0 $\\rightarrow$ 180. To do anything, we need to import **numpy** and **matplotlib** first. "
   ]
  },
  {
   "cell_type": "code",
   "execution_count": 1,
   "metadata": {},
   "outputs": [],
   "source": [
    "import numpy as np\n",
    "import matplotlib.pyplot as plt\n",
    "%matplotlib inline \n",
    "# This allows us to plot in the notebook environment"
   ]
  },
  {
   "cell_type": "markdown",
   "metadata": {},
   "source": [
    "Use the equation: $E=-m_b B \\cos(\\theta)$ for range of $\\theta$s. "
   ]
  },
  {
   "cell_type": "code",
   "execution_count": 2,
   "metadata": {},
   "outputs": [
    {
     "data": {
      "image/png": "[encoded data removed]",
      "text/plain": [
       "<matplotlib.figure.Figure at 0x1077434e0>"
      ]
     },
     "metadata": {},
     "output_type": "display_data"
    }
   ],
   "source": [
    "# define some variables\n",
    "mb=9.27e-24 # one Bohr magneton in Am^2\n",
    "B=40e-6 # field in tesla\n",
    "thetas=np.arange(0,180,1) # makes an array of thetas from 0 to 180\n",
    "Es=-mb*B*np.cos(np.radians(thetas)) # makes an array of energies\n",
    "plt.plot(thetas,Es) # make a nice plot\n",
    "plt.title(\"Magnetostatic energy versus angle\")\n",
    "plt.xlabel(\"Angle between moment and applied field\") # label x axis\n",
    "plt.ylabel(\"Magnetostatic in Joules\"); # label y axis \n",
    "# putting a ';' at the end of the plotting block suppresses an annoying announcement"
   ]
  },
  {
   "cell_type": "markdown",
   "metadata": {},
   "source": [
    "## Problem 1b"
   ]
  },
  {
   "cell_type": "markdown",
   "metadata": {},
   "source": [
    "For the rest of the problem we need to know the thermal energy (Bolzmann's constant $k=1.38 x 10^{-23}$ J/K and the absolute temperature $T=300$ Kelvin.  "
   ]
  },
  {
   "cell_type": "code",
   "execution_count": 3,
   "metadata": {},
   "outputs": [
    {
     "name": "stdout",
     "output_type": "stream",
     "text": [
      "Thermal energy at room temperature is:  4.14e-21\n"
     ]
    }
   ],
   "source": [
    "k=1.38e-23\n",
    "T=300\n",
    "print ('Thermal energy at room temperature is: ',k*T)"
   ]
  },
  {
   "cell_type": "markdown",
   "metadata": {},
   "source": [
    "Which is a LOT bigger than the magnetostatic energy. "
   ]
  },
  {
   "cell_type": "markdown",
   "metadata": {},
   "source": [
    "## Problem 2a"
   ]
  },
  {
   "cell_type": "markdown",
   "metadata": {},
   "source": [
    "We must find the induced  moment $m$ knowing that the magnetetization (moment per unit volume) is  $M=\\chi_p H$ for a paramagnetic substance.  For Fayalite $\\chi_p$ = = 4.4 x 10$^{-4}$ (cgs; per unit volume). "
   ]
  },
  {
   "cell_type": "code",
   "execution_count": 4,
   "metadata": {},
   "outputs": [
    {
     "name": "stdout",
     "output_type": "stream",
     "text": [
      "0.0088\n"
     ]
    }
   ],
   "source": [
    "chi_p=4.4e-4 # susceptibility of fayalite in cgs per volume\n",
    "B = 10. # applied field in Oersteds\n",
    "vol=2. # volume in cm^3\n",
    "M=chi_p*B # magnetization\n",
    "m=M*vol # moment in emu\n",
    "print (m)\n"
   ]
  },
  {
   "cell_type": "markdown",
   "metadata": {},
   "source": [
    "## Problem 2b"
   ]
  },
  {
   "cell_type": "markdown",
   "metadata": {},
   "source": [
    "Now we have to convert everything to SI. \n",
    "\n",
    "$\\chi_{SI} = 4\\pi\\chi_{cgs}$\n",
    "\n",
    "$H_{SI}={{H_{cgs}}\\over {4\\pi 10^{-3}}}$\n",
    "\n",
    "$vol_{SI}={{vol_{cgs}}*{10^{-6}}}$ \n"
   ]
  },
  {
   "cell_type": "code",
   "execution_count": 5,
   "metadata": {},
   "outputs": [
    {
     "name": "stdout",
     "output_type": "stream",
     "text": [
      "Magnetization in A/m is:  4.3999999999999995\n",
      "magnetic moment in Am^2 is:  8.799999999999999e-06\n"
     ]
    }
   ],
   "source": [
    "chi_SI=chi_p*4.*np.pi\n",
    "H_SI = B/(np.pi*4.*1e-3)\n",
    "vol_SI=vol*1e-6\n",
    "M_SI=H_SI*chi_SI\n",
    "m_SI=M_SI*vol_SI\n",
    "print ('Magnetization in A/m is: ',M_SI)\n",
    "print ('magnetic moment in Am^2 is: ',m_SI)"
   ]
  },
  {
   "cell_type": "markdown",
   "metadata": {},
   "source": [
    "Now we have to convert the $m$ in Am$^2$ to emu cm$^{-3}$ by muliplying by 10$^3$."
   ]
  },
  {
   "cell_type": "code",
   "execution_count": 6,
   "metadata": {},
   "outputs": [
    {
     "name": "stdout",
     "output_type": "stream",
     "text": [
      "converted to cgs, m is:  0.008799999999999999\n"
     ]
    }
   ],
   "source": [
    "m_cgs=m_SI*1e3\n",
    "print ('converted to cgs, m is: ',m_cgs)"
   ]
  },
  {
   "cell_type": "markdown",
   "metadata": {},
   "source": [
    "## Problem 3"
   ]
  },
  {
   "cell_type": "markdown",
   "metadata": {},
   "source": [
    "The governing equation here is the Curie Law of  paramagnetic susceptibility (Equation 3.6 in the text):\n",
    "$$\n",
    "\\chi_p={M\\over H} =  {{Nm^2\\mu_o}\\over{3kv}}\\cdot {1\\over T}.\n",
    "$$\n",
    "\n",
    "which shows that $\\chi_p$ is inversely related to temperature. We were given $\\chi_p$ at 273K, so at 773K, we have:\n",
    "$$\n",
    "\\chi_{773} = {\\chi_{273}} { 273\\over{773}} = { 4.4 \\times 10^{-4}  } { 273\\over{773}} = 1.6 \\times 10^{-4} { {\\hbox {emu}} \\over {\\hbox {cm}^3 \\hbox{oe}}}\n",
    "$$\n",
    "\n",
    "So if $H$ = 100 oe at T= 773K:  \n",
    "\n",
    "$$\n",
    "M = \\chi_{773} H = 1.6 \\times 10^{-2} { {\\hbox {emu}} \\over {\\hbox {cm}^3 }}\n",
    "$$\n",
    "\n"
   ]
  },
  {
   "cell_type": "markdown",
   "metadata": {},
   "source": [
    "## Problem 4"
   ]
  },
  {
   "cell_type": "markdown",
   "metadata": {},
   "source": [
    "Here again we use the Curie Law of Paramagnetism:\n",
    "$$\n",
    "\\chi_p =  {N\\over v} m_b^2 { {\\mu_o}\\over {3kT}} .\n",
    "$$\n",
    "\n",
    "${N\\over v}$ is the number of atomic magnetic moments per unit volume.  The number of atoms was   given to us as 4 x 10$^{28}$ per m$^3$ and ${\\bf m_b}$ is their moment (the Bohr magneton).   Looking up from Figure 3.4 in the text we find that there are 5 unpaired spins for Mn$^{2+}$.   So ${N\\over v}$ is 20 x 10$^{28}$.    The other parameters are given in the text as $\\mu_o = 4 \\pi$ x 10$^{-7}$ Hm$^{-1}$,  $m_b$ = 9.27 x 10$^{-24}$ Am$^2$ and $k$ = 1.381 x 10$^{-23}$ JK$^{-1}$.   So,  $\\chi_p \\sim 1.7$ x 10$^{-3}$.  \n"
   ]
  },
  {
   "cell_type": "code",
   "execution_count": 7,
   "metadata": {},
   "outputs": [
    {
     "name": "stdout",
     "output_type": "stream",
     "text": [
      "0.0017376533419690488\n"
     ]
    }
   ],
   "source": [
    "N_v=5*4e28\n",
    "m_b=9.27e-24\n",
    "k=1.381e-23\n",
    "mu_0=4*np.pi*1e-7\n",
    "T=300.\n",
    "chi_p=(N_v*m_b**2*mu_0)/(3.*k*T)\n",
    "print (chi_p)"
   ]
  },
  {
   "cell_type": "markdown",
   "metadata": {},
   "source": [
    "## Problem 5a"
   ]
  },
  {
   "cell_type": "markdown",
   "metadata": {},
   "source": [
    "For this problem, we use the data in the file _BMoskinBan81.txt_.   Read it in and make a simple X,Y plot of the data.  "
   ]
  },
  {
   "cell_type": "code",
   "execution_count": 8,
   "metadata": {},
   "outputs": [
    {
     "data": {
      "text/html": [
       "<div>\n",
       "<style scoped>\n",
       "    .dataframe tbody tr th:only-of-type {\n",
       "        vertical-align: middle;\n",
       "    }\n",
       "\n",
       "    .dataframe tbody tr th {\n",
       "        vertical-align: top;\n",
       "    }\n",
       "\n",
       "    .dataframe thead th {\n",
       "        text-align: right;\n",
       "    }\n",
       "</style>\n",
       "<table border=\"1\" class=\"dataframe\">\n",
       "  <thead>\n",
       "    <tr style=\"text-align: right;\">\n",
       "      <th></th>\n",
       "      <th>T (C)</th>\n",
       "      <th>M/Ms</th>\n",
       "    </tr>\n",
       "  </thead>\n",
       "  <tbody>\n",
       "    <tr>\n",
       "      <th>0</th>\n",
       "      <td>32.454</td>\n",
       "      <td>0.993</td>\n",
       "    </tr>\n",
       "    <tr>\n",
       "      <th>1</th>\n",
       "      <td>57.050</td>\n",
       "      <td>0.977</td>\n",
       "    </tr>\n",
       "    <tr>\n",
       "      <th>2</th>\n",
       "      <td>66.509</td>\n",
       "      <td>0.971</td>\n",
       "    </tr>\n",
       "    <tr>\n",
       "      <th>3</th>\n",
       "      <td>76.439</td>\n",
       "      <td>0.963</td>\n",
       "    </tr>\n",
       "    <tr>\n",
       "      <th>4</th>\n",
       "      <td>87.662</td>\n",
       "      <td>0.956</td>\n",
       "    </tr>\n",
       "  </tbody>\n",
       "</table>\n",
       "</div>"
      ],
      "text/plain": [
       "    T (C)   M/Ms\n",
       "0  32.454  0.993\n",
       "1  57.050  0.977\n",
       "2  66.509  0.971\n",
       "3  76.439  0.963\n",
       "4  87.662  0.956"
      ]
     },
     "execution_count": 8,
     "metadata": {},
     "output_type": "execute_result"
    }
   ],
   "source": [
    "# read in the data files \n",
    "import pandas as pd\n",
    "data=pd.read_csv('Chapter_3/BMoskinBan91.txt',sep='\\t',header=0) # read in data\n",
    "data.head()     # take a peek.      "
   ]
  },
  {
   "cell_type": "markdown",
   "metadata": {},
   "source": [
    "Now make the plot. "
   ]
  },
  {
   "cell_type": "code",
   "execution_count": 9,
   "metadata": {},
   "outputs": [
    {
     "data": {
      "image/png": "[encoded data removed]",
      "text/plain": [
       "<matplotlib.figure.Figure at 0x1116792e8>"
      ]
     },
     "metadata": {},
     "output_type": "display_data"
    }
   ],
   "source": [
    "plt.plot(data['T (C)'],data['M/Ms'])\n",
    "plt.xlabel('Temperature ($^{\\circ}$C)')\n",
    "plt.ylabel('M/M$_s$');"
   ]
  },
  {
   "cell_type": "markdown",
   "metadata": {},
   "source": [
    "It looks like the Curie Temperature is about 570$^{\\circ}$C."
   ]
  },
  {
   "cell_type": "markdown",
   "metadata": {},
   "source": [
    "## Problem 5b\n",
    "\n",
    "To do this problem, we should write a function to calculate ${M_s (T)}\\over {M_s (T_o)}$ using Equation 3.11 in the book. We will plot the data M/M$_o$ against T/T$_c$.   "
   ]
  },
  {
   "cell_type": "code",
   "execution_count": 10,
   "metadata": {},
   "outputs": [],
   "source": [
    "def M_over_Ms(Tc,gamma):\n",
    "    \"\"\" \n",
    "    Calculates the M/Ms curve using Equation 3.11 in Essentials text book, given Curie T and gamma\n",
    "    M_over_Ms(Tc,gamma)\n",
    "    Returns array of M/Ms values. \n",
    "    \"\"\"\n",
    "    Ts=np.arange(32,Tc,1)\n",
    "    Tcs=Tc*np.ones(len(Ts))\n",
    "    return ((Tcs-Ts)/Tcs)**gamma,Ts\n",
    "     "
   ]
  },
  {
   "cell_type": "markdown",
   "metadata": {},
   "source": [
    "And now let's call it..  "
   ]
  },
  {
   "cell_type": "code",
   "execution_count": 11,
   "metadata": {},
   "outputs": [
    {
     "data": {
      "image/png": "[encoded data removed]",
      "text/plain": [
       "<matplotlib.figure.Figure at 0x1077796d8>"
      ]
     },
     "metadata": {},
     "output_type": "display_data"
    }
   ],
   "source": [
    "Tc=570.\n",
    "\n",
    "plt.figure(1,(8,10))\n",
    "for gamma in np.arange(.36,.43,.01):\n",
    "    Ms,Ts=M_over_Ms(Tc,gamma)\n",
    "    Mo=Ms[0]\n",
    "    plt.plot(Ts/Tc,Ms/Mo,label=gamma,linestyle='dashed')\n",
    "plt.plot(data['T (C)']/Tc,data['M/Ms']/data['M/Ms'].values[0],'r-',linewidth=2,label='Data')\n",
    "plt.xlabel('T/Tc')\n",
    "plt.ylabel('M/M$_s$')\n",
    "\n",
    "\n",
    "plt.legend();"
   ]
  },
  {
   "cell_type": "markdown",
   "metadata": {
    "collapsed": true
   },
   "source": [
    "It looks like $\\gamma$ = 0.38 is the best fit to the data and the value of 0.43 cited by Dunlop and Ozdemir (1997) is off.  "
   ]
  }
 ],
 "metadata": {
  "kernelspec": {
   "display_name": "Python 3",
   "language": "python",
   "name": "python3"
  },
  "language_info": {
   "codemirror_mode": {
    "name": "ipython",
    "version": 3
   },
   "file_extension": ".py",
   "mimetype": "text/x-python",
   "name": "python",
   "nbconvert_exporter": "python",
   "pygments_lexer": "ipython3",
   "version": "3.7.0"
  }
 },
 "nbformat": 4,
 "nbformat_minor": 1
}
