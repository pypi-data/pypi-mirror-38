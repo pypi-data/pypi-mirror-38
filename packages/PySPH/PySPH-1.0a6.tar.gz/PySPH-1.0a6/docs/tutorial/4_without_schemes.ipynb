{
 "cells": [
  {
   "cell_type": "markdown",
   "metadata": {
    "deletable": true,
    "editable": true
   },
   "source": [
    "# PySPH Tutorial: without built-in schemes\n",
    "\n",
    "*Prabhu Ramachandran*\n",
    "\n",
    "-----\n",
    "\n",
    "## Recap\n",
    "\n",
    "- Looked at creating a simple problem\n",
    "- Saw how to use schemes and solve the elliptical drop example.\n",
    "- Looked at simple post-processing of the data.\n"
   ]
  },
  {
   "cell_type": "markdown",
   "metadata": {
    "deletable": true,
    "editable": true
   },
   "source": [
    "Schemes provide convenient pre-built particle interactions.\n",
    "\n",
    "So how do you do your own thing without schemes.\n",
    "\n",
    "Let us now do it in a more low-level way.  To do this one needs the following methods:\n",
    "\n",
    "- `create_particles(self)`\n",
    "- `create_equations(self)`\n",
    "- `create_solver(self)`"
   ]
  },
  {
   "cell_type": "code",
   "execution_count": null,
   "metadata": {
    "collapsed": false,
    "deletable": true,
    "editable": true
   },
   "outputs": [],
   "source": [
    "import numpy as np\n",
    "\n",
    "from pysph.solver.application import Application\n",
    "from pysph.base.utils import get_particle_array_wcsph\n",
    "\n",
    "class EllipticalDrop(Application):\n",
    "    def create_particles(self):\n",
    "        # ...\n",
    "        pass\n",
    "        \n",
    "    def create_equations(self):\n",
    "        pass\n",
    "    \n",
    "    def create_solver(self):\n",
    "        pass\n",
    "\n",
    "    \n",
    "if __name__ == '__main__':\n",
    "    app = EllipticalDrop()\n",
    "    app.run()"
   ]
  },
  {
   "cell_type": "markdown",
   "metadata": {
    "collapsed": true,
    "deletable": true,
    "editable": true
   },
   "source": [
    "### Exercise\n",
    "\n",
    "- Create an `ed_no_scheme.py` which uses this skeleton, copy over your completed `create_particles` method\n",
    "- Don't execute the example yet.\n",
    "\n",
    "Now, let us flesh out the other methods.  Add this code:\n"
   ]
  },
  {
   "cell_type": "code",
   "execution_count": null,
   "metadata": {
    "collapsed": false,
    "deletable": true,
    "editable": true
   },
   "outputs": [],
   "source": [
    "from pysph.sph.equation import Group\n",
    "from pysph.sph.basic_equations import XSPHCorrection, ContinuityEquation\n",
    "from pysph.sph.wc.basic import TaitEOS, MomentumEquation\n",
    "\n",
    "class EllipticalDrop(Application):\n",
    "    def create_equations(self):\n",
    "        equations = [\n",
    "            Group(\n",
    "                equations=[\n",
    "                    TaitEOS(dest='fluid', sources=None, rho0=1.0,\n",
    "                            c0=1400, gamma=7.0),\n",
    "                ],\n",
    "                real=False\n",
    "            ),\n",
    "\n",
    "            Group(\n",
    "                equations=[\n",
    "                    ContinuityEquation(dest='fluid',  sources=['fluid']),\n",
    "\n",
    "                    MomentumEquation(dest='fluid', sources=['fluid'],\n",
    "                                     alpha=0.1, beta=0.0, c0=1400),\n",
    "\n",
    "                    XSPHCorrection(dest='fluid', sources=['fluid']),\n",
    "                ]\n",
    "            ),\n",
    "        ]\n",
    "        return equations"
   ]
  },
  {
   "cell_type": "markdown",
   "metadata": {
    "deletable": true,
    "editable": true
   },
   "source": [
    "- Note that the `Group` allows one to group a set of equations together.\n",
    "- All equations in a group are completed first before going on to the next group.\n",
    "- Explore the different equations.\n",
    "- Note that we return a list of equations.\n",
    "\n",
    "\n",
    "Next we create the solver:"
   ]
  },
  {
   "cell_type": "code",
   "execution_count": null,
   "metadata": {
    "collapsed": true,
    "deletable": true,
    "editable": true
   },
   "outputs": [],
   "source": []
  },
  {
   "cell_type": "code",
   "execution_count": null,
   "metadata": {
    "collapsed": true,
    "deletable": true,
    "editable": true
   },
   "outputs": [],
   "source": [
    "from pysph.base.kernels import CubicSpline\n",
    "\n",
    "from pysph.solver.application import Application\n",
    "from pysph.solver.solver import Solver\n",
    "from pysph.sph.integrator import PECIntegrator\n",
    "from pysph.sph.integrator_step import WCSPHStep\n",
    "\n",
    "class EllipticalDrop(Application):\n",
    "    def create_solver(self):\n",
    "        kernel = CubicSpline(dim=2)\n",
    "\n",
    "        # Note that fluid is the name of the fluid particle array.\n",
    "        integrator = PECIntegrator(fluid=WCSPHStep())\n",
    "\n",
    "        dt = 5e-6\n",
    "        tf = 0.0076\n",
    "        solver = Solver(\n",
    "            kernel=kernel, dim=2, integrator=integrator,\n",
    "            dt=dt, tf=tf\n",
    "        )\n",
    "        return solver"
   ]
  },
  {
   "cell_type": "markdown",
   "metadata": {
    "deletable": true,
    "editable": true
   },
   "source": [
    "Let us understand the above a bit."
   ]
  },
  {
   "cell_type": "code",
   "execution_count": null,
   "metadata": {
    "collapsed": true,
    "deletable": true,
    "editable": true
   },
   "outputs": [],
   "source": [
    "from pysph.sph.integrator import EPECIntegrator"
   ]
  },
  {
   "cell_type": "code",
   "execution_count": null,
   "metadata": {
    "collapsed": true,
    "deletable": true,
    "editable": true
   },
   "outputs": [],
   "source": [
    "EPECIntegrator??"
   ]
  },
  {
   "cell_type": "markdown",
   "metadata": {
    "deletable": true,
    "editable": true
   },
   "source": [
    "#### Exercise\n",
    "\n",
    "- Now put everything together and get it working."
   ]
  },
  {
   "cell_type": "code",
   "execution_count": null,
   "metadata": {
    "collapsed": true
   },
   "outputs": [],
   "source": []
  },
  {
   "cell_type": "markdown",
   "metadata": {},
   "source": [
    "#### Solution\n",
    "\n",
    "If you are stuck, look at the solution below."
   ]
  },
  {
   "cell_type": "code",
   "execution_count": null,
   "metadata": {
    "collapsed": true,
    "deletable": true,
    "editable": true
   },
   "outputs": [],
   "source": [
    "%load solutions/ed_no_scheme.py"
   ]
  },
  {
   "cell_type": "code",
   "execution_count": null,
   "metadata": {
    "collapsed": true,
    "deletable": true,
    "editable": true
   },
   "outputs": [],
   "source": []
  },
  {
   "cell_type": "markdown",
   "metadata": {
    "deletable": true,
    "editable": true
   },
   "source": [
    "## Understanding equations\n",
    "\n",
    "Let us understand equations a little more.\n",
    "\n",
    "- Look at the `TaitEOS` class source\n",
    "- Look at the `ContinuityEquation` class source.\n",
    "\n",
    "- Understand the terms \"source\" and \"destination\"\n",
    "\n",
    "Note the following:\n",
    "\n",
    "- The methods `initialize`, `loop`, `post_loop` are called per-particle.\n",
    "    - `initialize`: iterates over the destination particles\n",
    "    - `loop`: iterates over the neighbors for each destination.\n",
    "    - `post_loop`: iterates over the destination.\n",
    "    \n",
    "- `d_*` refers to destination props\n",
    "- `s_*` refers to source props\n",
    "- `d_idx`, `s_idx`, refer to particle indices.\n"
   ]
  },
  {
   "cell_type": "code",
   "execution_count": null,
   "metadata": {
    "collapsed": true,
    "deletable": true,
    "editable": true
   },
   "outputs": [],
   "source": []
  },
  {
   "cell_type": "markdown",
   "metadata": {
    "deletable": true,
    "editable": true
   },
   "source": [
    "## Understanding integrators and steppers\n",
    "\n",
    "\n",
    "- Look at `PECIntegrator`\n",
    "- Look at `WCSPHStep`\n",
    "- Look at the `Solver` options.\n",
    "\n",
    "\n",
    "- Some useful solver options:\n",
    "\n",
    "    - kernel\n",
    "    - integrator\n",
    "    - dt, tf\n",
    "    - adaptive_timestep: bool\n",
    "    - cfl: float\n",
    "    - n_damp: int\n",
    "    - output_at_times: list\n",
    "\n",
    "- API docs: http://pysph.readthedocs.io/en/latest/reference/"
   ]
  },
  {
   "cell_type": "code",
   "execution_count": null,
   "metadata": {
    "collapsed": true,
    "deletable": true,
    "editable": true
   },
   "outputs": [],
   "source": []
  },
  {
   "cell_type": "code",
   "execution_count": null,
   "metadata": {
    "collapsed": true,
    "deletable": true,
    "editable": true
   },
   "outputs": [],
   "source": []
  },
  {
   "cell_type": "markdown",
   "metadata": {
    "deletable": true,
    "editable": true
   },
   "source": [
    "### Doing more\n",
    "\n",
    "Many other options in the `Application` class.\n",
    "\n",
    "- `add_user_options`: this is used to create additional user-defined command line arguments. The command line options are available in self.options and can be used in the other methods.\n",
    "- `consume_user_options`: this is called after the command line arguments are parsed, and can be optionally used to setup any variables that have been added by the user in add_user_options. Note that the method is called before the particles and solver etc. are created.\n",
    "- `create_domain`: this is used when a periodic domain is needed.\n",
    "- `create_inlet_outlet`: Override this to return any inlet an outlet objects. See the pysph.sph.simple_inlet_outlet module.\n",
    "\n",
    "See here:\n",
    "\n",
    "http://pysph.readthedocs.io/en/latest/reference/application.html#pysph.solver.application.Application\n"
   ]
  },
  {
   "cell_type": "code",
   "execution_count": null,
   "metadata": {
    "collapsed": true,
    "deletable": true,
    "editable": true
   },
   "outputs": [],
   "source": []
  }
 ],
 "metadata": {
  "kernelspec": {
   "display_name": "Python 2",
   "language": "python",
   "name": "python2"
  },
  "language_info": {
   "codemirror_mode": {
    "name": "ipython",
    "version": 2
   },
   "file_extension": ".py",
   "mimetype": "text/x-python",
   "name": "python",
   "nbconvert_exporter": "python",
   "pygments_lexer": "ipython2",
   "version": "2.7.11"
  }
 },
 "nbformat": 4,
 "nbformat_minor": 2
}
