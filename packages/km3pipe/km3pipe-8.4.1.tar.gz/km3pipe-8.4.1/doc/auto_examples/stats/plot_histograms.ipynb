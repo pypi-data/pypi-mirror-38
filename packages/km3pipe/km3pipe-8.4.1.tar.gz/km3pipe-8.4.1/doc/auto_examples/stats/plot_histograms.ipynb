{
  "cells": [
    {
      "cell_type": "code",
      "execution_count": null,
      "metadata": {
        "collapsed": false
      },
      "outputs": [],
      "source": [
        "%matplotlib inline"
      ]
    },
    {
      "cell_type": "markdown",
      "metadata": {},
      "source": [
        "\n# Histograms\n\n\nLoad a histogram from a file, plot it, draw random samples.\n\n"
      ]
    },
    {
      "cell_type": "code",
      "execution_count": null,
      "metadata": {
        "collapsed": false
      },
      "outputs": [],
      "source": [
        "from __future__ import absolute_import, print_function, division\n\n# Author: Moritz Lotze <mlotze@km3net.de>\n# License: BSD-3\n\nimport h5py\nimport matplotlib.pyplot as plt\nimport numpy as np\nimport scipy.stats\nimport seaborn as sns\n\nimport km3pipe.style.moritz    # noqa"
      ]
    },
    {
      "cell_type": "markdown",
      "metadata": {},
      "source": [
        "Load the histogram from a file.\na histogram is just bincounts + binlimits.\n\n"
      ]
    },
    {
      "cell_type": "code",
      "execution_count": null,
      "metadata": {
        "collapsed": false
      },
      "outputs": [],
      "source": [
        "filename = \"../data/hist_example.h5\"\n\nwith h5py.File(filename, 'r') as f:\n    counts = f['/hist/counts'][:]\n    binlims = f['/hist/binlims'][:]\n\nprint(counts)\nprint(counts.shape)\nprint(binlims)\nprint(binlims.shape)"
      ]
    },
    {
      "cell_type": "markdown",
      "metadata": {},
      "source": [
        "create a distribution object\n\n"
      ]
    },
    {
      "cell_type": "code",
      "execution_count": null,
      "metadata": {
        "collapsed": false
      },
      "outputs": [],
      "source": [
        "hist = scipy.stats.rv_histogram((counts, binlims))"
      ]
    },
    {
      "cell_type": "markdown",
      "metadata": {},
      "source": [
        "plot it\n\n"
      ]
    },
    {
      "cell_type": "code",
      "execution_count": null,
      "metadata": {
        "collapsed": false
      },
      "outputs": [],
      "source": [
        "# make an x axis for plotting\npadding = 3\nn_points = 10000\nx = np.linspace(binlims[0] - padding, binlims[-1] + padding, n_points)\n\nplt.plot(x, hist.pdf(x))"
      ]
    },
    {
      "cell_type": "markdown",
      "metadata": {},
      "source": [
        "plot the cumulative histogram\n\n"
      ]
    },
    {
      "cell_type": "code",
      "execution_count": null,
      "metadata": {
        "collapsed": false
      },
      "outputs": [],
      "source": [
        "plt.plot(x, hist.cdf(x))"
      ]
    },
    {
      "cell_type": "markdown",
      "metadata": {},
      "source": [
        "sample from the histogram (aka draw random variates)\n\n"
      ]
    },
    {
      "cell_type": "code",
      "execution_count": null,
      "metadata": {
        "collapsed": false
      },
      "outputs": [],
      "source": [
        "n_sample = 30\nsample = hist.rvs(size=n_sample)"
      ]
    },
    {
      "cell_type": "markdown",
      "metadata": {},
      "source": [
        "let's plot it (use seaborn to plot the data points as small vertical bars)\n\n"
      ]
    },
    {
      "cell_type": "code",
      "execution_count": null,
      "metadata": {
        "collapsed": false
      },
      "outputs": [],
      "source": [
        "plt.hist(sample, bins='auto', alpha=.5)\nsns.rugplot(sample, color='k', linewidth=3)"
      ]
    }
  ],
  "metadata": {
    "kernelspec": {
      "display_name": "Python 3",
      "language": "python",
      "name": "python3"
    },
    "language_info": {
      "codemirror_mode": {
        "name": "ipython",
        "version": 3
      },
      "file_extension": ".py",
      "mimetype": "text/x-python",
      "name": "python",
      "nbconvert_exporter": "python",
      "pygments_lexer": "ipython3",
      "version": "3.6.4"
    }
  },
  "nbformat": 4,
  "nbformat_minor": 0
}