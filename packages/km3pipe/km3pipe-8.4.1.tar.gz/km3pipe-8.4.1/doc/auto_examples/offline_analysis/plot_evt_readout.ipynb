{
  "cells": [
    {
      "cell_type": "code",
      "execution_count": null,
      "metadata": {
        "collapsed": false
      },
      "outputs": [],
      "source": [
        "%matplotlib inline"
      ]
    },
    {
      "cell_type": "markdown",
      "metadata": {},
      "source": [
        "\n# Reading and Parsing EVT files\n\n\nThis example shows how to read and parse EVT files, which are used in our\nMonte Carlo productions.\n\n"
      ]
    },
    {
      "cell_type": "code",
      "execution_count": null,
      "metadata": {
        "collapsed": false
      },
      "outputs": [],
      "source": [
        "from __future__ import absolute_import, print_function, division\n\n# Author: Tamas Gal <tgal@km3net.de>, Moritz Lotze >mlotze@km3net.de>\n# License: BSD-3\nimport matplotlib.pyplot as plt\nimport numpy as np\n\nfrom km3modules.common import StatusBar\nfrom km3pipe import Module, Pipeline\nfrom km3pipe.dataclasses import Table\nfrom km3pipe.calib import Calibration\nfrom km3pipe.io import EvtPump\nfrom km3pipe.math import pld3\nimport km3pipe.style\n\nkm3pipe.style.use(\"km3pipe\")\n\nfilename = \"../data/numu_cc.evt\"\ndetx = \"../data/km3net_jul13_90m_r1494_corrected.detx\"\n\n\nclass VertexHitDistanceCalculator(Module):\n    \"\"\"Calculate vertex-hit-distances\"\"\"\n\n    def configure(self):\n        self.distances = []\n\n    def process(self, blob):\n        tracks = blob['TrackIns']\n        muons = tracks[tracks.type == 5]\n        muon = Table(muons[np.argmax(muons.energy)])\n        hits = blob['CalibHits']\n        dist = pld3(hits.pos, muon.pos, muon.dir)\n        self.distances.append(dist)\n        return blob\n\n    def finish(self):\n        dist_flat = np.concatenate(self.distances)\n        plt.hist(dist_flat)\n        plt.savefig('dists.pdf')\n\n\npipe = Pipeline()\npipe.attach(EvtPump, filename=filename, parsers=['km3'])\npipe.attach(StatusBar, every=100)\npipe.attach(Calibration, filename=detx)\npipe.attach(VertexHitDistanceCalculator)\npipe.drain(5)"
      ]
    }
  ],
  "metadata": {
    "kernelspec": {
      "display_name": "Python 3",
      "language": "python",
      "name": "python3"
    },
    "language_info": {
      "codemirror_mode": {
        "name": "ipython",
        "version": 3
      },
      "file_extension": ".py",
      "mimetype": "text/x-python",
      "name": "python",
      "nbconvert_exporter": "python",
      "pygments_lexer": "ipython3",
      "version": "3.6.4"
    }
  },
  "nbformat": 4,
  "nbformat_minor": 0
}