{
  "cells": [
    {
      "cell_type": "code",
      "execution_count": null,
      "metadata": {
        "collapsed": false
      },
      "outputs": [],
      "source": [
        "%matplotlib inline"
      ]
    },
    {
      "cell_type": "markdown",
      "metadata": {},
      "source": [
        "\n# Trigger Contributions\n\n\nShows the median trigger contribution for each DOM.\nThis script can be used to easily identify DOMs in a run, which are out\nof sync.\n\n\n"
      ]
    },
    {
      "cell_type": "code",
      "execution_count": null,
      "metadata": {
        "collapsed": false
      },
      "outputs": [],
      "source": [
        "from __future__ import absolute_import, print_function, division\n\nfrom collections import defaultdict\nimport sys\nimport numpy as np\nimport km3pipe as kp\nfrom km3modules.common import StatusBar\n\nif len(sys.argv) == 2:\n    filename = sys.argv[1]\nelse:\n    raise SystemExit(\"Usage: trigger_contribution.py FILENAME\")\n\ndet = kp.hardware.Detector(det_id=29)\nlog = kp.logger.get_logger('TriggerContribution')\n\n\nclass TriggerContributionCalculator(kp.Module):\n    \"\"\"Shows the mean trigger contribution for each DOM\"\"\"\n\n    def configure(self):\n        self.dus = self.get(\"dus\")    # only select DOMs on these DUs\n        self.trigger_contributions = defaultdict(list)\n        self.n_events = 0\n\n    def process(self, blob):\n        hits = blob['Hits'].triggered_rows\n        n_hits = len(hits)\n        dom_ids = np.unique(hits.dom_id)\n        for dom_id in dom_ids:\n            trigger_contribution = np.sum(hits.dom_id == dom_id) / n_hits\n            self.trigger_contributions[dom_id].append(trigger_contribution)\n        self.n_events += 1\n        return blob\n\n    def finish(self):\n        print(\n            \"{}\\n{:>12}  {:>4} {:>4}  {:>12}\\n{}\".format(\n                \"=\" * 42, \"DOM ID\", \"du\", \"floor\", \"trig. contr.\", \"-\" * 42\n            )\n        )\n        summary = []\n        for dom_id, trigger_contribution in self.trigger_contributions.items():\n            du, floor = omkey(dom_id)\n            mean_tc = np.sum(trigger_contribution) / self.n_events\n            summary.append(((du, floor), dom_id, mean_tc))\n        for (du, floor), dom_id, mean_tc in sorted(summary):\n            print(\n                \"{:>12}  {:>4} {:>4}  {:>12.2f}%\".format(\n                    dom_id, du, floor, mean_tc * 100\n                )\n            )\n\n        dom_ids = set(det.doms.keys())\n        if self.dus is not None:\n            log.warning(\n                \"Showing only DOMs which are on the following DUs: {}\"\n                .format(', '.join(str(du) for du in self.dus))\n            )\n            dom_ids = set(d for d in dom_ids if det.doms[d][0] in self.dus)\n\n        inactive_doms = []\n        for dom_id in set(dom_ids) - set(self.trigger_contributions.keys()):\n            inactive_doms.append(dom_id)\n        if inactive_doms:\n            print(\"The following DOMs were inactive:\")\n            for dom_id in inactive_doms:\n                print(\"{}_(DU{}-{})\".format(dom_id, *omkey(dom_id)), end=' ')\n\n\ndef omkey(dom_id):\n    \"\"\"Returns (du, floor) for given DOM ID\"\"\"\n    return det.doms[dom_id][0:2]\n\n\npipe = kp.Pipeline()\npipe.attach(kp.io.jpp.EventPump, filename=filename)\npipe.attach(StatusBar, every=5000)\npipe.attach(TriggerContributionCalculator, dus=[2])\npipe.drain()"
      ]
    }
  ],
  "metadata": {
    "kernelspec": {
      "display_name": "Python 3",
      "language": "python",
      "name": "python3"
    },
    "language_info": {
      "codemirror_mode": {
        "name": "ipython",
        "version": 3
      },
      "file_extension": ".py",
      "mimetype": "text/x-python",
      "name": "python",
      "nbconvert_exporter": "python",
      "pygments_lexer": "ipython3",
      "version": "3.6.4"
    }
  },
  "nbformat": 4,
  "nbformat_minor": 0
}