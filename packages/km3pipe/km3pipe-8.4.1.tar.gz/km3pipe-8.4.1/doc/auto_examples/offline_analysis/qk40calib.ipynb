{
  "cells": [
    {
      "cell_type": "code",
      "execution_count": null,
      "metadata": {
        "collapsed": false
      },
      "outputs": [],
      "source": [
        "%matplotlib inline"
      ]
    },
    {
      "cell_type": "markdown",
      "metadata": {},
      "source": [
        "\n# K40 Calibration Batch Processing\n\n\nStandalone job submitter for K40 offline calibrations with KM3Pipe.\n\n.. code-block:: console\n\n    Usage:\n        qk40calib.py OUTPUT_PATH [options]\n        qk40calib.py (-h | --help)\n\n    Options:\n        OUTPUT_PATH  Folder to store the calibration data.\n        -d DET_ID    Detector ID [default: 29].\n        -t TMAX      Coincidence time window [default: 10].\n        -n N_RUNS    Number of runs to process per job [default: 10].\n        -e ET        Estimated walltime per run in minutes [default: 8].\n        -m VMEM      Estimated vmem for a job [default: 8G].\n        -s RUNSETUP  Match [default: PHYS.1710v5-TUNED.HRV19.3D_T_S_MX.NBMODULE].\n        -j JOBNAME   The name of the submitted jobs [default: k40calib].\n        -l LOG_PATH  Path of the job log files [default: qlogs].\n        -q           Dryrun: don't submit jobs, just print the first job script.\n        -h --help    Show this screen.\n\n\n"
      ]
    },
    {
      "cell_type": "code",
      "execution_count": null,
      "metadata": {
        "collapsed": false
      },
      "outputs": [],
      "source": [
        "from __future__ import absolute_import, print_function, division\n\nimport os\nimport re\nfrom glob import glob\nimport time\nfrom km3pipe.shell import qsub, Script\nimport km3pipe as kp\nfrom docopt import docopt\n\n\ndef main():\n    args = docopt(__doc__)\n\n    DET_ID = int(args['-d'])\n    TMAX = int(args['-t'])\n    ET_PER_RUN = int(args['-e']) * 60    # [s]\n    RUNS_PER_JOB = int(args['-n'])\n    VMEM = args['-m']\n    CWD = os.getcwd()\n    LOG_PATH = args['-l']\n    JOB_NAME = args['-j']\n    CALIB_PATH = os.path.join(CWD, args['OUTPUT_PATH'])\n    RUN_SUBSTR = args['-s']\n    DRYRUN = args['-q']\n\n    if not os.path.exists(CALIB_PATH):\n        os.makedirs(CALIB_PATH)\n\n    db = kp.db.DBManager()\n    run_table = db.run_table(det_id=DET_ID)\n    phys_run_table = run_table[run_table.RUNSETUPNAME.str.contains(RUN_SUBSTR)]\n    phys_runs = set(phys_run_table.RUN)\n    processed_runs = set(\n        int(re.search(\"_\\\\d{8}_(\\\\d{8})\", s).group(1))\n        for s in glob(os.path.join(CALIB_PATH, '*.k40_cal.p'))\n    )\n    remaining_runs = list(phys_runs - processed_runs)\n    print(\"Remaining runs: {}\".format(remaining_runs))\n    s = Script()\n\n    for job_id, runs_chunk in enumerate(kp.tools.chunks(remaining_runs,\n                                                        RUNS_PER_JOB)):\n        n_runs = len(runs_chunk)\n        print(\n            \"Preparing batch script for a chunk of {} runs.\".format(\n                len(runs_chunk)\n            )\n        )\n        s.add(\"cd $TMPDIR; mkdir -p $USER; cd $USER\")\n        for run in runs_chunk:\n            s.add(\"echo Processing {}:\".format(run))\n            irods_path = kp.tools.irods_filepath(DET_ID, run)\n            root_filename = os.path.basename(irods_path)\n            calib_filename = root_filename + '.k40_cal.p'\n            s.add(\"iget -v {}\".format(irods_path))\n            s.add(\n                \"CTMIN=$(JPrint -f {}|grep '^ctMin'|awk '{{print $2}}')\"\n                .format(root_filename)\n            )\n            s.add(\n                \"k40calib {} {} -t {} -c $CTMIN -o {}\".format(\n                    root_filename, DET_ID, TMAX, calib_filename\n                )\n            )\n            s.add(\"cp {} {}\".format(calib_filename, CALIB_PATH))\n            s.add(\"rm -f {}\".format(root_filename))\n            s.add(\"rm -f {}\".format(calib_filename))\n            s.add(\"echo Run {} processed.\".format(run))\n            s.add(\"echo \" + 42 * \"=\")\n\n        walltime = time.strftime('%H:%M:%S', time.gmtime(ET_PER_RUN * n_runs))\n        qsub(\n            s,\n            '{}_{}'.format(JOB_NAME, job_id),\n            walltime=walltime,\n            vmem=VMEM,\n            log_path=LOG_PATH,\n            irods=True,\n            dryrun=DRYRUN\n        )\n\n        if DRYRUN:\n            break\n\n        s.clear()\n\n\nif __name__ == '__main__':\n    main()"
      ]
    }
  ],
  "metadata": {
    "kernelspec": {
      "display_name": "Python 3",
      "language": "python",
      "name": "python3"
    },
    "language_info": {
      "codemirror_mode": {
        "name": "ipython",
        "version": 3
      },
      "file_extension": ".py",
      "mimetype": "text/x-python",
      "name": "python",
      "nbconvert_exporter": "python",
      "pygments_lexer": "ipython3",
      "version": "3.6.4"
    }
  },
  "nbformat": 4,
  "nbformat_minor": 0
}