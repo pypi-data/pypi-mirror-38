{
  "cells": [
    {
      "cell_type": "code",
      "execution_count": null,
      "metadata": {
        "collapsed": false
      },
      "outputs": [],
      "source": [
        "%matplotlib inline"
      ]
    },
    {
      "cell_type": "markdown",
      "metadata": {},
      "source": [
        "\n# ROyPrefit batch script\n\n\nApply the ROyPrefit to a set of files.\n\nUsage:\n    qprefit.py PATH OUTPUT_PATH [options] FITTER\n    qprefit.py (-h | --help)\n\nOptions:\n    PATH         Path to the files.\n    FITTER       The fitter script, which will be called with the filepath.\n    OUTPUT_PATH  Path to store the prefit summary CSV files.\n    -x SUFFIX    Suffix to append to the output file [default: .royprefit.csv].\n    -n N_FILES   Number of files to process per job [default: 20].\n    -e ET        Estimated walltime per file in minutes [default: 3].\n    -m VMEM      Estimated vmem for a job [default: 8G].\n    -j JOBNAME   The name of the submitted jobs [default: royprefit].\n    -l LOG_PATH  Path of the job log files [default: qlogs].\n    -q           Dryrun: don't submit jobs, just print the first job script.\n    -h --help    Show this screen.\n\n\n"
      ]
    },
    {
      "cell_type": "code",
      "execution_count": null,
      "metadata": {
        "collapsed": false
      },
      "outputs": [],
      "source": [
        "from __future__ import absolute_import, print_function, division\n\nfrom glob import glob\nimport os\nfrom os.path import basename, join, abspath\nimport time\nimport km3pipe as kp\nfrom km3pipe.tools import chunks\n\n__author__ = \"Tamas Gal\"\n__email__ = \"tgal@km3net.de\"\n__version__ = \"1.0\"\n\n\ndef mkdir(path):\n    \"\"\"Create folder if it does not exist.\"\"\"\n    if not os.path.exists(path):\n        os.makedirs(path)\n\n\ndef main():\n    from docopt import docopt\n    args = docopt(__doc__, version=__version__)\n\n    CWD = os.getcwd()\n    FITTER = abspath(args['FITTER'])\n    PATH = abspath(args['PATH'])\n    OUTPUT_PATH = join(CWD, args['OUTPUT_PATH'])\n    SUFFIX = args['-x']\n    ET_PER_FILE = int(args['-e']) * 60    # [s]\n    FILES_PER_JOB = int(args['-n'])\n    VMEM = args['-m']\n    LOG_PATH = args['-l']\n    JOB_NAME = args['-j']\n    DRYRUN = args['-q']\n\n    mkdir(OUTPUT_PATH)\n\n    files = glob(join(PATH, \"*.h5\"))\n    summaries = [\n        basename(f)[:-len(SUFFIX)]\n        for f in glob(join(OUTPUT_PATH, '*' + SUFFIX))\n    ]\n    rem_files = list(set(basename(f) for f in files) - set(summaries))\n\n    print(\"{} files in total\".format(len(files)))\n    print(\"{} files to be fitted.\".format(len(rem_files)))\n\n    s = kp.shell.Script()\n\n    for job_id, file_chunk in enumerate(chunks(rem_files, FILES_PER_JOB)):\n        n_files = len(file_chunk)\n        s.add(\"echo 'ROyPrefitting {} files'\".format(n_files))\n        s.add(\"cd $TMPDIR; mkdir -p $USER; cd $USER\")\n        s.add(\"echo\")\n\n        for fname in file_chunk:\n            fpath = join(PATH, fname)\n            oname = fname + SUFFIX\n            opath = join(OUTPUT_PATH, oname)\n            s.add(\"echo '\" + 42 * \"=\" + \"'\")\n            s.add(\"echo Processing {}:\".format(fname))\n            s.add(\"{} {}\".format(FITTER, fpath))\n            s.add(\"cp {} {}\".format(oname, OUTPUT_PATH))\n            s.add(\"echo File '{}' fitted.\".format(fname))\n            s.add(\"echo '\" + 42 * \"=\" + \"'\")\n\n        walltime = time.strftime(\n            '%H:%M:%S', time.gmtime(ET_PER_FILE * n_files)\n        )\n\n        kp.shell.qsub(\n            s,\n            '{}_{}'.format(JOB_NAME, job_id),\n            walltime=walltime,\n            vmem=VMEM,\n            log_path=LOG_PATH,\n            irods=True,\n            dryrun=DRYRUN\n        )\n\n        if DRYRUN:\n            break\n\n        s.clear()\n\n\nif __name__ == \"__main__\":\n    main()"
      ]
    }
  ],
  "metadata": {
    "kernelspec": {
      "display_name": "Python 3",
      "language": "python",
      "name": "python3"
    },
    "language_info": {
      "codemirror_mode": {
        "name": "ipython",
        "version": 3
      },
      "file_extension": ".py",
      "mimetype": "text/x-python",
      "name": "python",
      "nbconvert_exporter": "python",
      "pygments_lexer": "ipython3",
      "version": "3.6.4"
    }
  },
  "nbformat": 4,
  "nbformat_minor": 0
}