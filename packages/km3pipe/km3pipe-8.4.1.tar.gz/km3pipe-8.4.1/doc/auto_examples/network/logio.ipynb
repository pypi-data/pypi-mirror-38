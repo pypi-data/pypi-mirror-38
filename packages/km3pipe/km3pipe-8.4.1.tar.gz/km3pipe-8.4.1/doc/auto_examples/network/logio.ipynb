{
  "cells": [
    {
      "cell_type": "code",
      "execution_count": null,
      "metadata": {
        "collapsed": false
      },
      "outputs": [],
      "source": [
        "%matplotlib inline"
      ]
    },
    {
      "cell_type": "markdown",
      "metadata": {},
      "source": [
        "\n=============\nLog.io Module\n=============\n\nA module to send live log messages to a log.io server.\n\n"
      ]
    },
    {
      "cell_type": "code",
      "execution_count": null,
      "metadata": {
        "collapsed": false
      },
      "outputs": [],
      "source": [
        "from __future__ import absolute_import, print_function, division\n\n# Author: Tamas Gal <tgal@km3net.de>\n# License: MIT\nimport socket\n\nfrom km3pipe import Pipeline, Module\nfrom km3pipe.pumps import CHPump\n\n\nclass LogIO(Module):\n    def configure(self):\n        url = 'pi2089.physik.uni-erlangen.de'\n        port = 28777\n\n        self.sock = socket.socket(socket.AF_INET, socket.SOCK_STREAM)\n        self.sock.connect((url, port))\n\n    def process(self, blob):\n        data = blob['CHData']\n        log_level = 'info'\n        if \"ERROR\" in data:\n            log_level = 'error'\n        if \"WARNING\" in data:\n            log_level = 'warning'\n        source = \"Other\"\n        if \" F0\" in data:\n            source = \"DataFilter\"\n        if \" Q0\" in data:\n            source = \"DataQueue\"\n        if \" W0\" in data:\n            source = \"DataWriter\"\n        self.sock.send(\n            \"+log|{0}|Portopalo DAQ|{1}|{2}\\r\\n\".format(\n                source, log_level, data\n            )\n        )\n        return blob\n\n    def finish(self):\n        self.sock.close()\n\n\npipe = Pipeline()\npipe.attach(\n    CHPump,\n    host='127.0.0.1',\n    port=5553,\n    tags='MSG',\n    timeout=60 * 60 * 24,\n    max_queue=500\n)\npipe.attach(LogIO)\npipe.drain()"
      ]
    }
  ],
  "metadata": {
    "kernelspec": {
      "display_name": "Python 3",
      "language": "python",
      "name": "python3"
    },
    "language_info": {
      "codemirror_mode": {
        "name": "ipython",
        "version": 3
      },
      "file_extension": ".py",
      "mimetype": "text/x-python",
      "name": "python",
      "nbconvert_exporter": "python",
      "pygments_lexer": "ipython3",
      "version": "3.6.4"
    }
  },
  "nbformat": 4,
  "nbformat_minor": 0
}