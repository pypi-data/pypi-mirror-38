{
  "cells": [
    {
      "cell_type": "code",
      "execution_count": null,
      "metadata": {
        "collapsed": false
      },
      "outputs": [],
      "source": [
        "%matplotlib inline"
      ]
    },
    {
      "cell_type": "markdown",
      "metadata": {},
      "source": [
        "\n# Mean PMT Rates Monitor\n\n\nThe following script calculates the mean PMT rates and updates the plot.\n\n\n"
      ]
    },
    {
      "cell_type": "code",
      "execution_count": null,
      "metadata": {
        "collapsed": false
      },
      "outputs": [],
      "source": [
        "from __future__ import absolute_import, print_function, division\n\n# Author: Tamas Gal <tgal@km3net.de>\n# License: MIT\nfrom datetime import datetime\nimport io\nfrom collections import defaultdict\nimport threading\nimport time\nimport km3pipe as kp\nfrom km3pipe.io.daq import TMCHData\nimport numpy as np\nimport matplotlib\nmatplotlib.use('Agg')    # noqa\nimport matplotlib.pyplot as plt\nimport km3pipe.style as kpst\nkpst.use(\"km3pipe\")\n\n__author__ = \"Tamas Gal\"\n__email__ = \"tgal@km3net.de\"\nVERSION = \"1.0\"\n\nlog = kp.logger.get_logger(\"PMTrates\")\n\n\nclass PMTRates(kp.Module):\n    def configure(self):\n        self.detector = self.require(\"detector\")\n        self.du = self.require(\"du\")\n        self.interval = self.get(\"interval\") or 10\n        self.plot_path = self.get(\"plot_path\") or \"km3web/plots/pmtrates.png\"\n        self.max_x = 800\n        self.index = 0\n        self.rates = defaultdict(list)\n        self.rates_matrix = np.full((18 * 31, self.max_x), np.nan)\n        self.lock = threading.Lock()\n        self.thread = threading.Thread(target=self.run, args=())\n        self.thread.daemon = True\n        self.thread.start()\n\n    def run(self):\n        interval = self.interval\n        while True:\n            time.sleep(interval)\n            now = datetime.now()\n            self.add_column()\n            self.update_plot()\n            with self.lock:\n                self.rates = defaultdict(list)\n            delta_t = (datetime.now() - now).total_seconds()\n            remaining_t = self.interval - delta_t\n            log.info(\n                \"Delta t: {} -> waiting for {}s\".format(\n                    delta_t, self.interval - delta_t\n                )\n            )\n            if (remaining_t < 0):\n                log.error(\n                    \"Can't keep up with plot production. \"\n                    \"Increase the interval!\"\n                )\n                interval = 1\n            else:\n                interval = remaining_t\n\n    def add_column(self):\n        m = np.roll(self.rates_matrix, -1, 1)\n        y_range = 18 * 31\n        mean_rates = np.full(y_range, np.nan)\n        for i in range(y_range):\n            if i not in self.rates:\n                continue\n            mean_rates[i] = np.mean(self.rates[i])\n\n        m[:, self.max_x - 1] = mean_rates\n        self.rates_matrix = m\n\n    def update_plot(self):\n        print(\"Updating plot at {}\".format(self.plot_path))\n        now = time.time()\n        max_x = self.max_x\n        interval = self.interval\n\n        def xlabel_func(timestamp):\n            return datetime.utcfromtimestamp(timestamp).strftime(\"%H:%M\")\n\n        m = self.rates_matrix\n        m[m > 15000] = 15000\n        m[m < 5000] = 5000\n        fig, ax = plt.subplots(figsize=(10, 6))\n        ax.imshow(m, origin='lower')\n        ax.set_title(\n            \"Mean PMT Rates for DU{} (colours from 5kHz to 15kHz)\\n{}\"\n            .format(self.du, datetime.utcnow())\n        )\n        ax.set_xlabel(\"UTC time [{}s/px]\".format(interval))\n        plt.yticks([i * 31 for i in range(18)],\n                   [\"Floor {}\".format(f) for f in range(1, 19)])\n        xtics_int = range(0, max_x, int(max_x / 10))\n        plt.xticks([i for i in xtics_int],\n                   [\n                       xlabel_func(now - (max_x - i) * interval)\n                       for i in xtics_int\n                   ])\n        fig.tight_layout()\n        plt.savefig(self.plot_path)\n        plt.close('all')\n\n    def process(self, blob):\n        tmch_data = TMCHData(io.BytesIO(blob['CHData']))\n        dom_id = tmch_data.dom_id\n\n        if dom_id not in self.detector.doms:\n            return blob\n\n        du, floor, _ = self.detector.doms[dom_id]\n\n        if du != self.du:\n            return blob\n\n        y_base = (floor - 1) * 31\n\n        for channel_id, rate in enumerate(tmch_data.pmt_rates):\n            idx = y_base + channel_id\n            with self.lock:\n                self.rates[idx].append(rate)\n\n        return blob\n\n\ndef main():\n    detector = kp.hardware.Detector(det_id=29)\n    pipe = kp.Pipeline(timeit=True)\n    pipe.attach(\n        kp.io.CHPump,\n        host='192.168.0.110',\n        port=5553,\n        tags='IO_MONIT',\n        timeout=60 * 60 * 24 * 7,\n        max_queue=1000\n    )\n    pipe.attach(PMTRates, detector=detector, du=2, interval=2)\n    pipe.drain()\n\n\nif __name__ == \"__main__\":\n    main()"
      ]
    }
  ],
  "metadata": {
    "kernelspec": {
      "display_name": "Python 3",
      "language": "python",
      "name": "python3"
    },
    "language_info": {
      "codemirror_mode": {
        "name": "ipython",
        "version": 3
      },
      "file_extension": ".py",
      "mimetype": "text/x-python",
      "name": "python",
      "nbconvert_exporter": "python",
      "pygments_lexer": "ipython3",
      "version": "3.6.4"
    }
  },
  "nbformat": 4,
  "nbformat_minor": 0
}