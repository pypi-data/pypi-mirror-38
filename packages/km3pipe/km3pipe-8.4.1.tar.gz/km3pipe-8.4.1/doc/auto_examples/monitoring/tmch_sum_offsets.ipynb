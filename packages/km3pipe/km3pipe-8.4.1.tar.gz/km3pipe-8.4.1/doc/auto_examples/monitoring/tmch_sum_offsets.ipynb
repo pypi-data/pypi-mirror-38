{
  "cells": [
    {
      "cell_type": "code",
      "execution_count": null,
      "metadata": {
        "collapsed": false
      },
      "outputs": [],
      "source": [
        "%matplotlib inline"
      ]
    },
    {
      "cell_type": "markdown",
      "metadata": {},
      "source": [
        "\n# Check consistency of monitoring channel and TDC times\n\n\nThis script picks a monitoring channel packet with no HRV flags for any PMT\nand tries to match one of the following 50 summaryslices using the PMT rates.\nThe index of the summaryslice, the rates-diff and the time offsets are logged\nin a CSV file.\n\n.. code-block:: bash\n\n    Usage:\n        tmch_sum_offsets.py DOM_ID [-n N_TIMESLICES]\n        tmch_sum_offsets.py (-h | --help)\n\n    Options:\n        DOM_ID           The DOM ID.\n        -n N_TIMESLICES  The number of timeslices to investigate [default: 50].\n        -h --help        Show this screen.\n\n\n"
      ]
    },
    {
      "cell_type": "code",
      "execution_count": null,
      "metadata": {
        "collapsed": false
      },
      "outputs": [],
      "source": [
        "from __future__ import absolute_import, print_function, division\n\nimport io\nimport os\nimport km3pipe as kp\nfrom km3pipe.io.daq import TMCHData, DAQPreamble, DAQSummaryslice\nimport numpy as np\n\n__author__ = \"Tamas Gal\"\n__email__ = \"tgal@km3net.de\"\nVERSION = \"1.0\"\n\nlog = kp.logger.get_logger(\"tmch_sum_offsets\")\n\n\nclass MonitoringChannelPicker(kp.Module):\n    \"\"\"Picks a monitoring channel packet with no HRV for a given DOM\"\"\"\n\n    def configure(self):\n        self.dom_id = self.require(\"dom_id\")\n\n    def process(self, blob):\n        if not self.services['SummarysliceFound']():\n            return blob\n        tag = str(blob['CHPrefix'].tag)\n        if tag == 'IO_MONIT':\n            tmch_data = TMCHData(io.BytesIO(blob['CHData']))\n            dom_id = tmch_data.dom_id\n            if dom_id != self.dom_id or tmch_data.hrvbmp > 0:\n                log.info(\"Skipping TMCH packet due to HRV flags\")\n                return blob\n            blob['Candidate'] = tmch_data\n            print(\"Next IO_MONIT candidate picked.\")\n        return blob\n\n\nclass SummarysliceMatcher(kp.Module):\n    def configure(self):\n        self.dom_id = self.require(\"dom_id\")\n        self.n_timeslices = self.get(\"n_timeslices\", default=50)\n        self.expose(self.io_sum_found, 'SummarysliceFound')\n        self._candidate = None\n        self._rates_io_monit = None\n        self._reset()\n\n        filename = \"tmch_sum_offsets_{}.csv\".format(self.dom_id)\n        self.fobj = self._get_file_handler(filename)\n\n    def _reset(self):\n        self._io_sum_found = True\n        self._diff = []\n        self._summaries = []\n        self.i = 0\n\n    def _get_file_handler(self, filename):\n        if not os.path.exists(filename):\n            fobj = open(filename, 'w')\n            fobj.write(\n                \"run dom_id nearest_idx diff \"\n                \"tmch_timestamp tmch_ns \"\n                \"summary_timestamp summary_ns\\n\"\n            )\n        else:\n            fobj = open(filename, 'a')\n        return fobj\n\n    def process(self, blob):\n        if 'Candidate' in blob:\n            print(\"Searching for new IO_SUM candidate\")\n            self._io_sum_found = False\n            self._candidate = blob['Candidate']\n            self._rates_io_monit = np.array(self._candidate.pmt_rates)\n\n        if self._candidate is None:\n            return blob\n\n        tag = str(blob['CHPrefix'].tag)\n        if tag == 'IO_SUM':\n            data = io.BytesIO(blob['CHData'])\n            preamble = DAQPreamble(file_obj=data)    # noqa\n            summary = DAQSummaryslice(file_obj=data)\n            try:\n                rates = np.array(summary.summary_frames[self.dom_id])\n            except KeyError:\n                print(\"No DOM data in summaryslice, skipping...\")\n                return blob\n            self.i += 1\n            diff = np.sum(np.abs(self._rates_io_monit) - np.abs(rates))\n            self._diff.append(diff)\n            self._summaries.append(summary)\n\n            if self.i > self.n_timeslices:\n                print(\"Trying to match a summaryslice.\")\n                idx_nearest = (np.abs(self._diff)).argmin()\n                summary = self._summaries[idx_nearest]\n                print(\n                    \"min\", min(self._diff), \"max\", max(self._diff), \"nearest\",\n                    self._diff[idx_nearest]\n                )\n                print(self._rates_io_monit)\n                print(summary.summary_frames[self.dom_id])\n                print(\n                    \"Time of IO_MONIT:\", self._candidate.utc_seconds,\n                    self._candidate.nanoseconds\n                )\n                print(\n                    \"Time of IO_SUM:\", summary.header.time_stamp,\n                    summary.header.ticks * 16\n                )\n                self.fobj.write(\n                    \"{} {} {} {} {} {} {} {}\\n\".format(\n                        self._candidate.run, self.dom_id, idx_nearest,\n                        self._diff[idx_nearest], self._candidate.utc_seconds,\n                        self._candidate.nanoseconds, summary.header.time_stamp,\n                        summary.header.ticks * 16\n                    )\n                )\n                self._reset()\n                self.fobj.flush()\n        return blob\n\n    def io_sum_found(self):\n        \"\"\"Service which tells if we are ready for the next TMCH packet\"\"\"\n        return self._io_sum_found\n\n    def finish(self):\n        self.fobj.close()\n\n\ndef main():\n    from docopt import docopt\n    args = docopt(__doc__)\n\n    dom_id = int(args['DOM_ID'])\n\n    pipe = kp.Pipeline(timeit=True)\n    pipe.attach(\n        kp.io.CHPump,\n        host='127.0.0.1',\n        port=5553,\n        tags='IO_SUM, IO_MONIT',\n        timeout=60 * 60 * 24 * 7,\n        max_queue=1000\n    )\n    pipe.attach(MonitoringChannelPicker, dom_id=dom_id)\n    pipe.attach(\n        SummarysliceMatcher, dom_id=dom_id, n_timeslices=int(args['-n'])\n    )\n    pipe.drain()\n\n\nif __name__ == \"__main__\":\n    main()"
      ]
    }
  ],
  "metadata": {
    "kernelspec": {
      "display_name": "Python 3",
      "language": "python",
      "name": "python3"
    },
    "language_info": {
      "codemirror_mode": {
        "name": "ipython",
        "version": 3
      },
      "file_extension": ".py",
      "mimetype": "text/x-python",
      "name": "python",
      "nbconvert_exporter": "python",
      "pygments_lexer": "ipython3",
      "version": "3.6.4"
    }
  },
  "nbformat": 4,
  "nbformat_minor": 0
}