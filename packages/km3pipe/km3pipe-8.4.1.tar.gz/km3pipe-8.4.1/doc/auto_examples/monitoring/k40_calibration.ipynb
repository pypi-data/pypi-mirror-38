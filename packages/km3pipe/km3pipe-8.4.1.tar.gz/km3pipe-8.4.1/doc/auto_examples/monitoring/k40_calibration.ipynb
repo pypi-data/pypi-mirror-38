{
  "cells": [
    {
      "cell_type": "code",
      "execution_count": null,
      "metadata": {
        "collapsed": false
      },
      "outputs": [],
      "source": [
        "%matplotlib inline"
      ]
    },
    {
      "cell_type": "markdown",
      "metadata": {},
      "source": [
        "\n# K40 Intra-DOM Calibration\n\n\nThe following script calculates the PMT time offsets using K40 coincidences\n\n\n"
      ]
    },
    {
      "cell_type": "code",
      "execution_count": null,
      "metadata": {
        "collapsed": false
      },
      "outputs": [],
      "source": [
        "from __future__ import absolute_import, print_function, division\n\n# Author: Jonas Reubelt <jreubelt@km3net.de> and Tamas Gal <tgal@km3net.de>\n# License: MIT\nimport km3pipe as kp\nfrom km3modules import k40\nfrom km3modules.common import StatusBar, MemoryObserver, Siphon\nfrom km3modules.plot import IntraDOMCalibrationPlotter\nimport km3pipe.style\nkm3pipe.style.use(\"km3pipe\")\n\npipe = kp.Pipeline(timeit=True)\npipe.attach(\n    kp.io.ch.CHPump,\n    host='127.0.0.1',\n    port=5553,\n    tags='IO_TSL, IO_MONIT',\n    timeout=7 * 60 * 60 * 24,\n    max_queue=42\n)\npipe.attach(kp.io.ch.CHTagger)\npipe.attach(StatusBar, every=1000)\npipe.attach(MemoryObserver, every=5000)\npipe.attach(k40.MedianPMTRatesService, only_if='IO_MONIT')\npipe.attach(kp.io.daq.TimesliceParser)\npipe.attach(k40.TwofoldCounter, tmax=10)\npipe.attach(Siphon, volume=10 * 10 * 1, flush=True)\npipe.attach(k40.K40BackgroundSubtractor)\npipe.attach(k40.IntraDOMCalibrator, ctmin=0.)\npipe.attach(IntraDOMCalibrationPlotter)\npipe.attach(k40.ResetTwofoldCounts)\npipe.drain()"
      ]
    }
  ],
  "metadata": {
    "kernelspec": {
      "display_name": "Python 3",
      "language": "python",
      "name": "python3"
    },
    "language_info": {
      "codemirror_mode": {
        "name": "ipython",
        "version": 3
      },
      "file_extension": ".py",
      "mimetype": "text/x-python",
      "name": "python",
      "nbconvert_exporter": "python",
      "pygments_lexer": "ipython3",
      "version": "3.6.4"
    }
  },
  "nbformat": 4,
  "nbformat_minor": 0
}