{
  "cells": [
    {
      "cell_type": "code",
      "execution_count": null,
      "metadata": {
        "collapsed": false
      },
      "outputs": [],
      "source": [
        "%matplotlib inline"
      ]
    },
    {
      "cell_type": "markdown",
      "metadata": {},
      "source": [
        "\n# Slackbot for ELOG\n\n\n\n"
      ]
    },
    {
      "cell_type": "code",
      "execution_count": null,
      "metadata": {
        "collapsed": false
      },
      "outputs": [],
      "source": [
        "import os\nimport re\n\nimport pyinotify\n\nfrom pyslack import SlackClient    # pip install pyslack-real\n\nwm = pyinotify.WatchManager()\nmask = pyinotify.IN_CLOSE_WRITE\n\nURL = 'http://elog.km3net.de'\n# LOGBOOK_PATH = '/home/elog/elog'\nLOGBOOK_PATH = '/usr/local/elog/logbooks'\nBOTNAME = 'ELOG'\nDEFAULT_DESTINATION = '#elog'\nDESTINATIONS = {\n    'Operations_IT': '#operations_it',\n    'Operations_FR': '#operations_fr',\n    #    'Qualification': '#elog',\n    #    'DOM_Integration': '#elog',\n    #    'DU_Integration': '#elog',\n    #    'DAQ_Readout': '#elog',\n    #    'Electronics': '#elog',\n    #    'Analysis': '#elog',\n    'Computing and Software': '#software',\n}\n\nslack = SlackClient(\"YOUR_SLACK_API_TOKEN_HERE\")\n\n\nclass ElogEntry(object):\n    def __init__(self, logbook, msg_id=None):\n        self.logbook = logbook\n        self.id = msg_id\n        self.header = {}\n        self.content = ''\n\n    @property\n    def author(self):\n        return self._lookup('Author')\n\n    @property\n    def type(self):\n        return self._lookup('Type')\n\n    @property\n    def subject(self):\n        return self._lookup('Subject')\n\n    @property\n    def url(self):\n        escaped = re.sub(r\"[\\s_]+\", '+', self.logbook)\n        return URL + '/' + escaped + '/' + str(self.id)\n\n    def _lookup(self, key):\n        try:\n            return self.header[key]\n        except KeyError:\n            return \"Unknown\"\n\n    def __repr__(self):\n        return (\n            \"ELOG entry from *{0.author}* in *{0.logbook}* (_{0.type}_):\\n\"\n            \"*{0.subject}*\\n{1}...\\n<{0.url}>\".format(\n                self, self.content[:150]\n            )\n        )\n\n\nclass ElogEntryBundle(object):\n    def __init__(self, pathname):\n        self.logbook = dirname(pathname)\n\n        with open(pathname) as input_file:\n            self.entries = self._parse_entries(input_file)\n\n    @property\n    def newest_entry(self):\n        return self.entries[-1]\n\n    def _parse_entries(self, input_file, msg_id=None):\n        if msg_id is None:\n            line = input_file.readline()\n            if not line.startswith('$@MID@$:'):\n                raise ValueError(\"Not an ELOG-entry file!\")\n            msg_id = int(line.split(':')[1])\n\n        entry = ElogEntry(self.logbook, msg_id)\n        for line in input_file:\n            if line.startswith(40 * '='):\n                break\n            parameter, value = re.findall(r'([^:.]*): (.*)', line)[0]\n            entry.header[parameter] = value\n        for line in input_file:\n            if line.startswith('$@MID@$:'):\n                msg_id = int(line.split(':')[1])\n                return [entry] + self._parse_entries(input_file, msg_id)\n            else:\n                entry.content += line\n        return [entry]\n\n\nclass EventHandler(pyinotify.ProcessEvent):\n    def my_init(self):\n        self.logged_ids = []\n\n    def process_IN_CLOSE_WRITE(self, event):\n        if not self._is_valid_filetype(event.pathname):\n            print(\"Not a valid filetype: {0}\".format(event.pathname))\n            return\n\n        try:\n            elog_bundle = ElogEntryBundle(event.pathname)\n            elog_entry = elog_bundle.newest_entry\n        except ValueError:\n            print(\"Could not parse '{0}'. Ignoring...\".format(event.pathname))\n            return\n\n        try:\n            destination = DESTINATIONS[elog_entry.logbook]\n        except KeyError:\n            print(\n                \"No destination for logbook '{0}'. Using only default...\"\n                .format(elog_entry.logbook)\n            )\n            destination = None\n        finally:\n            if elog_entry.id in self.logged_ids:\n                return    # For now skip, since it often duplicates!\n                pre = 'Updated '\n            else:\n                pre = ''\n                self.logged_ids.append(elog_entry.id)\n            message = pre + str(elog_entry)\n            print(42 * \"#\")\n            print(\"Filename: \" + event.name)\n            print(\"Elog Entry ID: \" + str(elog_entry.id))\n            print(42 * \"-\")\n            print(message)\n            print(42 * \"/\")\n            if destination:\n                slack.chat_post_message(destination, message, username=BOTNAME)\n            # else:\n            slack.chat_post_message(\n                DEFAULT_DESTINATION, message, username=BOTNAME\n            )\n\n    def _is_valid_filetype(self, path):\n        return path.endswith('.log')\n\n\ndef dirname(filepath):\n    return os.path.basename(os.path.dirname(filepath))\n\n\nhandler = EventHandler()\nnotifier = pyinotify.Notifier(wm, handler)\nwdd = wm.add_watch(LOGBOOK_PATH, mask, rec=True)\n\nnotifier.loop()"
      ]
    }
  ],
  "metadata": {
    "kernelspec": {
      "display_name": "Python 3",
      "language": "python",
      "name": "python3"
    },
    "language_info": {
      "codemirror_mode": {
        "name": "ipython",
        "version": 3
      },
      "file_extension": ".py",
      "mimetype": "text/x-python",
      "name": "python",
      "nbconvert_exporter": "python",
      "pygments_lexer": "ipython3",
      "version": "3.6.4"
    }
  },
  "nbformat": 4,
  "nbformat_minor": 0
}