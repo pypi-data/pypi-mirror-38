{
  "cells": [
    {
      "cell_type": "code",
      "execution_count": null,
      "metadata": {
        "collapsed": false
      },
      "outputs": [],
      "source": [
        "%matplotlib inline"
      ]
    },
    {
      "cell_type": "markdown",
      "metadata": {},
      "source": [
        "\n# UDP Forwarder for ControlHost\n\n\nA simple UDP forwarder for ControlHost messages.\n\nThis application is used to forward monitoring channel data from Ligier\nto a given UDP address.\n\n\n"
      ]
    },
    {
      "cell_type": "code",
      "execution_count": null,
      "metadata": {
        "collapsed": false
      },
      "outputs": [],
      "source": [
        "from __future__ import absolute_import, print_function, division\n\nimport socket\nimport sys\n\nimport km3pipe as kp\n\n__author__ = \"Tamas Gal\"\n__email__ = \"tgal@km3net.de\"\n\n\nclass UDPForwarder(kp.Module):\n    def configure(self):\n        self.sock = socket.socket(socket.AF_INET, socket.SOCK_DGRAM)\n        self.counter = 0\n\n    def process(self, blob):\n        if str(blob['CHPrefix'].tag) == 'IO_MONIT':\n            self.sock.sendto(blob['CHData'], ('127.0.0.1', 56017))\n            if self.counter % 100 == 0:\n                sys.stdout.write('.')\n                sys.stdout.flush()\n            self.counter += 1\n        return blob\n\n\npipe = kp.Pipeline()\npipe.attach(\n    kp.io.CHPump,\n    host='localhost',\n    port=5553,\n    tags='IO_MONIT',\n    timeout=60 * 60 * 24 * 7,\n    max_queue=1000,\n    timeit=True\n)\npipe.attach(UDPForwarder)\npipe.drain()"
      ]
    }
  ],
  "metadata": {
    "kernelspec": {
      "display_name": "Python 3",
      "language": "python",
      "name": "python3"
    },
    "language_info": {
      "codemirror_mode": {
        "name": "ipython",
        "version": 3
      },
      "file_extension": ".py",
      "mimetype": "text/x-python",
      "name": "python",
      "nbconvert_exporter": "python",
      "pygments_lexer": "ipython3",
      "version": "3.6.5"
    }
  },
  "nbformat": 4,
  "nbformat_minor": 0
}