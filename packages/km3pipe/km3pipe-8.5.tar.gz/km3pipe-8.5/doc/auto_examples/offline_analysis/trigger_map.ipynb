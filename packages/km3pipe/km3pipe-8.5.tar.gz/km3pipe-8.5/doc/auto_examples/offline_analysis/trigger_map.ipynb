{
  "cells": [
    {
      "cell_type": "code",
      "execution_count": null,
      "metadata": {
        "collapsed": false
      },
      "outputs": [],
      "source": [
        "%matplotlib inline"
      ]
    },
    {
      "cell_type": "markdown",
      "metadata": {},
      "source": [
        "\n# Trigger Map\n\n\nThis script creates a histogram to show the trigger contribution for events.\n\n.. code-block:: bash\n\n    Usage:\n        trigger_map.py [-d DU -p PLOT_FILENAME] FILENAME\n        trigger_map.py --version\n\n    Option:\n        FILENAME          Name of the input file.\n        -d DU             Only plot for the given DU.\n        -p PLOT_FILENAME  The filename of the plot [default: trigger_map.png].\n        -h --help         Show this screen.\n\n\n"
      ]
    },
    {
      "cell_type": "code",
      "execution_count": null,
      "metadata": {
        "collapsed": false
      },
      "outputs": [],
      "source": [
        "from __future__ import absolute_import, print_function, division\n\nfrom docopt import docopt\nimport matplotlib\n# Force matplotlib to not use any Xwindows backend.\nmatplotlib.use('Agg')    # noqa\nimport matplotlib.pyplot as plt\nfrom matplotlib.colors import LogNorm\nimport numpy as np\n\nimport km3pipe as kp\nimport km3pipe.style\n\n\nclass TriggerMap(kp.Module):\n    \"\"\"Creates a plot to show the number of triggered hits for each DOM.\"\"\"\n\n    def configure(self):\n        self.det = self.require('detector')\n        self.plot_filename = self.require('plot_filename')\n        self.subtitle = self.get('subtitle', default='')\n        self.du = self.get('du')\n        if self.du is not None:\n            self.n_dus = 1\n            self.n_doms = 18\n        else:\n            self.n_dus = self.det.n_dus\n            self.n_doms = int(self.det.n_doms / self.n_dus)\n        self.hit_counts = []\n\n    def process(self, blob):\n        hits = blob['Hits'].triggered_rows\n        dom_ids = np.unique(hits.dom_id)\n        hit_counts = np.zeros(self.n_dus * self.n_doms)\n        for dom_id in dom_ids:\n            n_hits = np.sum(hits.dom_id == dom_id)\n            du, floor, _ = self.det.doms[dom_id]\n            if self.du is not None and du != self.du:\n                continue\n            if self.du:\n                du = 1\n            hit_counts[(du - 1) * self.n_doms + floor - 1] += n_hits\n        self.hit_counts.append(hit_counts)\n\n        return blob\n\n    def finish(self):\n        self.create_plot()\n\n    def create_plot(self):\n        km3pipe.style.use(\"km3pipe\")\n\n        title = \"Trigger Map\\n{}\".format(self.subtitle)\n        fig, ax = plt.subplots(figsize=(16, 8))\n        ax.grid(True)\n        ax.set_axisbelow(True)\n        hit_mat = np.array([np.array(x) for x in self.hit_counts]).transpose()\n        im = ax.matshow(\n            hit_mat,\n            interpolation='nearest',\n            filternorm=None,\n            cmap='plasma',\n            aspect='auto',\n            origin='lower',\n            zorder=3,\n            norm=LogNorm(vmin=1, vmax=np.amax(hit_mat))\n        )\n        yticks = np.arange(self.n_doms * self.n_dus)\n        ytick_label_templ = \"DU{0:.0f}-DOM{1:02d}\" if self.du else \"DOM{1:02d}\"\n        ytick_labels = [\n            ytick_label_templ.format(\n                np.ceil((y + 1) / self.n_doms), y % (self.n_doms) + 1\n            ) for y in yticks\n        ]\n        ax.set_yticks(yticks)\n        ax.set_yticklabels(ytick_labels)\n        ax.tick_params(labelbottom=True)\n        ax.tick_params(labeltop=True)\n        ax.set_xlabel(\"event id\")\n        ax.set_title(title)\n        cb = fig.colorbar(im, pad=0.05)\n        cb.set_label(\"number of triggered hits\")\n\n        fig.tight_layout()\n\n        plt.savefig(self.plot_filename, dpi=120, bbox_inches=\"tight\")\n\n\nif __name__ == '__main__':\n    args = docopt(__doc__, version='1.0')\n    print(args)\n    du = int(args['-d']) if args['-d'] else None\n    det = kp.hardware.Detector(det_id=29)\n    pipe = kp.Pipeline()\n    pipe.attach(kp.io.jpp.EventPump, filename=args['FILENAME'])\n    pipe.attach(\n        TriggerMap,\n        detector=det,\n        du=du,\n        plot_filename=args['-p'],\n        subtitle=args['FILENAME']\n    )\n    pipe.drain()"
      ]
    }
  ],
  "metadata": {
    "kernelspec": {
      "display_name": "Python 3",
      "language": "python",
      "name": "python3"
    },
    "language_info": {
      "codemirror_mode": {
        "name": "ipython",
        "version": 3
      },
      "file_extension": ".py",
      "mimetype": "text/x-python",
      "name": "python",
      "nbconvert_exporter": "python",
      "pygments_lexer": "ipython3",
      "version": "3.6.5"
    }
  },
  "nbformat": 4,
  "nbformat_minor": 0
}