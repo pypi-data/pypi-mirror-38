{
  "cells": [
    {
      "cell_type": "code",
      "execution_count": null,
      "metadata": {
        "collapsed": false
      },
      "outputs": [],
      "source": [
        "%matplotlib inline"
      ]
    },
    {
      "cell_type": "markdown",
      "metadata": {},
      "source": [
        "\n# K40 Calibration Summary\n\n\nCombine k40calib results into a single CSV file.\n\n.. code-block:: bash\n\n    Usage:\n        k40summary.py CALIB_FOLDER\n        k40summary.py (-h | --help)\n\n    Options:\n        -h --help   Show this screen.\n\n\n"
      ]
    },
    {
      "cell_type": "code",
      "execution_count": null,
      "metadata": {
        "collapsed": false
      },
      "outputs": [],
      "source": [
        "from __future__ import absolute_import, print_function, division\n\nfrom glob import glob\nimport os\nimport re\nimport pickle\nimport numpy as np\n\n\ndef write_header(fobj):\n    \"\"\"Add the header to the CSV file\"\"\"\n    fobj.write(\"# K40 calibration results\\n\")\n    fobj.write(\"det_id\\trun_id\\tdom_id\")\n    for param in ['t0', 'qe']:\n        for i in range(31):\n            fobj.write(\"\\t{}_ch{}\".format(param, i))\n\n\ndef main():\n    from docopt import docopt\n    args = docopt(__doc__)\n\n    file_pattern = os.path.join(args['CALIB_FOLDER'], '*.p')\n    files = glob(file_pattern)\n\n    with open('k40calib_summary.csv', 'w') as csv_file:\n        write_header(csv_file)\n\n        for fn in files:\n            det_id, run_id = [\n                int(x) for x in re.search(\"_(\\\\d{8})\" * 2, fn).groups()\n            ]\n            with open(fn, 'rb') as f:\n                data = pickle.load(f)\n            if not data:\n                print(\"Empty dataset found for '{}'\".format(fn))\n            else:\n                for dom_id in data.keys():\n                    t0s = data[dom_id]['opt_t0s'].x\n                    qes = data[dom_id]['opt_qes'].x\n                    cols = np.concatenate([[det_id, run_id, dom_id], t0s, qes])\n                    line = '\\n' + '\\t'.join(str(c) for c in cols)\n                    csv_file.write(line)\n\n\nif __name__ == '__main__':\n    main()"
      ]
    }
  ],
  "metadata": {
    "kernelspec": {
      "display_name": "Python 3",
      "language": "python",
      "name": "python3"
    },
    "language_info": {
      "codemirror_mode": {
        "name": "ipython",
        "version": 3
      },
      "file_extension": ".py",
      "mimetype": "text/x-python",
      "name": "python",
      "nbconvert_exporter": "python",
      "pygments_lexer": "ipython3",
      "version": "3.6.5"
    }
  },
  "nbformat": 4,
  "nbformat_minor": 0
}