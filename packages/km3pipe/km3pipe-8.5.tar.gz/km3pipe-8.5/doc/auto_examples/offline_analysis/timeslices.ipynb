{
  "cells": [
    {
      "cell_type": "code",
      "execution_count": null,
      "metadata": {
        "collapsed": false
      },
      "outputs": [],
      "source": [
        "%matplotlib inline"
      ]
    },
    {
      "cell_type": "markdown",
      "metadata": {},
      "source": [
        "\n# Reading Timeslices\n\n\nThis examples show how to access L0, L1, L2 and SN timeslice streams using\nkm3pipe. Note that you need an activated Jpp environment and jppy installed\n(http://git.km3net.de/km3py/jppy.git).\n\nBoth are available in Lyon, wherebei ``jppy`` is included in the group\npython installation.\n\nA general note on timeslice streams: in older Jpp versions there was only\none timeslice stream present in the files. This was later separated into\nL0, L1, L2 and SN streams. A convenient tool to check the availability of\nstreams is ``JPrintTree -f FILENAME``::\n\n    > JPrintTree -f KM3NeT_00000014_00004451.root\n    KM3NeT_00000014_00004451.root\n    KM3NET_TIMESLICE     KM3NETDAQ::JDAQTimeslice     2808  8416 [MB]\n    KM3NET_EVENT         KM3NETDAQ::JDAQEvent              70     0 [MB]\n    KM3NET_SUMMARYSLICE  KM3NETDAQ::JDAQSummaryslice     2808     4 [MB]\n\nHere is an example with split timeslice streams::\n\n    > JPrintTree -f KM3NeT_00000029_00003242.root\n    KM3NeT_00000029_00003242.root\n    KM3NET_TIMESLICE     KM3NETDAQ::JDAQTimeslice          0      0 [MB]\n    KM3NET_TIMESLICE_L0  KM3NETDAQ::JDAQTimesliceL0        0      0 [MB]\n    KM3NET_TIMESLICE_L1  KM3NETDAQ::JDAQTimesliceL1     5390    319 [MB]\n    KM3NET_TIMESLICE_L2  KM3NETDAQ::JDAQTimesliceL2        0      0 [MB]\n    KM3NET_TIMESLICE_SN  KM3NETDAQ::JDAQTimesliceSN   107910    162 [MB]\n    KM3NET_EVENT         KM3NETDAQ::JDAQEvent          21445     24 [MB]\n    KM3NET_SUMMARYSLICE  KM3NETDAQ::JDAQSummaryslice  107910    109 [MB]\n\n\n"
      ]
    },
    {
      "cell_type": "code",
      "execution_count": null,
      "metadata": {
        "collapsed": false
      },
      "outputs": [],
      "source": [
        "ROOT_FILENAME = \"KM3NeT_00000014_00004451.root\"\n\nimport km3pipe as kp"
      ]
    },
    {
      "cell_type": "markdown",
      "metadata": {},
      "source": [
        "The timeslice pump is used to convert the timeslice objects in\nthe ROOT file into numpy recarrays. We explicitly set the stream\nto an empty string, since we are opening an older file.\n\nHere is how to access the hits.\n\n"
      ]
    },
    {
      "cell_type": "code",
      "execution_count": null,
      "metadata": {
        "collapsed": false
      },
      "outputs": [],
      "source": [
        "pump = kp.io.jpp.TimeslicePump(filename=ROOT_FILENAME, stream='')\nfor blob in pump:\n    hits = blob['TSHits']"
      ]
    }
  ],
  "metadata": {
    "kernelspec": {
      "display_name": "Python 3",
      "language": "python",
      "name": "python3"
    },
    "language_info": {
      "codemirror_mode": {
        "name": "ipython",
        "version": 3
      },
      "file_extension": ".py",
      "mimetype": "text/x-python",
      "name": "python",
      "nbconvert_exporter": "python",
      "pygments_lexer": "ipython3",
      "version": "3.6.5"
    }
  },
  "nbformat": 4,
  "nbformat_minor": 0
}