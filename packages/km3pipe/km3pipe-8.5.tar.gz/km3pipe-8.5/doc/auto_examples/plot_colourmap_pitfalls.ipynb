{
  "cells": [
    {
      "cell_type": "code",
      "execution_count": null,
      "metadata": {
        "collapsed": false
      },
      "outputs": [],
      "source": [
        "%matplotlib inline"
      ]
    },
    {
      "cell_type": "markdown",
      "metadata": {},
      "source": [
        "\n\n==================\nColormap pitfalls.\n==================\n\nChoosing the right colormap is important. A bad colormap like ``jet``\n(standard in ROOT and matplotlib < 2.0) fools you into seeing structure\nwhere there isn't any.\n\n"
      ]
    },
    {
      "cell_type": "code",
      "execution_count": null,
      "metadata": {
        "collapsed": false
      },
      "outputs": [],
      "source": [
        "from __future__ import absolute_import, print_function, division\n\nimport numpy as np\nimport matplotlib.pyplot as plt\nfrom mpl_toolkits.axes_grid1 import make_axes_locatable\nimport km3pipe.style\nkm3pipe.style.use(\"km3pipe\")\n\nx = np.linspace(-np.pi, np.pi, 300)\nxx, yy = np.meshgrid(x, x)\nz = np.cos(xx) + np.cos(yy)\n\nfig, axes = plt.subplots(2, 2)\n\nfor ax, colourmap in zip(axes.flatten(),\n                         ['gray', 'jet', 'cubehelix', 'cividis']):\n    ax.set_title(colourmap)\n    im = ax.imshow(z, cmap=plt.get_cmap(colourmap))\n    divider = make_axes_locatable(ax)\n    cax = divider.append_axes('right', size='7%', pad=0.05)\n    cbar = plt.colorbar(im, cax=cax)"
      ]
    }
  ],
  "metadata": {
    "kernelspec": {
      "display_name": "Python 3",
      "language": "python",
      "name": "python3"
    },
    "language_info": {
      "codemirror_mode": {
        "name": "ipython",
        "version": 3
      },
      "file_extension": ".py",
      "mimetype": "text/x-python",
      "name": "python",
      "nbconvert_exporter": "python",
      "pygments_lexer": "ipython3",
      "version": "3.6.4"
    }
  },
  "nbformat": 4,
  "nbformat_minor": 0
}