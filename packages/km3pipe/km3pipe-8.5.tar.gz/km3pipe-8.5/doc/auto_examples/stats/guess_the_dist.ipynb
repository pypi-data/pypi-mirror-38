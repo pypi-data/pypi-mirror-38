{
  "cells": [
    {
      "cell_type": "code",
      "execution_count": null,
      "metadata": {
        "collapsed": false
      },
      "outputs": [],
      "source": [
        "%matplotlib inline"
      ]
    },
    {
      "cell_type": "markdown",
      "metadata": {},
      "source": [
        "\nGuess the distribution!\n=======================\n\nFit several distributions to angular residuals.\n\nNote: to fit the landau distribution, you need to have ROOT and the\n``rootpy`` package installed.\n\n\n"
      ]
    },
    {
      "cell_type": "code",
      "execution_count": null,
      "metadata": {
        "collapsed": false
      },
      "outputs": [],
      "source": [
        "from __future__ import absolute_import, print_function, division\n\nimport h5py\nimport matplotlib.pyplot as plt\nimport numpy as np\nfrom scipy import stats\nfrom statsmodels.distributions.empirical_distribution import ECDF\nfrom statsmodels.nonparametric.kde import KDEUnivariate\n\ntry:\n    import ROOT\n    import rootpy.plotting\n    HAS_ROOT = True\nexcept ImportError:\n    HAS_ROOT = False\n\nfrom km3pipe.stats import bootstrap_fit\nimport km3pipe.style.moritz    # noqa"
      ]
    },
    {
      "cell_type": "code",
      "execution_count": null,
      "metadata": {
        "collapsed": false
      },
      "outputs": [],
      "source": [
        "DATA_FILE = '../data/residuals.h5'\n\nwith h5py.File(DATA_FILE) as h5:\n    resid = h5['/residuals'][:]"
      ]
    },
    {
      "cell_type": "markdown",
      "metadata": {},
      "source": [
        "Fit somedistributions, and obtain the confidence intervals on the\ndistribution parameters through bootstrapping.\n\n"
      ]
    },
    {
      "cell_type": "code",
      "execution_count": null,
      "metadata": {
        "collapsed": false
      },
      "outputs": [],
      "source": [
        "n_bs = 5\nq = 95\n\nln_par, ln_lo, ln_up = bootstrap_fit(\n    stats.lognorm, resid, n_iter=n_bs, quant=q\n)\nhc_par, hc_lo, hc_up = bootstrap_fit(\n    stats.halfcauchy, resid, n_iter=n_bs, quant=q\n)\ngam_par, gam_lo, gam_up = bootstrap_fit(\n    stats.gamma, resid, n_iter=n_bs, quant=q\n)"
      ]
    },
    {
      "cell_type": "code",
      "execution_count": null,
      "metadata": {
        "collapsed": false
      },
      "outputs": [],
      "source": [
        "hc = stats.halfcauchy(*stats.halfcauchy.fit(resid))\nlg = stats.lognorm(*stats.lognorm.fit(resid))\ndens = KDEUnivariate(resid)\ndens.fit()\necdf = ECDF(resid)"
      ]
    },
    {
      "cell_type": "markdown",
      "metadata": {},
      "source": [
        "prepare X axes for plotting\n\n"
      ]
    },
    {
      "cell_type": "code",
      "execution_count": null,
      "metadata": {
        "collapsed": false
      },
      "outputs": [],
      "source": [
        "ex = ecdf.x\nx = np.linspace(min(resid), max(resid), 2000)"
      ]
    },
    {
      "cell_type": "markdown",
      "metadata": {},
      "source": [
        "Fit a Landau distribution with ROOT\n\n"
      ]
    },
    {
      "cell_type": "code",
      "execution_count": null,
      "metadata": {
        "collapsed": false
      },
      "outputs": [],
      "source": [
        "if HAS_ROOT:\n    root_hist = rootpy.plotting.Hist(100, 0, np.pi)\n    root_hist.fill_array(resid)\n    root_hist /= root_hist.Integral()\n\n    land_f = ROOT.TF1('land_f', \"TMath::Landau(x, [0], [1], 0)\")\n    fr = root_hist.fit('land_f', \"S\").Get()\n    try:\n        p = fr.GetParams()\n        land = np.array([ROOT.TMath.Landau(xi, p[0], p[1], True) for xi in x])\n        land_cdf = np.array([\n            ROOT.ROOT.Math.landau_cdf(k, p[0], p[1]) for k in ex\n        ])\n    except AttributeError:\n        # wtf this fails sometimes, idk, works on root6\n        HAS_ROOT = False"
      ]
    },
    {
      "cell_type": "markdown",
      "metadata": {},
      "source": [
        "... and plot everything.\n\n"
      ]
    },
    {
      "cell_type": "code",
      "execution_count": null,
      "metadata": {
        "collapsed": false
      },
      "outputs": [],
      "source": [
        "fig, axes = plt.subplots(ncols=2, nrows=2, figsize=(6 * 2, 4 * 2))\n\naxes[0, 0].hist(resid, bins='auto', normed=True)\naxes[0, 0].plot(x, lg.pdf(x), label='Log Norm')\naxes[0, 0].plot(x, hc.pdf(x), label='Half Cauchy')\nif HAS_ROOT:\n    axes[0, 0].plot(x, land, label='Landau', color='blue')\naxes[0, 0].plot(x, dens.evaluate(x), label='KDE')\naxes[0, 0].set_xlabel('x')\naxes[0, 0].set_xlim(0, 0.3)\naxes[0, 0].set_ylabel('PDF(x)')\naxes[0, 0].legend()\n\naxes[0, 1].hist(resid, bins='auto', normed=True)\naxes[0, 1].plot(x, lg.pdf(x), label='Log Norm')\naxes[0, 1].plot(x, hc.pdf(x), label='Half Cauchy')\nif HAS_ROOT:\n    axes[0, 1].plot(x, land, label='Landau', color='blue')\naxes[0, 1].plot(x, dens.evaluate(x), label='KDE')\naxes[0, 1].set_xlabel('x')\naxes[0, 1].set_ylabel('PDF(x)')\naxes[0, 1].set_yscale('log')\naxes[0, 1].legend()\n\naxes[1, 0].plot(ex, 1 - lg.cdf(ex), label='Log Norm')\nif HAS_ROOT:\n    axes[1, 0].plot(ex, 1 - land_cdf, label='Landau', color='blue')\naxes[1, 0].plot(ex, 1 - hc.cdf(ex), label='Half Cauchy')\naxes[1, 0].plot(\n    ex, 1 - ecdf.y, label='Empirical CDF', linewidth=3, linestyle='--'\n)\naxes[1, 0].set_xscale('log')\naxes[1, 0].set_xlabel('x')\naxes[1, 0].set_ylabel('1 - CDF(x)')\naxes[1, 0].legend()\n\naxes[1, 1].loglog(ex, 1 - lg.cdf(ex), label='Log Norm')\nif HAS_ROOT:\n    axes[1, 1].loglog(ex, 1 - land_cdf, label='Landau', color='blue')\naxes[1, 1].loglog(ex, 1 - hc.cdf(ex), label='Half Cauchy')\naxes[1, 1].loglog(\n    ex, 1 - ecdf.y, label='Empirical CDF', linewidth=3, linestyle='--'\n)\naxes[1, 1].set_xlabel('x')\naxes[1, 1].set_ylabel('1 - CDF(x)')\naxes[1, 1].legend()"
      ]
    }
  ],
  "metadata": {
    "kernelspec": {
      "display_name": "Python 3",
      "language": "python",
      "name": "python3"
    },
    "language_info": {
      "codemirror_mode": {
        "name": "ipython",
        "version": 3
      },
      "file_extension": ".py",
      "mimetype": "text/x-python",
      "name": "python",
      "nbconvert_exporter": "python",
      "pygments_lexer": "ipython3",
      "version": "3.6.5"
    }
  },
  "nbformat": 4,
  "nbformat_minor": 0
}