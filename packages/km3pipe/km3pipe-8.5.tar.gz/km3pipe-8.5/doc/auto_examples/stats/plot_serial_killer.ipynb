{
  "cells": [
    {
      "cell_type": "code",
      "execution_count": null,
      "metadata": {
        "collapsed": false
      },
      "outputs": [],
      "source": [
        "%matplotlib inline"
      ]
    },
    {
      "cell_type": "markdown",
      "metadata": {},
      "source": [
        "\nSerial Killings -- Powerlaw or not?\n===================================\n\nTry to reproduce the analysis in `Cosma Shalizi's\nblogpost <http://bactra.org/weblog/857.html>`__ with scipy.\n\nFirst, import things\n\n\n"
      ]
    },
    {
      "cell_type": "code",
      "execution_count": null,
      "metadata": {
        "collapsed": false
      },
      "outputs": [],
      "source": [
        "from __future__ import absolute_import, print_function, division\n\nimport numpy as np\nimport pandas as pd\nfrom scipy import stats\nfrom statsmodels.distributions.empirical_distribution import ECDF\nimport matplotlib.pyplot as plt\n\nfrom km3pipe.stats import bootstrap_fit\nimport km3pipe.style.moritz    # noqa"
      ]
    },
    {
      "cell_type": "markdown",
      "metadata": {},
      "source": [
        "The data (times of killings) are in a text file, let's write a small\nfunction to read them. We are interested in the time differences between\nthe murders.\n\n\n"
      ]
    },
    {
      "cell_type": "code",
      "execution_count": null,
      "metadata": {
        "collapsed": false
      },
      "outputs": [],
      "source": [
        "def get_time_deltas(fname):\n    with open(fname) as f:\n        raw_dates = f.read().split('\\n')\n    murder_dates = pd.Series(pd.to_datetime(raw_dates), name='Date')\n    day = np.timedelta64(1, 'D')\n    diffs = np.array(murder_dates.diff().iloc[1:-1]) / day\n    diffs = pd.Series(diffs)\n    return diffs\n\n\nDATES_FILE = '../data/murder_dates.txt'\ndiffs = get_time_deltas(DATES_FILE)"
      ]
    },
    {
      "cell_type": "code",
      "execution_count": null,
      "metadata": {
        "collapsed": false
      },
      "outputs": [],
      "source": [
        "diffs.hist(bins='auto')"
      ]
    },
    {
      "cell_type": "code",
      "execution_count": null,
      "metadata": {
        "collapsed": false
      },
      "outputs": [],
      "source": [
        "ecdf = ECDF(diffs)\ndays, eucdf = ecdf.x, 1 - ecdf.y\nplt.loglog(days, eucdf)\nplt.xlabel('Days between murders')\nplt.ylabel('Cumulative probability')"
      ]
    },
    {
      "cell_type": "markdown",
      "metadata": {},
      "source": [
        "Let's fit a powerlaw\n\n\n"
      ]
    },
    {
      "cell_type": "code",
      "execution_count": null,
      "metadata": {
        "collapsed": false
      },
      "outputs": [],
      "source": [
        "pareto_idx, pareto_loc, pareto_scale = stats.pareto.fit(diffs)\npareto = stats.pareto(pareto_idx, pareto_loc, pareto_scale)\n\n_ = bootstrap_fit(stats.pareto, diffs, n_iter=100)"
      ]
    },
    {
      "cell_type": "markdown",
      "metadata": {},
      "source": [
        "And a lognormal, because Gauss is not mocked.\n\n\n"
      ]
    },
    {
      "cell_type": "code",
      "execution_count": null,
      "metadata": {
        "collapsed": false
      },
      "outputs": [],
      "source": [
        "lognorm_sig, lognorm_shape, lognorm_scale = stats.lognorm.fit(diffs)\nlognorm = stats.lognorm(lognorm_sig, lognorm_shape, lognorm_scale)\n\n_ = bootstrap_fit(stats.lognorm, diffs, n_iter=100)"
      ]
    },
    {
      "cell_type": "code",
      "execution_count": null,
      "metadata": {
        "collapsed": false
      },
      "outputs": [],
      "source": [
        "plt.loglog(\n    days,\n    1 - pareto.cdf(days),\n    label='Pareto Fit (exponent {:.3})'.format(pareto_idx + 1)\n)\nplt.loglog(days, 1 - lognorm.cdf(days), label='LogNorm Fit')\nplt.loglog(days, eucdf, label='Empirical CDF')\nplt.xlabel('Days between murders')\nplt.ylabel('Cumulative probability')\nplt.legend()"
      ]
    }
  ],
  "metadata": {
    "kernelspec": {
      "display_name": "Python 3",
      "language": "python",
      "name": "python3"
    },
    "language_info": {
      "codemirror_mode": {
        "name": "ipython",
        "version": 3
      },
      "file_extension": ".py",
      "mimetype": "text/x-python",
      "name": "python",
      "nbconvert_exporter": "python",
      "pygments_lexer": "ipython3",
      "version": "3.6.4"
    }
  },
  "nbformat": 4,
  "nbformat_minor": 0
}