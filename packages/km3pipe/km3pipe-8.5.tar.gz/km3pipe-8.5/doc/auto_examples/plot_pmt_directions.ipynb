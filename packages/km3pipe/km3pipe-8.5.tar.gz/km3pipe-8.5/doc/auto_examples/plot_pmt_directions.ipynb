{
  "cells": [
    {
      "cell_type": "code",
      "execution_count": null,
      "metadata": {
        "collapsed": false
      },
      "outputs": [],
      "source": [
        "%matplotlib inline"
      ]
    },
    {
      "cell_type": "markdown",
      "metadata": {},
      "source": [
        "\n\n# PMT Directions\n\n\nPlot the PMT directions for a given DOM.\n\n\n"
      ]
    },
    {
      "cell_type": "code",
      "execution_count": null,
      "metadata": {
        "collapsed": false
      },
      "outputs": [],
      "source": [
        "from __future__ import absolute_import, print_function, division\n\n# Author: Tamas Gal <tgal@km3net.de>\n# License: BSD-3\nfrom mpl_toolkits.mplot3d import axes3d\nimport matplotlib.pyplot as plt\n\nimport km3pipe as kp\nimport km3pipe.style\nkm3pipe.style.use('km3pipe')\nkm3pipe.style.use('talk')\n\nDETX = 'data/orca_115strings_av23min20mhorizontal_18OMs_alt9mvertical_v1.detx'\n\ndet = kp.hardware.Detector(DETX)"
      ]
    },
    {
      "cell_type": "markdown",
      "metadata": {},
      "source": [
        "Alternatively, you can use the `det_id` to retrieve the geometry from the DB.\n\n"
      ]
    },
    {
      "cell_type": "code",
      "execution_count": null,
      "metadata": {
        "collapsed": false
      },
      "outputs": [],
      "source": [
        "# det = kp.hardware.Detector(det_id=29)"
      ]
    },
    {
      "cell_type": "markdown",
      "metadata": {},
      "source": [
        "Let's take the first DOM ID\n\n"
      ]
    },
    {
      "cell_type": "code",
      "execution_count": null,
      "metadata": {
        "collapsed": false
      },
      "outputs": [],
      "source": [
        "dom_id = det.dom_ids[0]"
      ]
    },
    {
      "cell_type": "markdown",
      "metadata": {},
      "source": [
        "...and get the table of the PMTs in the chosen DOM:\n\n"
      ]
    },
    {
      "cell_type": "code",
      "execution_count": null,
      "metadata": {
        "collapsed": false
      },
      "outputs": [],
      "source": [
        "pmts = det.pmts[det.pmts.dom_id == dom_id]"
      ]
    },
    {
      "cell_type": "markdown",
      "metadata": {},
      "source": [
        "The `quiver` function can directly plot the PMT data, since those are\nstored as numpy arrays.\n\n"
      ]
    },
    {
      "cell_type": "code",
      "execution_count": null,
      "metadata": {
        "collapsed": false
      },
      "outputs": [],
      "source": [
        "fig = plt.figure()\nax = fig.gca(projection='3d')\n\nax.quiver(\n    pmts.pos_x,\n    pmts.pos_y,\n    pmts.pos_z,\n    pmts.dir_x,\n    pmts.dir_y,\n    pmts.dir_z,\n    length=0.1\n)\n\nax.set_xlabel(\"x [m]\")\nax.set_ylabel(\"y [m]\")\nax.set_zlabel(\"z [m]\")\n\nax.set_title(\"PMT directions on DOM {}\".format(dom_id))"
      ]
    }
  ],
  "metadata": {
    "kernelspec": {
      "display_name": "Python 3",
      "language": "python",
      "name": "python3"
    },
    "language_info": {
      "codemirror_mode": {
        "name": "ipython",
        "version": 3
      },
      "file_extension": ".py",
      "mimetype": "text/x-python",
      "name": "python",
      "nbconvert_exporter": "python",
      "pygments_lexer": "ipython3",
      "version": "3.6.4"
    }
  },
  "nbformat": 4,
  "nbformat_minor": 0
}