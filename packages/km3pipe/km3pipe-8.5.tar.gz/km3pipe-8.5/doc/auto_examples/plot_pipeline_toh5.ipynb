{
  "nbformat_minor": 0, 
  "nbformat": 4, 
  "cells": [
    {
      "execution_count": null, 
      "cell_type": "code", 
      "source": [
        "%matplotlib inline"
      ], 
      "outputs": [], 
      "metadata": {
        "collapsed": false
      }
    }, 
    {
      "source": [
        "\n# ToHDF5 Pipeline example\n\n\n\n"
      ], 
      "cell_type": "markdown", 
      "metadata": {}
    }, 
    {
      "execution_count": null, 
      "cell_type": "code", 
      "source": [
        "# Authors: Moritz Lotze <mlotze@km3net.de>\n# License: BSD-3\n# Date: 2018-07-12\n# Status: Under construction...\n\nfrom __future__ import absolute_import, print_function, division\n\nimport tables as tb\n\nfrom km3pipe import Pipeline\nfrom km3pipe.io import EvtPump, HDF5Sink\n\nfrom km3modules.common import StatusBar"
      ], 
      "outputs": [], 
      "metadata": {
        "collapsed": false
      }
    }, 
    {
      "source": [
        "Preparation\n-----------\nLet's define the inputs / outputs first -- those would be coming from a CLI\nparser in practice.\n\n"
      ], 
      "cell_type": "markdown", 
      "metadata": {}
    }, 
    {
      "execution_count": null, 
      "cell_type": "code", 
      "source": [
        "N_EVENTS = 200000\nIN_FNAME = 'data/numu_cc.evt'\nOUT_FNAME = 'data/numu_cc.h5'"
      ], 
      "outputs": [], 
      "metadata": {
        "collapsed": false
      }
    }, 
    {
      "source": [
        "Also, in this case we don't really want to dump the data onto disk, so we\ncreate an in-memory-ony file, and pass it as the ``h5file`` arg to the\nhdf5sink. to actually write out a file, just specify an outfile name\n(commented out here).\n\n"
      ], 
      "cell_type": "markdown", 
      "metadata": {}
    }, 
    {
      "execution_count": null, 
      "cell_type": "code", 
      "source": [
        "OUTFILE = tb.open_file(\n    # create the file in memory only\n    OUT_FNAME,\n    'w',\n    driver=\"H5FD_CORE\",\n    driver_core_backing_store=0,\n)"
      ], 
      "outputs": [], 
      "metadata": {
        "collapsed": false
      }
    }, 
    {
      "source": [
        "Setting up the pipeline\n-----------------------\n\n"
      ], 
      "cell_type": "markdown", 
      "metadata": {}
    }, 
    {
      "execution_count": null, 
      "cell_type": "code", 
      "source": [
        "pipe = Pipeline(timeit=True)\npipe.attach(EvtPump, filename=IN_FNAME)\npipe.attach(StatusBar, every=25)\npipe.attach(\n    HDF5Sink,\n    # filename=OUT_FNAME,\n    h5file=OUTFILE,\n)"
      ], 
      "outputs": [], 
      "metadata": {
        "collapsed": false
      }
    }, 
    {
      "source": [
        "Draining the pipeline\n---------------------\n\n"
      ], 
      "cell_type": "markdown", 
      "metadata": {}
    }, 
    {
      "execution_count": null, 
      "cell_type": "code", 
      "source": [
        "pipe.drain(N_EVENTS)"
      ], 
      "outputs": [], 
      "metadata": {
        "collapsed": false
      }
    }
  ], 
  "metadata": {
    "kernelspec": {
      "display_name": "Python 2", 
      "name": "python2", 
      "language": "python"
    }, 
    "language_info": {
      "mimetype": "text/x-python", 
      "nbconvert_exporter": "python", 
      "name": "python", 
      "file_extension": ".py", 
      "version": "2.7.15", 
      "pygments_lexer": "ipython2", 
      "codemirror_mode": {
        "version": 2, 
        "name": "ipython"
      }
    }
  }
}