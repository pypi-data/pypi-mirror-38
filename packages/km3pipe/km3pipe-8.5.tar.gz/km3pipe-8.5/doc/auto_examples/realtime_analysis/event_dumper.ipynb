{
  "cells": [
    {
      "cell_type": "code",
      "execution_count": null,
      "metadata": {
        "collapsed": false
      },
      "outputs": [],
      "source": [
        "%matplotlib inline"
      ]
    },
    {
      "cell_type": "markdown",
      "metadata": {},
      "source": [
        "\n# Live Event Dumper\n\n\nRecieves triggered events from the detector and dumps them to a file.\n\n\n"
      ]
    },
    {
      "cell_type": "code",
      "execution_count": null,
      "metadata": {
        "collapsed": false
      },
      "outputs": [],
      "source": [
        "from __future__ import absolute_import, print_function, division\n\nfrom km3pipe import Pipeline, Module\nfrom km3pipe.io.ch import CHPump\nfrom km3pipe.io.daq import DAQProcessor\n\n__author__ = 'Tamas Gal <tgal@km3net.de>'\n\n\nclass Dumper(Module):\n    def configure(self):\n        self.counter = 0\n\n    def process(self, blob):\n        tag = str(blob['CHPrefix'].tag)\n        data = blob['CHData']\n        self.dump(data, tag)\n        print(blob[\"Hits\"])\n        return blob\n\n    def dump(self, data, tag):\n        with open('{0}-{1:06}.dat'.format(tag, self.counter), 'bw') as f:\n            self.counter += 1\n            f.write(data)\n\n\npipe = Pipeline()\npipe.attach(\n    CHPump,\n    host='xxx.xxx.xxx.xxx',\n    port=5553,\n    tags='IO_EVT',\n    timeout=60 * 60 * 24,\n    max_queue=42\n)\npipe.attach(DAQProcessor)\npipe.attach(Dumper)\npipe.drain()"
      ]
    }
  ],
  "metadata": {
    "kernelspec": {
      "display_name": "Python 3",
      "language": "python",
      "name": "python3"
    },
    "language_info": {
      "codemirror_mode": {
        "name": "ipython",
        "version": 3
      },
      "file_extension": ".py",
      "mimetype": "text/x-python",
      "name": "python",
      "nbconvert_exporter": "python",
      "pygments_lexer": "ipython3",
      "version": "3.6.5"
    }
  },
  "nbformat": 4,
  "nbformat_minor": 0
}