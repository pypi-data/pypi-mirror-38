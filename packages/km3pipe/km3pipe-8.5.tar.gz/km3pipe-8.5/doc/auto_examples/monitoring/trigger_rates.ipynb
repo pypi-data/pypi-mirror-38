{
  "cells": [
    {
      "cell_type": "code",
      "execution_count": null,
      "metadata": {
        "collapsed": false
      },
      "outputs": [],
      "source": [
        "%matplotlib inline"
      ]
    },
    {
      "cell_type": "markdown",
      "metadata": {},
      "source": [
        "\n# Trigger Rate Monitor\n\n\nA (messy) script to monitor the trigger rates.\n\n\n"
      ]
    },
    {
      "cell_type": "code",
      "execution_count": null,
      "metadata": {
        "collapsed": false
      },
      "outputs": [],
      "source": [
        "from __future__ import absolute_import, print_function, division\n\nfrom datetime import datetime\nfrom collections import defaultdict, deque, OrderedDict\nimport sys\nfrom io import BytesIO\nimport os\nimport shutil\nimport time\nimport threading\n\nimport matplotlib\n# Force matplotlib to not use any Xwindows backend.\nmatplotlib.use('Agg')    # noqa\nimport matplotlib.pyplot as plt\nimport matplotlib.dates as md\nimport matplotlib.ticker as ticker\n\nimport km3pipe as kp\nfrom km3pipe.config import Config\nfrom km3pipe.io import CHPump\nfrom km3pipe.io.daq import (DAQPreamble, DAQEvent)\nimport km3pipe.style\nkm3pipe.style.use('km3pipe')\n\nlog = kp.logger.get_logger(\"trigger_rate\")\n\nPLOTS_PATH = 'km3web/plots'\n\nxfmt = md.DateFormatter('%Y-%m-%d %H:%M')\nlock = threading.Lock()\n\ngeneral_style = dict(markersize=6, linestyle='None')\nstyles = {\n    \"Overall\": dict(\n        marker='D',\n        markerfacecolor='None',\n        markeredgecolor='tomato',\n        markeredgewidth=1\n    ),\n    \"3DMuon\": dict(marker='X', markerfacecolor='dodgerblue'),\n    \"MXShower\": dict(marker='v', markerfacecolor='orange'),\n    \"3DShower\": dict(marker='o', markerfacecolor='greenyellow'),\n}\n\n\ndef trigger_rate_sampling_period():\n    try:\n        return int(Config().get(\"Monitoring\", \"trigger_rate_sampling_period\"))\n    except (TypeError, ValueError):\n        return 180\n\n\ndef is_3dshower(trigger_mask):\n    return bool(trigger_mask & 1)\n\n\ndef is_mxshower(trigger_mask):\n    return bool(trigger_mask & 2)\n\n\ndef is_3dmuon(trigger_mask):\n    return bool(trigger_mask & 16)\n\n\nclass TriggerRate(kp.Module):\n    def configure(self):\n        self.run = True\n        self.interval = self.get(\"interval\") or trigger_rate_sampling_period()\n        print(\"Update interval: {}s\".format(self.interval))\n        self.trigger_counts = defaultdict(int)\n        self.trigger_rates = OrderedDict()\n        for trigger in [\"Overall\", \"3DMuon\", \"MXShower\", \"3DShower\"]:\n            self.trigger_rates[trigger] = deque(\n                maxlen=int(60 * 24 / (self.interval / 60))\n            )\n        self.thread = threading.Thread(target=self.plot).start()\n\n    def process(self, blob):\n        if not str(blob['CHPrefix'].tag) == 'IO_EVT':\n            return blob\n        sys.stdout.write('.')\n        sys.stdout.flush()\n\n        data = blob['CHData']\n        data_io = BytesIO(data)\n        preamble = DAQPreamble(file_obj=data_io)    # noqa\n        event = DAQEvent(file_obj=data_io)\n        tm = event.trigger_mask\n        with lock:\n            self.trigger_counts[\"Overall\"] += 1\n            self.trigger_counts[\"3DShower\"] += is_3dshower(tm)\n            self.trigger_counts[\"MXShower\"] += is_mxshower(tm)\n            self.trigger_counts[\"3DMuon\"] += is_3dmuon(tm)\n\n        print(self.trigger_counts)\n\n        return blob\n\n    def plot(self):\n        while self.run:\n            time.sleep(self.interval)\n            self.create_plot()\n\n    def create_plot(self):\n        print('\\n' + self.__class__.__name__ + \": updating plot.\")\n\n        timestamp = datetime.utcnow()\n\n        with lock:\n            for trigger, n_events in self.trigger_counts.items():\n                trigger_rate = n_events / self.interval\n                self.trigger_rates[trigger].append((timestamp, trigger_rate))\n            self.trigger_counts = defaultdict(int)\n\n        fig, ax = plt.subplots(figsize=(16, 4))\n\n        for trigger, rates in self.trigger_rates.items():\n            timestamps, trigger_rates = zip(*rates)\n            ax.plot(\n                timestamps,\n                trigger_rates,\n                **styles[trigger],\n                **general_style,\n                label=trigger\n            )\n        ax.set_title(\n            \"Trigger Rates\\n{0} UTC\".format(datetime.utcnow().strftime(\"%c\"))\n        )\n        ax.set_xlabel(\"time\")\n        ax.set_ylabel(\"trigger rate [Hz]\")\n        ax.xaxis.set_major_formatter(xfmt)\n        ax.yaxis.set_major_locator(\n            ticker.LogLocator(base=10.0, subs=(1.0, ), numticks=100)\n        )\n        ax.grid(True)\n        ax.minorticks_on()\n        plt.legend()\n\n        fig.tight_layout()\n\n        filename = os.path.join(PLOTS_PATH, 'trigger_rates_lin_test.png')\n        filename_tmp = os.path.join(\n            PLOTS_PATH, 'trigger_rates_lin_test_tmp.png'\n        )\n        plt.savefig(filename_tmp, dpi=120, bbox_inches=\"tight\")\n        shutil.move(filename_tmp, filename)\n\n        try:\n            ax.set_yscale('log')\n        except ValueError:\n            pass\n\n        filename = os.path.join(PLOTS_PATH, 'trigger_rates_test.png')\n        filename_tmp = os.path.join(PLOTS_PATH, 'trigger_rates_test_tmp.png')\n        plt.savefig(filename_tmp, dpi=120, bbox_inches=\"tight\")\n        shutil.move(filename_tmp, filename)\n\n        plt.close('all')\n        print(\"Plot updated at '{}'.\".format(filename))\n\n    def finish(self):\n        self.run = False\n        if self.thread is not None:\n            self.thread.stop()\n\n\npipe = kp.Pipeline()\npipe.attach(\n    CHPump,\n    host='127.0.0.1',\n    port=5553,\n    tags='IO_EVT',\n    timeout=60 * 60 * 24 * 7,\n    max_queue=200000\n)\npipe.attach(TriggerRate, interval=60)\npipe.drain()"
      ]
    }
  ],
  "metadata": {
    "kernelspec": {
      "display_name": "Python 3",
      "language": "python",
      "name": "python3"
    },
    "language_info": {
      "codemirror_mode": {
        "name": "ipython",
        "version": 3
      },
      "file_extension": ".py",
      "mimetype": "text/x-python",
      "name": "python",
      "nbconvert_exporter": "python",
      "pygments_lexer": "ipython3",
      "version": "3.6.5"
    }
  },
  "nbformat": 4,
  "nbformat_minor": 0
}