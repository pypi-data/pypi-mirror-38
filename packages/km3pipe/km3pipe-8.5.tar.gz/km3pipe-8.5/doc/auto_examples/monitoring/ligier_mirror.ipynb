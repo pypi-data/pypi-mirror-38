{
  "cells": [
    {
      "cell_type": "code",
      "execution_count": null,
      "metadata": {
        "collapsed": false
      },
      "outputs": [],
      "source": [
        "%matplotlib inline"
      ]
    },
    {
      "cell_type": "markdown",
      "metadata": {},
      "source": [
        "\n# Ligier Mirror\n\n\nSubscribes to given tag(s) and sends them to another Ligier.\nThis script is also available as a command line utility in km3pipe, which can\nbe accessed by the command ``ligiermirror``.\n\n\n"
      ]
    },
    {
      "cell_type": "code",
      "execution_count": null,
      "metadata": {
        "collapsed": false
      },
      "outputs": [],
      "source": [
        "from __future__ import absolute_import, print_function, division\n\n# Author: Tamas Gal <tgal@km3net.de>\n# License: MIT\n\nimport socket\n\nfrom km3pipe import Pipeline, Module\nfrom km3pipe.io import CHPump\n\n\nclass LigierSender(Module):\n    def configure(self):\n        self.ligier = self.get(\"ligier\") or \"127.0.0.1\"\n        self.port = self.get(\"port\") or 5553\n        self.socket = socket.socket()\n        self.client = self.socket.connect((self.ligier, self.port))\n\n    def process(self, blob):\n        self.socket.send(blob[\"CHPrefix\"].data + blob[\"CHData\"])\n\n    def finish(self):\n        self.socket.close()\n\n\npipe = Pipeline()\npipe.attach(\n    CHPump,\n    host='192.168.0.121',\n    port=5553,\n    tags='IO_EVT, IO_SUM, IO_TSL',\n    timeout=60 * 60 * 24 * 7,\n    max_queue=2000\n)\npipe.attach(LigierSender)\npipe.drain()"
      ]
    }
  ],
  "metadata": {
    "kernelspec": {
      "display_name": "Python 3",
      "language": "python",
      "name": "python3"
    },
    "language_info": {
      "codemirror_mode": {
        "name": "ipython",
        "version": 3
      },
      "file_extension": ".py",
      "mimetype": "text/x-python",
      "name": "python",
      "nbconvert_exporter": "python",
      "pygments_lexer": "ipython3",
      "version": "3.6.5"
    }
  },
  "nbformat": 4,
  "nbformat_minor": 0
}