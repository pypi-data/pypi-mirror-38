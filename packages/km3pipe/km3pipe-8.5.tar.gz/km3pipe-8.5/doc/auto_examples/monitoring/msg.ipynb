{
  "cells": [
    {
      "cell_type": "code",
      "execution_count": null,
      "metadata": {
        "collapsed": false
      },
      "outputs": [],
      "source": [
        "%matplotlib inline"
      ]
    },
    {
      "cell_type": "markdown",
      "metadata": {},
      "source": [
        "\n# MSG reader\n\n\nThis application demonstrates how to access MSGs from Ligier.\n\n\n"
      ]
    },
    {
      "cell_type": "code",
      "execution_count": null,
      "metadata": {
        "collapsed": false
      },
      "outputs": [],
      "source": [
        "from __future__ import absolute_import, print_function, division\n\nimport io\nimport km3pipe as kp\n\n__author__ = \"Tamas Gal\"\n__email__ = \"tgal@km3net.de\"\n\n\ndef print_msg(blob):\n    data = io.BytesIO(blob['CHData'])\n    print(data)\n    return blob\n\n\npipe = kp.Pipeline()\npipe.attach(kp.io.CHPump, host='localhost', tags='MSG')\npipe.attach(print_msg)\npipe.drain()"
      ]
    }
  ],
  "metadata": {
    "kernelspec": {
      "display_name": "Python 3",
      "language": "python",
      "name": "python3"
    },
    "language_info": {
      "codemirror_mode": {
        "name": "ipython",
        "version": 3
      },
      "file_extension": ".py",
      "mimetype": "text/x-python",
      "name": "python",
      "nbconvert_exporter": "python",
      "pygments_lexer": "ipython3",
      "version": "3.6.5"
    }
  },
  "nbformat": 4,
  "nbformat_minor": 0
}