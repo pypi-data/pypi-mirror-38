{
  "cells": [
    {
      "cell_type": "code",
      "execution_count": null,
      "metadata": {
        "collapsed": false
      },
      "outputs": [],
      "source": [
        "%matplotlib inline"
      ]
    },
    {
      "cell_type": "markdown",
      "metadata": {},
      "source": [
        "\n\n==================\nToT histogram.\n==================\n\nCreate a simple histogram of the PMT signals (ToTs) in all events.\n\n"
      ]
    },
    {
      "cell_type": "code",
      "execution_count": null,
      "metadata": {
        "collapsed": false
      },
      "outputs": [],
      "source": [
        "from __future__ import absolute_import, print_function, division\n\n# Author: Tamas Gal <tgal@km3net.de>\n# License: BSD-3\n\nimport tables as tb\nimport matplotlib.pyplot as plt\nimport km3pipe.style\nkm3pipe.style.use(\"km3pipe\")\n\nfilename = \"data/km3net_jul13_90m_muatm50T655.km3_v5r1.JTE_r2356.root.0-499.h5\"\n\nwith tb.File(filename) as f:\n    tots = f.get_node(\"/hits/tot\")[:]\n\nplt.hist(tots, bins=254, log=True, edgecolor='none')\nplt.title(\"ToT distribution\")\nplt.xlabel(\"ToT [ns]\")"
      ]
    }
  ],
  "metadata": {
    "kernelspec": {
      "display_name": "Python 3",
      "language": "python",
      "name": "python3"
    },
    "language_info": {
      "codemirror_mode": {
        "name": "ipython",
        "version": 3
      },
      "file_extension": ".py",
      "mimetype": "text/x-python",
      "name": "python",
      "nbconvert_exporter": "python",
      "pygments_lexer": "ipython3",
      "version": "3.6.4"
    }
  },
  "nbformat": 4,
  "nbformat_minor": 0
}