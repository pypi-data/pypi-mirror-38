{
  "cells": [
    {
      "cell_type": "code",
      "execution_count": null,
      "metadata": {
        "collapsed": false
      },
      "outputs": [],
      "source": [
        "%matplotlib inline"
      ]
    },
    {
      "cell_type": "markdown",
      "metadata": {},
      "source": [
        "\n\n# Convex Hull\n\n\nConvex hull of a set of points, representing Dom x-y positions.\n\nDerived from ``scipy.spatial.qhull.pyx``.\n\n"
      ]
    },
    {
      "cell_type": "code",
      "execution_count": null,
      "metadata": {
        "collapsed": false
      },
      "outputs": [],
      "source": [
        "from __future__ import absolute_import, print_function, division\n\nimport numpy as np\nfrom scipy.spatial import ConvexHull\nimport matplotlib.pyplot as plt\nfrom mpl_toolkits.mplot3d import Axes3D    # noqa\n\nfrom km3pipe.hardware import Detector\nfrom km3pipe.math import Polygon\nimport km3pipe.style\nkm3pipe.style.use(\"km3pipe\")\n\nfilename = \"data/orca_115strings_av23min20mhorizontal_18OMs_alt9mvertical_v1.detx\"    # noqa\ndetector = Detector(filename)\nxy = detector.xy_positions\nhull = ConvexHull(xy)"
      ]
    },
    {
      "cell_type": "markdown",
      "metadata": {},
      "source": [
        "Plot it:\n\n"
      ]
    },
    {
      "cell_type": "code",
      "execution_count": null,
      "metadata": {
        "collapsed": false
      },
      "outputs": [],
      "source": [
        "plt.plot(xy[:, 0], xy[:, 1], 'o')\nfor simplex in hull.simplices:\n    plt.plot(xy[simplex, 0], xy[simplex, 1], 'k-')"
      ]
    },
    {
      "cell_type": "markdown",
      "metadata": {},
      "source": [
        "We could also have directly used the vertices of the hull, which\nfor 2-D are guaranteed to be in counterclockwise order:\n\n"
      ]
    },
    {
      "cell_type": "code",
      "execution_count": null,
      "metadata": {
        "collapsed": false
      },
      "outputs": [],
      "source": [
        "plt.plot(xy[hull.vertices, 0], xy[hull.vertices, 1], 'r--', lw=2)\nplt.plot(xy[hull.vertices[0], 0], xy[hull.vertices[0], 1], 'ro')\nplt.show()"
      ]
    },
    {
      "cell_type": "markdown",
      "metadata": {},
      "source": [
        "Now let's draw a polygon inside, and see which points are contained.\n\n"
      ]
    },
    {
      "cell_type": "code",
      "execution_count": null,
      "metadata": {
        "collapsed": false
      },
      "outputs": [],
      "source": [
        "poly_vertices = np.array([\n    (-60, 120),\n    (80, 120),\n    (110, 60),\n    (110, -30),\n    (70, -110),\n    (-70, -110),\n    (-90, -70),\n    (-90, 60),\n])\npoly = Polygon(poly_vertices)\ncontain_mask = poly.contains(xy)"
      ]
    },
    {
      "cell_type": "markdown",
      "metadata": {},
      "source": [
        "and color them accordingly\n\n"
      ]
    },
    {
      "cell_type": "code",
      "execution_count": null,
      "metadata": {
        "collapsed": false
      },
      "outputs": [],
      "source": [
        "plt.clf()\nplt.plot(xy[contain_mask, 0], xy[contain_mask, 1], 'yo')\nplt.plot(xy[~contain_mask, 0], xy[~contain_mask, 1], 'bo')\nplt.plot(poly_vertices[:, 0], poly_vertices[:, 1], 'k-')\nplt.show()"
      ]
    },
    {
      "cell_type": "markdown",
      "metadata": {},
      "source": [
        "plot the same in 3D because why not?\n\n"
      ]
    },
    {
      "cell_type": "code",
      "execution_count": null,
      "metadata": {
        "collapsed": false
      },
      "outputs": [],
      "source": [
        "plt.clf()\nfig = plt.figure()\nax = fig.add_subplot(111, projection='3d')\nax.scatter(xy[:, 0], xy[:, 1], 90, 'yo')\nax.scatter(xy[:, 0], xy[:, 1], -90, 'bo')\nax.plot(poly_vertices[:, 0], poly_vertices[:, 1], 90, 'k-')\nfor simplex in hull.simplices:\n    ax.plot(xy[simplex, 0], xy[simplex, 1], -90, 'k-')\nplt.show()"
      ]
    }
  ],
  "metadata": {
    "kernelspec": {
      "display_name": "Python 3",
      "language": "python",
      "name": "python3"
    },
    "language_info": {
      "codemirror_mode": {
        "name": "ipython",
        "version": 3
      },
      "file_extension": ".py",
      "mimetype": "text/x-python",
      "name": "python",
      "nbconvert_exporter": "python",
      "pygments_lexer": "ipython3",
      "version": "3.6.4"
    }
  },
  "nbformat": 4,
  "nbformat_minor": 0
}