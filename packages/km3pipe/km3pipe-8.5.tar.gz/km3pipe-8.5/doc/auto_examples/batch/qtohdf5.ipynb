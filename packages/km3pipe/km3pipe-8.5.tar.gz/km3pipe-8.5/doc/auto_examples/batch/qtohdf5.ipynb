{
  "cells": [
    {
      "cell_type": "code",
      "execution_count": null,
      "metadata": {
        "collapsed": false
      },
      "outputs": [],
      "source": [
        "%matplotlib inline"
      ]
    },
    {
      "cell_type": "markdown",
      "metadata": {},
      "source": [
        "\n# Convert ROOT to HDF5 on the Batch Farm\n\n\nConvert ROOT files to HDF5 on the SGE.\n\nThe ``IRODS_PATH`` will be scanned recursively and if ``-s`` is specified, a\nsubstring will be used to filter the files. You can for example convert\nall numu CC files in ``/in2p3/km3net/mc/prod/v4/JTE_r2356`` if you call\nthe script with ``-s numuCC``.\n\nBefore constructing the job scripts, the ``OUTPUT_PATH`` will be traversed\nto find files which have already been converted to avoid multiple conversions.\n\n.. code-block:: console\n\n    Usage:\n        qtohdf5.py IRODS_PATH OUTPUT_PATH [options]\n        qtohdf5.py (-h | --help)\n\n    Options:\n        IRODS_PATH     Path the the files on iRODS.\n        OUTPUT_PATH    Path to store the converted HDF5 files.\n        -s SUBSTRING   String to match on filenames.\n        -n N_FILES     Number of files to process per job [default: 10].\n        -e ET          Estimated walltime per file in minutes [default: 15].\n        -m VMEM        Estimated vmem for a job [default: 8G].\n        -j JOBNAME     The name of the submitted jobs [default: tohdf5].\n        -l LOG_PATH    Path of the job log files [default: qlogs].\n        -q             Dryrun: don't submit jobs, just print the first job script.\n        -h --help      Show this screen.\n\n\n"
      ]
    },
    {
      "cell_type": "code",
      "execution_count": null,
      "metadata": {
        "collapsed": false
      },
      "outputs": [],
      "source": [
        "from __future__ import absolute_import, print_function, division\n\nfrom glob import glob\nimport os\nfrom os.path import basename, join\nimport time\nimport km3pipe as kp\nfrom km3pipe.tools import chunks\n\n__author__ = \"Tamas Gal\"\n__email__ = \"tgal@km3net.de\"\n__version__ = \"1.0\"\n\n\ndef mkdir(path):\n    \"\"\"Create folder if it does not exist.\"\"\"\n    if not os.path.exists(path):\n        os.makedirs(path)\n\n\ndef main():\n    from docopt import docopt\n    args = docopt(__doc__, version=__version__)\n\n    CWD = os.getcwd()\n    IRODS_PATH = args['IRODS_PATH']\n    OUTPUT_PATH = join(CWD, args['OUTPUT_PATH'])\n    SUBSTRING = '' if args['-s'] is None else args['-s']\n    ET_PER_FILE = int(args['-e']) * 60    # [s]\n    FILES_PER_JOB = int(args['-n'])\n    VMEM = args['-m']\n    LOG_PATH = args['-l']\n    JOB_NAME = args['-j']\n    DRYRUN = args['-q']\n\n    mkdir(OUTPUT_PATH)\n\n    mupage_files = kp.tools.ifiles(args['IRODS_PATH'])\n    files = [basename(f) for f in mupage_files if SUBSTRING in f]\n    conv_files = [basename(f)[:-3] for f in glob(join(OUTPUT_PATH, '*.h5'))]\n    rem_files = list(set(files) - set(conv_files))\n\n    print(\"{} MUPAGE files on iRODS\".format(len(files)))\n    print(\"{} files to be converted.\".format(len(rem_files)))\n\n    s = kp.shell.Script()\n\n    for job_id, file_chunk in enumerate(chunks(rem_files, FILES_PER_JOB)):\n        n_files = len(file_chunk)\n        s.add(\"echo A job to convert {} files to HDF5\".format(n_files))\n        s.add(\"cd $TMPDIR; mkdir -p $USER; cd $USER\")\n        s.add(\"echo\")\n\n        for fname in file_chunk:\n            ipath = join(IRODS_PATH, fname)\n            s.separator('=')\n            s.echo(\"Processing {}:\".format(fname))\n            s.iget(ipath)\n            h5_fname = fname + '.h5'\n            lock_fname = join(OUTPUT_PATH, h5_fname + '.copying')\n            s.add(\"tohdf5 {} -o {}\".format(fname, h5_fname))\n            s.add(\"touch {}\".format(lock_fname))\n            s.cp(h5_fname, OUTPUT_PATH)\n            s.add(\"rm -f {}\".format(lock_fname))\n            s.add(\"rm -f {}\".format(h5_fname))\n            s.echo(\"File '{}' converted.\".format(fname))\n            s.separator('-')\n\n        walltime = time.strftime(\n            '%H:%M:%S', time.gmtime(ET_PER_FILE * n_files)\n        )\n\n        kp.shell.qsub(\n            s,\n            '{}_{}'.format(JOB_NAME, job_id),\n            walltime=walltime,\n            vmem=VMEM,\n            log_path=LOG_PATH,\n            irods=True,\n            dryrun=DRYRUN\n        )\n\n        if DRYRUN:\n            break\n\n        s.clear()\n\n\nif __name__ == \"__main__\":\n    main()"
      ]
    }
  ],
  "metadata": {
    "kernelspec": {
      "display_name": "Python 3",
      "language": "python",
      "name": "python3"
    },
    "language_info": {
      "codemirror_mode": {
        "name": "ipython",
        "version": 3
      },
      "file_extension": ".py",
      "mimetype": "text/x-python",
      "name": "python",
      "nbconvert_exporter": "python",
      "pygments_lexer": "ipython3",
      "version": "3.6.5"
    }
  },
  "nbformat": 4,
  "nbformat_minor": 0
}