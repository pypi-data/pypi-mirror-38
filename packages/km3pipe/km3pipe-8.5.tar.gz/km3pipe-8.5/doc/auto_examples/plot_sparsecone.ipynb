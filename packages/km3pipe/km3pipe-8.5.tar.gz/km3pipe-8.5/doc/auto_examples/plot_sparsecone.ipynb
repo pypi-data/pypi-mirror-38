{
  "cells": [
    {
      "cell_type": "code",
      "execution_count": null,
      "metadata": {
        "collapsed": false
      },
      "outputs": [],
      "source": [
        "%matplotlib inline"
      ]
    },
    {
      "cell_type": "markdown",
      "metadata": {},
      "source": [
        "\n\n# Cone\n\n\nSparse Cone\n\n"
      ]
    },
    {
      "cell_type": "code",
      "execution_count": null,
      "metadata": {
        "collapsed": false
      },
      "outputs": [],
      "source": [
        "from __future__ import absolute_import, print_function, division\n\nimport numpy as np\nimport matplotlib.pyplot as plt\nfrom mpl_toolkits.mplot3d import Axes3D    # noqa\n\nfrom km3pipe.math import SparseCone\nimport km3pipe.style\nkm3pipe.style.use(\"moritz\")\n\nspike = [0, 0, 1]\nbottom = [0, 0, 0]\nangle = np.pi / 4\nn_angles = 20\ncone = SparseCone(spike, bottom, angle)\ncirc_samp = cone.sample_circle(n_angles=n_angles)\naxis_samp = cone.sample_axis\nsamp = cone.sample(n_angles)\n\nsamp = np.array(samp)"
      ]
    },
    {
      "cell_type": "markdown",
      "metadata": {},
      "source": [
        "plot the same in 3D because why not?\n\n"
      ]
    },
    {
      "cell_type": "code",
      "execution_count": null,
      "metadata": {
        "collapsed": false
      },
      "outputs": [],
      "source": [
        "plt.clf()\nfig = plt.figure()\nax = fig.add_subplot(111, projection='3d')\nax.scatter(samp[:, 0], samp[:, 1], samp[:, 2], 'yo')\nplt.show()"
      ]
    }
  ],
  "metadata": {
    "kernelspec": {
      "display_name": "Python 3",
      "language": "python",
      "name": "python3"
    },
    "language_info": {
      "codemirror_mode": {
        "name": "ipython",
        "version": 3
      },
      "file_extension": ".py",
      "mimetype": "text/x-python",
      "name": "python",
      "nbconvert_exporter": "python",
      "pygments_lexer": "ipython3",
      "version": "3.6.4"
    }
  },
  "nbformat": 4,
  "nbformat_minor": 0
}