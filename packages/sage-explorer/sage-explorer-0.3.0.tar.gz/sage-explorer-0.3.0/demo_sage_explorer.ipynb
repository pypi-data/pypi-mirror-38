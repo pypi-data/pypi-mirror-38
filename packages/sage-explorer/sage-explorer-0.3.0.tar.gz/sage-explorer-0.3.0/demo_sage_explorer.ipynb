{
 "cells": [
  {
   "cell_type": "markdown",
   "metadata": {},
   "source": [
    "# A Sage Explorer/browser demo\n"
   ]
  },
  {
   "cell_type": "markdown",
   "metadata": {},
   "source": [
    "Calling `explore(o)` on some Sage object `o` provides a rich\n",
    "visualization of this object, displaying the object, together\n",
    "with some of its basic properties, a list of the available methods,\n",
    "its help, etc. In order to explore related objects, one can click\n",
    "on displayed objects and execute methods.\n",
    "\n",
    "Let's try with a few objects:"
   ]
  },
  {
   "cell_type": "code",
   "execution_count": 4,
   "metadata": {},
   "outputs": [
    {
     "data": {
      "application/vnd.jupyter.widget-view+json": {
       "model_id": "f5e7f031c36d41e893cfdcd92727b13e",
       "version_major": 2,
       "version_minor": 0
      },
      "text/plain": [
       "U2FnZUV4cGxvcmVyKGNoaWxkcmVuPShIQm94KGNoaWxkcmVuPShWQm94KGNoaWxkcmVuPShUaXRsZSh2YWx1ZT11J0V4cGxvcmluZzogPGZ1bmN0aW9uIGlzZnVuY3Rpb24gYXQgMHg3ZjE2ZmXigKY=\n"
      ]
     },
     "metadata": {},
     "output_type": "display_data"
    }
   ],
   "source": [
    "from sage_explorer import explore\n",
    "import inspect\n",
    "explore(inspect.isfunction)"
   ]
  },
  {
   "cell_type": "code",
   "execution_count": 2,
   "metadata": {
    "scrolled": false
   },
   "outputs": [
    {
     "data": {
      "application/vnd.jupyter.widget-view+json": {
       "model_id": "82679cfae2a8456cabdfe42f97193ed6",
       "version_major": 2,
       "version_minor": 0
      },
      "text/plain": [
       "U2FnZUV4cGxvcmVyKGNoaWxkcmVuPShIQm94KGNoaWxkcmVuPShWQm94KGNoaWxkcmVuPShUaXRsZSh2YWx1ZT11J0V4cGxvcmluZzogWzMsIDMsIDIsIDFdJywgX2RvbV9jbGFzc2VzPSh1J3TigKY=\n"
      ]
     },
     "metadata": {},
     "output_type": "display_data"
    }
   ],
   "source": [
    "p = Partition([3,3,2,1])\n",
    "explore(p)"
   ]
  },
  {
   "cell_type": "code",
   "execution_count": 3,
   "metadata": {
    "scrolled": false
   },
   "outputs": [
    {
     "data": {
      "application/vnd.jupyter.widget-view+json": {
       "model_id": "3bc73f81735548a89a25a9ef914b5974",
       "version_major": 2,
       "version_minor": 0
      },
      "text/plain": [
       "U2FnZUV4cGxvcmVyKGNoaWxkcmVuPShIQm94KGNoaWxkcmVuPShWQm94KGNoaWxkcmVuPShUaXRsZSh2YWx1ZT11J0V4cGxvcmluZzogW1sxLCAzLCA1LCA3LCAxMCwgMTMsIDE1XSwgWzIsIDTigKY=\n"
      ]
     },
     "metadata": {},
     "output_type": "display_data"
    }
   ],
   "source": [
    "t = StandardTableaux(15).random_element()\n",
    "explore(t)"
   ]
  },
  {
   "cell_type": "code",
   "execution_count": 4,
   "metadata": {},
   "outputs": [
    {
     "data": {
      "application/vnd.jupyter.widget-view+json": {
       "model_id": "c6d5e8b67cb14f119d58c4856ab2b3be",
       "version_major": 2,
       "version_minor": 0
      },
      "text/plain": [
       "U2FnZUV4cGxvcmVyKGNoaWxkcmVuPShIQm94KGNoaWxkcmVuPShWQm94KGNoaWxkcmVuPShUaXRsZSh2YWx1ZT11J0V4cGxvcmluZzogRmluaXRlIHBvc2V0IGNvbnRhaW5pbmcgOSBlbGVtZW7igKY=\n"
      ]
     },
     "metadata": {},
     "output_type": "display_data"
    }
   ],
   "source": [
    "explore(p.cell_poset())"
   ]
  },
  {
   "cell_type": "code",
   "execution_count": 5,
   "metadata": {},
   "outputs": [
    {
     "data": {
      "application/vnd.jupyter.widget-view+json": {
       "model_id": "7e503af1324b48cdb7878674fc05e2d0",
       "version_major": 2,
       "version_minor": 0
      },
      "text/plain": [
       "U2FnZUV4cGxvcmVyKGNoaWxkcmVuPShIQm94KGNoaWxkcmVuPShWQm94KGNoaWxkcmVuPShUaXRsZSh2YWx1ZT11J0V4cGxvcmluZzogUGV0ZXJzZW4gZ3JhcGg6IEdyYXBoIG9uIDEwIHZlcnTigKY=\n"
      ]
     },
     "metadata": {},
     "output_type": "display_data"
    }
   ],
   "source": [
    "explore(graphs.PetersenGraph())"
   ]
  },
  {
   "cell_type": "code",
   "execution_count": 6,
   "metadata": {},
   "outputs": [
    {
     "data": {
      "application/vnd.jupyter.widget-view+json": {
       "model_id": "25d3fe1029e942958cd20c259432fcb4",
       "version_major": 2,
       "version_minor": 0
      },
      "text/plain": [
       "U2FnZUV4cGxvcmVyKGNoaWxkcmVuPShIQm94KGNoaWxkcmVuPShWQm94KGNoaWxkcmVuPShUaXRsZSh2YWx1ZT11J0V4cGxvcmluZzogRmluaXRlIEZpZWxkIGluIHggb2Ygc2l6ZSAzXjInLCDigKY=\n"
      ]
     },
     "metadata": {},
     "output_type": "display_data"
    }
   ],
   "source": [
    "explore(GF(9, name='x'))"
   ]
  },
  {
   "cell_type": "code",
   "execution_count": 7,
   "metadata": {},
   "outputs": [
    {
     "data": {
      "application/vnd.jupyter.widget-view+json": {
       "model_id": "a31b43f2057140d3ace5ee0646494a58",
       "version_major": 2,
       "version_minor": 0
      },
      "text/plain": [
       "U2FnZUV4cGxvcmVyKGNoaWxkcmVuPShIQm94KGNoaWxkcmVuPShWQm94KGNoaWxkcmVuPShUaXRsZSh2YWx1ZT11J0V4cGxvcmluZzogSGlnaGVzdCB3ZWlnaHQgY3J5c3RhbCBvZiB0eXBlIEHigKY=\n"
      ]
     },
     "metadata": {},
     "output_type": "display_data"
    }
   ],
   "source": [
    "explore(Crystals().example())"
   ]
  },
  {
   "cell_type": "markdown",
   "metadata": {},
   "source": [
    "## Exploring Sage as a whole"
   ]
  },
  {
   "cell_type": "code",
   "execution_count": 2,
   "metadata": {
    "scrolled": false
   },
   "outputs": [
    {
     "data": {
      "application/vnd.jupyter.widget-view+json": {
       "model_id": "6da5aa2152cd4d98b6deb5ecc183ebcb",
       "version_major": 2,
       "version_minor": 0
      },
      "text/plain": [
       "U2FnZUV4cGxvcmVyKGNoaWxkcmVuPShIQm94KGNoaWxkcmVuPShWQm94KGNoaWxkcmVuPShUaXRsZSh2YWx1ZT11J1NhZ2UgRXhwbG9yZXInLCBfZG9tX2NsYXNzZXM9KHUndGl0bGUtbGV2ZWzigKY=\n"
      ]
     },
     "metadata": {},
     "output_type": "display_data"
    }
   ],
   "source": [
    "explore()"
   ]
  },
  {
   "cell_type": "markdown",
   "metadata": {},
   "source": [
    "## The explorer as a building block\n",
    "Because the explorer is built using Jupyter widgets, it can be used as\n",
    "a building block for other applications. To start with, one can change\n",
    "the displayed object:"
   ]
  },
  {
   "cell_type": "code",
   "execution_count": 9,
   "metadata": {},
   "outputs": [
    {
     "data": {
      "application/vnd.jupyter.widget-view+json": {
       "model_id": "bd7f155ee053414da6719c833b9f1f2c",
       "version_major": 2,
       "version_minor": 0
      },
      "text/plain": [
       "U2FnZUV4cGxvcmVyKGNoaWxkcmVuPShIQm94KGNoaWxkcmVuPShWQm94KGNoaWxkcmVuPShUaXRsZSh2YWx1ZT11J0V4cGxvcmluZzogWzMsIDMsIDIsIDFdJywgX2RvbV9jbGFzc2VzPSh1J3TigKY=\n"
      ]
     },
     "metadata": {},
     "output_type": "display_data"
    }
   ],
   "source": [
    "widget = explore(p)\n",
    "widget"
   ]
  },
  {
   "cell_type": "code",
   "execution_count": 10,
   "metadata": {},
   "outputs": [],
   "source": [
    "widget.set_object(Partition([5,2,1]))"
   ]
  },
  {
   "cell_type": "markdown",
   "metadata": {},
   "source": [
    "### Example: building a dedicated elliptic curve browser\n",
    "This provides a browser over the 20 first elliptic curves from Cremona database:"
   ]
  },
  {
   "cell_type": "code",
   "execution_count": 11,
   "metadata": {
    "scrolled": false
   },
   "outputs": [
    {
     "data": {
      "application/vnd.jupyter.widget-view+json": {
       "model_id": "c703017670bb424a9a748dd17359fb40",
       "version_major": 2,
       "version_minor": 0
      },
      "text/plain": [
       "RHJvcGRvd24oZGVzY3JpcHRpb249dSdDdXJ2ZScsIG9wdGlvbnM9KCcxMWExJywgJzExYTInLCAnMTFhMycsICcxNGExJywgJzE0YTInLCAnMTRhMycsICcxNGE0JywgJzE0YTUnLCAnMTRhNifigKY=\n"
      ]
     },
     "metadata": {},
     "output_type": "display_data"
    },
    {
     "data": {
      "application/vnd.jupyter.widget-view+json": {
       "model_id": "c7057f0bf8974b3b87fced19948fdbd8",
       "version_major": 2,
       "version_minor": 0
      },
      "text/plain": [
       "U2FnZUV4cGxvcmVyKGNoaWxkcmVuPShIQm94KGNoaWxkcmVuPShWQm94KGNoaWxkcmVuPShUaXRsZSh2YWx1ZT11J0V4cGxvcmluZzogRWxsaXB0aWMgQ3VydmUgZGVmaW5lZCBieSB5XjIgKyDigKY=\n"
      ]
     },
     "metadata": {},
     "output_type": "display_data"
    }
   ],
   "source": [
    "from ipywidgets import Dropdown, VBox\n",
    "from IPython.display import display\n",
    "\n",
    "curves = [E.label() for E in cremona_curves(range(20))]\n",
    "explorer = explore(EllipticCurve(curves[0]))\n",
    "menu = Dropdown(options=curves, description = \"Curve\")\n",
    "def handler(event):\n",
    "    print(event)\n",
    "    explorer.set_object(EllipticCurve(event['new']))\n",
    "menu.observe(handler, names=['value'])\n",
    "display(menu, explorer)"
   ]
  },
  {
   "cell_type": "code",
   "execution_count": null,
   "metadata": {},
   "outputs": [],
   "source": []
  }
 ],
 "metadata": {
  "kernelspec": {
   "display_name": "SageMath 8.3",
   "language": "",
   "name": "sagemath"
  },
  "language_info": {
   "codemirror_mode": {
    "name": "ipython",
    "version": 2
   },
   "file_extension": ".py",
   "mimetype": "text/x-python",
   "name": "python",
   "nbconvert_exporter": "python",
   "pygments_lexer": "ipython2",
   "version": "2.7.15"
  }
 },
 "nbformat": 4,
 "nbformat_minor": 2
}
