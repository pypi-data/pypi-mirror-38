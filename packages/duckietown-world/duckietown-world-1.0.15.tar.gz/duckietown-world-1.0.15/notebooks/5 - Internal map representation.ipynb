{
 "cells": [
  {
   "cell_type": "markdown",
   "metadata": {
    "deletable": true,
    "editable": true
   },
   "source": [
    "# Setup"
   ]
  },
  {
   "cell_type": "code",
   "execution_count": 26,
   "metadata": {
    "collapsed": false,
    "deletable": true,
    "editable": true
   },
   "outputs": [],
   "source": [
    "import duckietown_world as dw\n",
    "import logging\n",
    "dw.logger.setLevel(logging.CRITICAL)\n",
    "import contracts; contracts.disable_all()"
   ]
  },
  {
   "cell_type": "markdown",
   "metadata": {
    "deletable": true,
    "editable": true
   },
   "source": [
    "Better visualization of output"
   ]
  },
  {
   "cell_type": "code",
   "execution_count": 27,
   "metadata": {
    "collapsed": false,
    "deletable": true,
    "editable": true
   },
   "outputs": [
    {
     "data": {
      "text/html": [
       "<style>\n",
       "pre {line-height: 90%}\n",
       "</style>"
      ],
      "text/plain": [
       "<IPython.core.display.HTML object>"
      ]
     },
     "metadata": {},
     "output_type": "display_data"
    }
   ],
   "source": [
    "%%html\n",
    "<style>\n",
    "pre {line-height: 90%}\n",
    "</style>"
   ]
  },
  {
   "cell_type": "code",
   "execution_count": 28,
   "metadata": {
    "collapsed": true,
    "deletable": true,
    "editable": true
   },
   "outputs": [],
   "source": [
    "\n",
    "def draw_html(po, outdir=None, area=None):\n",
    "    if outdir is None:\n",
    "        outdir = 'out-draw_html/%s' % id(po)\n",
    "    dw.draw_static(po, outdir, area=area)\n",
    "\n",
    "    from IPython.display import IFrame, display\n",
    "\n",
    "    iframe = IFrame(src=outdir + '/drawing.html', width='100%', height=600)\n",
    "    display(iframe)"
   ]
  },
  {
   "cell_type": "markdown",
   "metadata": {
    "deletable": true,
    "editable": true
   },
   "source": [
    "# Map representation\n",
    "\n",
    "Let's load a map and see how data is represented inside:"
   ]
  },
  {
   "cell_type": "code",
   "execution_count": 29,
   "metadata": {
    "collapsed": false,
    "deletable": true,
    "editable": true
   },
   "outputs": [
    {
     "data": {
      "text/html": [
       "\n",
       "        <iframe\n",
       "            width=\"100%\"\n",
       "            height=\"600\"\n",
       "            src=\"out-draw_html/4615772304/drawing.html\"\n",
       "            frameborder=\"0\"\n",
       "            allowfullscreen\n",
       "        ></iframe>\n",
       "        "
      ],
      "text/plain": [
       "<IPython.lib.display.IFrame at 0x11be2d050>"
      ]
     },
     "metadata": {},
     "output_type": "display_data"
    }
   ],
   "source": [
    "m = dw.load_map('small_loop')\n",
    "draw_html(m)"
   ]
  },
  {
   "cell_type": "markdown",
   "metadata": {
    "deletable": true,
    "editable": true
   },
   "source": [
    "The map is a `DuckietownMap` which is an instance of `PlacedObject`. All spatially situated objects\n",
    "are instances of this class."
   ]
  },
  {
   "cell_type": "code",
   "execution_count": 30,
   "metadata": {
    "collapsed": false,
    "deletable": true,
    "editable": true,
    "scrolled": false
   },
   "outputs": [
    {
     "data": {
      "text/plain": [
       "[duckietown_world.world_duckietown.duckietown_map.DuckietownMap,\n",
       " duckietown_world.geo.placed_object.PlacedObject,\n",
       " duckietown_serialization_ds1.serialization1.Serializable,\n",
       " duckietown_serialization_ds1.serialization1.Serializable0,\n",
       " object]"
      ]
     },
     "execution_count": 30,
     "metadata": {},
     "output_type": "execute_result"
    }
   ],
   "source": [
    "type(m).mro() # see all superclasses of the object"
   ]
  },
  {
   "cell_type": "markdown",
   "metadata": {
    "deletable": true,
    "editable": true
   },
   "source": [
    "## Children"
   ]
  },
  {
   "cell_type": "markdown",
   "metadata": {
    "deletable": true,
    "editable": true
   },
   "source": [
    "The data is arranged in a hierarchy. We can visualize using the function `get_object_tree`. The hierarchy is more deep, but we clip it to 2 levels:"
   ]
  },
  {
   "cell_type": "code",
   "execution_count": 31,
   "metadata": {
    "collapsed": false,
    "deletable": true,
    "editable": true,
    "scrolled": true
   },
   "outputs": [
    {
     "name": "stdout",
     "output_type": "stream",
     "text": [
      "DuckietownMap\n",
      "\n",
      "└ tilemap ┐ TileMap\n",
      "          │ \n",
      "          │ ├ tile-2-2 ┐ Tile\n",
      "          │ │          └───────\n",
      "          │ ├ tile-2-0 ┐ Tile\n",
      "          │ │          └───────\n",
      "          │ ├ tile-2-1 ┐ Tile\n",
      "          │ │          └───────\n",
      "          │ ├ tile-0-0 ┐ Tile\n",
      "          │ │          └───────\n",
      "          │ ├ tile-0-1 ┐ Tile\n",
      "          │ │          └───────\n",
      "          │ ├ tile-0-2 ┐ Tile\n",
      "          │ │          └───────\n",
      "          │ ├ tile-1-1 ┐ Tile\n",
      "          │ │          └───────\n",
      "          │ ├ tile-1-0 ┐ Tile\n",
      "          │ │          └───────\n",
      "          │ └ tile-1-2 ┐ Tile\n",
      "          │            └───────\n",
      "          └──────────────────────\n"
     ]
    }
   ],
   "source": [
    "print(dw.get_object_tree(m, levels=2))"
   ]
  },
  {
   "cell_type": "markdown",
   "metadata": {
    "deletable": true,
    "editable": true
   },
   "source": [
    "The children are available in the `children` variable:"
   ]
  },
  {
   "cell_type": "code",
   "execution_count": 32,
   "metadata": {
    "collapsed": false,
    "deletable": true,
    "editable": true
   },
   "outputs": [
    {
     "data": {
      "text/plain": [
       "{'tilemap': TileMap(H=3,W=3)}"
      ]
     },
     "execution_count": 32,
     "metadata": {},
     "output_type": "execute_result"
    }
   ],
   "source": [
    "m.children"
   ]
  },
  {
   "cell_type": "code",
   "execution_count": 33,
   "metadata": {
    "collapsed": false,
    "deletable": true,
    "editable": true,
    "scrolled": true
   },
   "outputs": [
    {
     "data": {
      "text/plain": [
       "{'tile-0-0': Tile(kind=curve_left,drivable=True),\n",
       " 'tile-0-1': Tile(kind=straight,drivable=True),\n",
       " 'tile-0-2': Tile(kind=curve_left,drivable=True),\n",
       " 'tile-1-0': Tile(kind=straight,drivable=True),\n",
       " 'tile-1-1': Tile(kind=asphalt,drivable=False),\n",
       " 'tile-1-2': Tile(kind=straight,drivable=True),\n",
       " 'tile-2-0': Tile(kind=curve_left,drivable=True),\n",
       " 'tile-2-1': Tile(kind=straight,drivable=True),\n",
       " 'tile-2-2': Tile(kind=curve_left,drivable=True)}"
      ]
     },
     "execution_count": 33,
     "metadata": {},
     "output_type": "execute_result"
    }
   ],
   "source": [
    "m.children['tilemap'].children"
   ]
  },
  {
   "cell_type": "markdown",
   "metadata": {
    "deletable": true,
    "editable": true
   },
   "source": [
    "You can use the notation below to get a child in a compact way:"
   ]
  },
  {
   "cell_type": "code",
   "execution_count": 34,
   "metadata": {
    "collapsed": false,
    "deletable": true,
    "editable": true,
    "scrolled": true
   },
   "outputs": [],
   "source": [
    "tile = m['tilemap/tile-0-0']"
   ]
  },
  {
   "cell_type": "markdown",
   "metadata": {
    "deletable": true,
    "editable": true
   },
   "source": [
    "In this case we can see how a Tile has a child `curve_left` with a child `curve` with two children `lane1` and `lane2`:"
   ]
  },
  {
   "cell_type": "code",
   "execution_count": 35,
   "metadata": {
    "collapsed": false,
    "deletable": true,
    "editable": true
   },
   "outputs": [
    {
     "name": "stdout",
     "output_type": "stream",
     "text": [
      "Tile\n",
      "\n",
      "└ curve_left ┐ PlacedObject\n",
      "             │ \n",
      "             │ └ curve ┐ PlacedObject\n",
      "             │         │\n",
      "             │         │ ├ lane2 ┐ LaneSegment\n",
      "             │         │ │       │\n",
      "             │         │ │       │ └ traveling-point ┐ PlacedObject\n",
      "             │         │ │       │                   └───────────────\n",
      "             │         │ │       └─────────────────────────────────────\n",
      "             │         │ └ lane1 ┐ LaneSegment\n",
      "             │         │         └──────────────\n",
      "             │         └─────────────────────────────────────────────────\n",
      "             └─────────────────────────────────────────────────────────────\n"
     ]
    }
   ],
   "source": [
    "print(dw.get_object_tree(tile, attributes=False, levels=10))"
   ]
  },
  {
   "cell_type": "code",
   "execution_count": 36,
   "metadata": {
    "collapsed": false,
    "deletable": true,
    "editable": true
   },
   "outputs": [
    {
     "data": {
      "text/html": [
       "\n",
       "        <iframe\n",
       "            width=\"100%\"\n",
       "            height=\"600\"\n",
       "            src=\"out-draw_html/4737451216/drawing.html\"\n",
       "            frameborder=\"0\"\n",
       "            allowfullscreen\n",
       "        ></iframe>\n",
       "        "
      ],
      "text/plain": [
       "<IPython.lib.display.IFrame at 0x119ecfe90>"
      ]
     },
     "metadata": {},
     "output_type": "display_data"
    }
   ],
   "source": [
    "draw_html(tile)"
   ]
  },
  {
   "cell_type": "code",
   "execution_count": 37,
   "metadata": {
    "collapsed": false,
    "deletable": true,
    "editable": true
   },
   "outputs": [
    {
     "data": {
      "text/html": [
       "\n",
       "        <iframe\n",
       "            width=\"100%\"\n",
       "            height=\"600\"\n",
       "            src=\"out-draw_html/4615598224/drawing.html\"\n",
       "            frameborder=\"0\"\n",
       "            allowfullscreen\n",
       "        ></iframe>\n",
       "        "
      ],
      "text/plain": [
       "<IPython.lib.display.IFrame at 0x11bc7b210>"
      ]
     },
     "metadata": {},
     "output_type": "display_data"
    }
   ],
   "source": [
    "draw_html(tile['curve_left/curve'])"
   ]
  },
  {
   "cell_type": "code",
   "execution_count": 38,
   "metadata": {
    "collapsed": false,
    "deletable": true,
    "editable": true
   },
   "outputs": [
    {
     "data": {
      "text/html": [
       "\n",
       "        <iframe\n",
       "            width=\"100%\"\n",
       "            height=\"600\"\n",
       "            src=\"out-draw_html/4615599056/drawing.html\"\n",
       "            frameborder=\"0\"\n",
       "            allowfullscreen\n",
       "        ></iframe>\n",
       "        "
      ],
      "text/plain": [
       "<IPython.lib.display.IFrame at 0x11319d150>"
      ]
     },
     "metadata": {},
     "output_type": "display_data"
    }
   ],
   "source": [
    "lane = tile['curve_left/curve/lane2']\n",
    "draw_html(lane)"
   ]
  },
  {
   "cell_type": "code",
   "execution_count": 39,
   "metadata": {
    "collapsed": false,
    "deletable": true,
    "editable": true
   },
   "outputs": [
    {
     "data": {
      "text/plain": [
       "0.47"
      ]
     },
     "execution_count": 39,
     "metadata": {},
     "output_type": "execute_result"
    }
   ],
   "source": [
    "lane.width"
   ]
  },
  {
   "cell_type": "code",
   "execution_count": 40,
   "metadata": {
    "collapsed": false,
    "deletable": true,
    "editable": true
   },
   "outputs": [
    {
     "data": {
      "text/plain": [
       "[SE2Transform([-0.5, -0.25],0.0),\n",
       " SE2Transform([0.0, -0.25],0.0),\n",
       " SE2Transform([0.25, 0.0],1.57079632679),\n",
       " SE2Transform([0.25, 0.5],1.57079632679)]"
      ]
     },
     "execution_count": 40,
     "metadata": {},
     "output_type": "execute_result"
    }
   ],
   "source": [
    "lane.control_points"
   ]
  },
  {
   "cell_type": "markdown",
   "metadata": {
    "deletable": true,
    "editable": true
   },
   "source": [
    "## Parametrization of lanes\n",
    "\n",
    "The lane is parametrized with a parameter `beta` that interpolates among the control points.\n",
    "\n",
    "Here we create an animation of the center point for different `beta`s."
   ]
  },
  {
   "cell_type": "code",
   "execution_count": 41,
   "metadata": {
    "collapsed": false,
    "deletable": true,
    "editable": true
   },
   "outputs": [
    {
     "data": {
      "text/html": [
       "\n",
       "        <iframe\n",
       "            width=\"100%\"\n",
       "            height=\"600\"\n",
       "            src=\"out-draw_html/4615599056/drawing.html\"\n",
       "            frameborder=\"0\"\n",
       "            allowfullscreen\n",
       "        ></iframe>\n",
       "        "
      ],
      "text/plain": [
       "<IPython.lib.display.IFrame at 0x106698bd0>"
      ]
     },
     "metadata": {},
     "output_type": "display_data"
    }
   ],
   "source": [
    "import numpy as np\n",
    "npoints = len(lane.control_points)\n",
    "betas = list(np.linspace(-1, npoints + 1, 20))\n",
    "\n",
    "transforms = []\n",
    "for beta in betas:\n",
    "    p = lane.center_point(beta)\n",
    "    transform = dw.SE2Transform.from_SE2(p)\n",
    "    transforms.append(transform)\n",
    "\n",
    "ground_truth = dw.SampledSequence(betas, transforms)\n",
    "lane.set_object('traveling-point', dw.PlacedObject(), ground_truth=ground_truth)\n",
    "draw_html(lane)"
   ]
  },
  {
   "cell_type": "markdown",
   "metadata": {
    "deletable": true,
    "editable": true
   },
   "source": [
    "Scrub the timeline to see the animation."
   ]
  },
  {
   "cell_type": "code",
   "execution_count": null,
   "metadata": {
    "collapsed": true,
    "deletable": true,
    "editable": true
   },
   "outputs": [],
   "source": []
  }
 ],
 "metadata": {
  "kernelspec": {
   "display_name": "Python 2",
   "language": "python",
   "name": "python2"
  },
  "language_info": {
   "codemirror_mode": {
    "name": "ipython",
    "version": 2
   },
   "file_extension": ".py",
   "mimetype": "text/x-python",
   "name": "python",
   "nbconvert_exporter": "python",
   "pygments_lexer": "ipython2",
   "version": "2.7.11"
  }
 },
 "nbformat": 4,
 "nbformat_minor": 2
}
