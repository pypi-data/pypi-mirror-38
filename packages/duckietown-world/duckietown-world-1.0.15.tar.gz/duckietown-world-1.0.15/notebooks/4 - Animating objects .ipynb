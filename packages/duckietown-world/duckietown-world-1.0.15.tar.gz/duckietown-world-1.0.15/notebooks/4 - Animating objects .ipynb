{
 "cells": [
  {
   "cell_type": "markdown",
   "metadata": {
    "deletable": true,
    "editable": true
   },
   "source": [
    "## Pose interpolation code"
   ]
  },
  {
   "cell_type": "code",
   "execution_count": 1,
   "metadata": {
    "collapsed": false,
    "deletable": true,
    "editable": true,
    "scrolled": true
   },
   "outputs": [
    {
     "name": "stderr",
     "output_type": "stream",
     "text": [
      "INFO:dt-world:duckietown-world 1.0.14\n"
     ]
    }
   ],
   "source": [
    "import geometry as geo\n",
    "import numpy as np\n",
    "import duckietown_world as dw"
   ]
  },
  {
   "cell_type": "code",
   "execution_count": 2,
   "metadata": {
    "collapsed": true,
    "deletable": true,
    "editable": true
   },
   "outputs": [],
   "source": [
    "def interpolate(q0, q1, alpha):\n",
    "    v = geo.SE2.algebra_from_group(geo.SE2.multiply(geo.SE2.inverse(q0), q1))\n",
    "    vi = v * alpha\n",
    "    q = np.dot(q0, geo.SE2.group_from_algebra(vi))\n",
    "    return q"
   ]
  },
  {
   "cell_type": "markdown",
   "metadata": {
    "deletable": true,
    "editable": true
   },
   "source": [
    "Utility function to draw in IPython:"
   ]
  },
  {
   "cell_type": "code",
   "execution_count": 3,
   "metadata": {
    "collapsed": true,
    "deletable": true,
    "editable": true
   },
   "outputs": [],
   "source": [
    "def draw_html(po, outdir=None, area=None):\n",
    "    if outdir is None:\n",
    "        outdir = 'out-%s' % id(po)\n",
    "    dw.draw_static(po, outdir, area=area)\n",
    "\n",
    "    from IPython.display import IFrame, display\n",
    "\n",
    "    iframe = IFrame(src=outdir + '/drawing.html', width='100%', height=600)\n",
    "    display(iframe)"
   ]
  },
  {
   "cell_type": "markdown",
   "metadata": {
    "deletable": true,
    "editable": true
   },
   "source": [
    "## PlacedObject example\n",
    "\n",
    "All objects in the map are instances of `PlacedObject`. \n",
    "\n",
    "To create a new object, subclass `PlacedObject` and implement the drawing method `draw_svg` \n",
    "and the `extent_points` method."
   ]
  },
  {
   "cell_type": "code",
   "execution_count": 16,
   "metadata": {
    "collapsed": true,
    "deletable": true,
    "editable": true
   },
   "outputs": [],
   "source": [
    "class Person(dw.PlacedObject):\n",
    "\n",
    "    def draw_svg(self, drawing, g):\n",
    "        # drawing is done using the library svgwrite\n",
    "        c = drawing.circle(center=(0, 0), r=0.3, fill='pink')\n",
    "        g.add(c)\n",
    "        # draws x,y axes\n",
    "        dw.draw_axes(drawing, g)\n",
    "\n",
    "    def extent_points(self):\n",
    "        # set of points describing the boundary \n",
    "        L = 0.3\n",
    "        return [(-L, -L), (+L, +L)]\n"
   ]
  },
  {
   "cell_type": "markdown",
   "metadata": {
    "deletable": true,
    "editable": true
   },
   "source": [
    "## Animation example\n",
    "\n",
    "Create the interpolated poses:"
   ]
  },
  {
   "cell_type": "code",
   "execution_count": 17,
   "metadata": {
    "collapsed": true,
    "deletable": true,
    "editable": true
   },
   "outputs": [],
   "source": [
    "q0 = geo.SE2_from_translation_angle([0, 0], 0)\n",
    "q1 = geo.SE2_from_translation_angle([2, -2], np.deg2rad(-90))\n",
    "\n",
    "# create a sequence of poses \n",
    "n = 10\n",
    "seqs = []\n",
    "steps = np.linspace(0, 1, num=n)\n",
    "for alpha in steps:\n",
    "    q = interpolate(q0, q1, alpha)\n",
    "    seqs.append(q)"
   ]
  },
  {
   "cell_type": "markdown",
   "metadata": {
    "deletable": true,
    "editable": true
   },
   "source": [
    "Create a root PlacedObject:"
   ]
  },
  {
   "cell_type": "code",
   "execution_count": 18,
   "metadata": {
    "collapsed": true,
    "deletable": true,
    "editable": true
   },
   "outputs": [],
   "source": [
    "root = dw.PlacedObject()"
   ]
  },
  {
   "cell_type": "markdown",
   "metadata": {
    "deletable": true,
    "editable": true
   },
   "source": [
    "Create a SampledSequence of the pose:"
   ]
  },
  {
   "cell_type": "code",
   "execution_count": 19,
   "metadata": {
    "collapsed": false,
    "deletable": true,
    "editable": true
   },
   "outputs": [
    {
     "name": "stdout",
     "output_type": "stream",
     "text": [
      "[0.0, 1.0, 2.0, 3.0, 4.0, 5.0, 6.0, 7.0, 8.0, 9.0]\n",
      "SE2Transform([0.0, 0.0],0.0)\n"
     ]
    }
   ],
   "source": [
    "timestamps = range(len(seqs)) # [0, 1, 2, ...]\n",
    "\n",
    "# SE2Transform is the wrapper for SE2 used by Duckietown World \n",
    "transforms = [dw.SE2Transform.from_SE2(_) for _ in seqs]\n",
    "seq_me = dw.SampledSequence(timestamps, transforms)\n",
    "\n",
    "print(seq_me.timestamps)\n",
    "\n",
    "print(seq_me.values[0])"
   ]
  },
  {
   "cell_type": "markdown",
   "metadata": {
    "deletable": true,
    "editable": true
   },
   "source": [
    "Add the object `me` to the root, saying it's a Person, and with the \n",
    "sequence above given as ground truth for the pose."
   ]
  },
  {
   "cell_type": "code",
   "execution_count": 20,
   "metadata": {
    "collapsed": false,
    "deletable": true,
    "editable": true
   },
   "outputs": [],
   "source": [
    "root.set_object(\"me\", Person(), ground_truth=seq_me)"
   ]
  },
  {
   "cell_type": "markdown",
   "metadata": {
    "deletable": true,
    "editable": true
   },
   "source": [
    "Finally, draw the animation:"
   ]
  },
  {
   "cell_type": "code",
   "execution_count": 21,
   "metadata": {
    "collapsed": false,
    "deletable": true,
    "editable": true
   },
   "outputs": [
    {
     "name": "stderr",
     "output_type": "stream",
     "text": [
      "INFO:dt-world:area: RectangularArea(pmin=[-1. -3.],pmax=[ 3.  1.])\n",
      "INFO:dt-world:Written SVG to animation/drawing.svg\n",
      "INFO:dt-world:Written HTML to animation/drawing.html\n"
     ]
    },
    {
     "data": {
      "text/html": [
       "\n",
       "        <iframe\n",
       "            width=\"100%\"\n",
       "            height=\"600\"\n",
       "            src=\"animation/drawing.html\"\n",
       "            frameborder=\"0\"\n",
       "            allowfullscreen\n",
       "        ></iframe>\n",
       "        "
      ],
      "text/plain": [
       "<IPython.lib.display.IFrame at 0x11307a9d0>"
      ]
     },
     "metadata": {},
     "output_type": "display_data"
    }
   ],
   "source": [
    "area = dw.RectangularArea((-1, -3), (3, 1))\n",
    "\n",
    "draw_html(root, outdir='animation', area=area)\n"
   ]
  },
  {
   "cell_type": "code",
   "execution_count": null,
   "metadata": {
    "collapsed": true,
    "deletable": true,
    "editable": true
   },
   "outputs": [],
   "source": []
  }
 ],
 "metadata": {
  "kernelspec": {
   "display_name": "Python 2",
   "language": "python",
   "name": "python2"
  },
  "language_info": {
   "codemirror_mode": {
    "name": "ipython",
    "version": 2
   },
   "file_extension": ".py",
   "mimetype": "text/x-python",
   "name": "python",
   "nbconvert_exporter": "python",
   "pygments_lexer": "ipython2",
   "version": "2.7.11"
  }
 },
 "nbformat": 4,
 "nbformat_minor": 2
}
