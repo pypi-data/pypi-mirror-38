{
 "cells": [
  {
   "cell_type": "markdown",
   "metadata": {},
   "source": [
    "# Laurens"
   ]
  },
  {
   "cell_type": "code",
   "execution_count": 1,
   "metadata": {},
   "outputs": [],
   "source": [
    "import numpy as np\n",
    "import matplotlib.pyplot as plt"
   ]
  },
  {
   "cell_type": "markdown",
   "metadata": {},
   "source": [
    "## Observation probability"
   ]
  },
  {
   "cell_type": "code",
   "execution_count": 2,
   "metadata": {},
   "outputs": [],
   "source": [
    "from scipy.stats import halfnorm"
   ]
  },
  {
   "cell_type": "markdown",
   "metadata": {},
   "source": [
    "(page 12)\n",
    "\n",
    "Is this from a paper? Or original?\n",
    "\n",
    "\\begin{align}\n",
    "D &= \\sqrt{n_x^2 + n_y^2} \\sim \\mathcal{N}_{\\mathit{half}}(\\sigma^2)\\\\\n",
    "P_o &= P(D \\leq \\sqrt{\\bar{n}_x^2 + \\bar{n}_y^2})\\\\\n",
    "&= 1 - \\Phi_{\\mathit{half}}\\left( \\frac{\\sqrt{\\bar{n}_x^2 + \\bar{n}_y^2}}{\\sqrt{2\\sigma^2}}\\right)\n",
    "\\end{align}"
   ]
  },
  {
   "cell_type": "code",
   "execution_count": 11,
   "metadata": {},
   "outputs": [
    {
     "data": {
      "image/png": "[encoded data removed]",
      "text/plain": [
       "<Figure size 432x288 with 1 Axes>"
      ]
     },
     "metadata": {},
     "output_type": "display_data"
    }
   ],
   "source": [
    "x = np.linspace(halfnorm.ppf(0.01)-1,\n",
    "                halfnorm.ppf(0.99)+1, 200)\n",
    "plt.plot(x, 1-halfnorm.cdf(x));"
   ]
  },
  {
   "cell_type": "markdown",
   "metadata": {},
   "source": [
    "A normalized PDF looks more natural (see Newson). But the CDF is a nice interpretation. What to chose?"
   ]
  },
  {
   "cell_type": "code",
   "execution_count": null,
   "metadata": {},
   "outputs": [],
   "source": [
    "yel"
   ]
  }
 ],
 "metadata": {
  "kernelspec": {
   "display_name": "Python 3",
   "language": "python",
   "name": "python3"
  },
  "language_info": {
   "codemirror_mode": {
    "name": "ipython",
    "version": 3
   },
   "file_extension": ".py",
   "mimetype": "text/x-python",
   "name": "python",
   "nbconvert_exporter": "python",
   "pygments_lexer": "ipython3",
   "version": "3.6.5"
  }
 },
 "nbformat": 4,
 "nbformat_minor": 2
}
