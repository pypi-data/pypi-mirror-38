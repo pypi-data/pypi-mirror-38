{
 "cells": [
  {
   "cell_type": "markdown",
   "metadata": {},
   "source": [
    "# GeoPandas"
   ]
  },
  {
   "cell_type": "code",
   "execution_count": 9,
   "metadata": {},
   "outputs": [],
   "source": [
    "import pandas as pd\n",
    "import geopandas as gp\n",
    "from shapely.geometry import Point"
   ]
  },
  {
   "cell_type": "code",
   "execution_count": 3,
   "metadata": {},
   "outputs": [],
   "source": [
    "labels = [883991900000, 883991900001, 883991900000000, \n",
    "          883991900000001, 883991900000002]\n",
    "lats = [47.8899192810059, 47.900390625, 47.8903403878212,\n",
    "        47.8910404443741, 47.8921294212341]\n",
    "lons = [-122.732318937778, -122.72741317749, -122.732139229774,\n",
    "       -122.731820046902, -122.731310427189]"
   ]
  },
  {
   "cell_type": "code",
   "execution_count": 6,
   "metadata": {},
   "outputs": [
    {
     "data": {
      "text/html": [
       "<div>\n",
       "<style scoped>\n",
       "    .dataframe tbody tr th:only-of-type {\n",
       "        vertical-align: middle;\n",
       "    }\n",
       "\n",
       "    .dataframe tbody tr th {\n",
       "        vertical-align: top;\n",
       "    }\n",
       "\n",
       "    .dataframe thead th {\n",
       "        text-align: right;\n",
       "    }\n",
       "</style>\n",
       "<table border=\"1\" class=\"dataframe\">\n",
       "  <thead>\n",
       "    <tr style=\"text-align: right;\">\n",
       "      <th></th>\n",
       "      <th>lat</th>\n",
       "      <th>lon</th>\n",
       "    </tr>\n",
       "  </thead>\n",
       "  <tbody>\n",
       "    <tr>\n",
       "      <th>883991900000</th>\n",
       "      <td>47.889919</td>\n",
       "      <td>-122.732319</td>\n",
       "    </tr>\n",
       "    <tr>\n",
       "      <th>883991900001</th>\n",
       "      <td>47.900391</td>\n",
       "      <td>-122.727413</td>\n",
       "    </tr>\n",
       "    <tr>\n",
       "      <th>883991900000000</th>\n",
       "      <td>47.890340</td>\n",
       "      <td>-122.732139</td>\n",
       "    </tr>\n",
       "    <tr>\n",
       "      <th>883991900000001</th>\n",
       "      <td>47.891040</td>\n",
       "      <td>-122.731820</td>\n",
       "    </tr>\n",
       "    <tr>\n",
       "      <th>883991900000002</th>\n",
       "      <td>47.892129</td>\n",
       "      <td>-122.731310</td>\n",
       "    </tr>\n",
       "  </tbody>\n",
       "</table>\n",
       "</div>"
      ],
      "text/plain": [
       "                       lat         lon\n",
       "883991900000     47.889919 -122.732319\n",
       "883991900001     47.900391 -122.727413\n",
       "883991900000000  47.890340 -122.732139\n",
       "883991900000001  47.891040 -122.731820\n",
       "883991900000002  47.892129 -122.731310"
      ]
     },
     "execution_count": 6,
     "metadata": {},
     "output_type": "execute_result"
    }
   ],
   "source": [
    "df = pd.DataFrame(index=labels, data={'lat': lats, 'lon': lons})\n",
    "df.head()"
   ]
  },
  {
   "cell_type": "code",
   "execution_count": 7,
   "metadata": {},
   "outputs": [
    {
     "data": {
      "text/html": [
       "<div>\n",
       "<style scoped>\n",
       "    .dataframe tbody tr th:only-of-type {\n",
       "        vertical-align: middle;\n",
       "    }\n",
       "\n",
       "    .dataframe tbody tr th {\n",
       "        vertical-align: top;\n",
       "    }\n",
       "\n",
       "    .dataframe thead th {\n",
       "        text-align: right;\n",
       "    }\n",
       "</style>\n",
       "<table border=\"1\" class=\"dataframe\">\n",
       "  <thead>\n",
       "    <tr style=\"text-align: right;\">\n",
       "      <th></th>\n",
       "      <th>lat</th>\n",
       "      <th>lon</th>\n",
       "      <th>coordinates</th>\n",
       "    </tr>\n",
       "  </thead>\n",
       "  <tbody>\n",
       "    <tr>\n",
       "      <th>883991900000</th>\n",
       "      <td>47.889919</td>\n",
       "      <td>-122.732319</td>\n",
       "      <td>POINT (-122.732318937778 47.8899192810059)</td>\n",
       "    </tr>\n",
       "    <tr>\n",
       "      <th>883991900001</th>\n",
       "      <td>47.900391</td>\n",
       "      <td>-122.727413</td>\n",
       "      <td>POINT (-122.72741317749 47.900390625)</td>\n",
       "    </tr>\n",
       "    <tr>\n",
       "      <th>883991900000000</th>\n",
       "      <td>47.890340</td>\n",
       "      <td>-122.732139</td>\n",
       "      <td>POINT (-122.732139229774 47.8903403878212)</td>\n",
       "    </tr>\n",
       "    <tr>\n",
       "      <th>883991900000001</th>\n",
       "      <td>47.891040</td>\n",
       "      <td>-122.731820</td>\n",
       "      <td>POINT (-122.731820046902 47.8910404443741)</td>\n",
       "    </tr>\n",
       "    <tr>\n",
       "      <th>883991900000002</th>\n",
       "      <td>47.892129</td>\n",
       "      <td>-122.731310</td>\n",
       "      <td>POINT (-122.731310427189 47.8921294212341)</td>\n",
       "    </tr>\n",
       "  </tbody>\n",
       "</table>\n",
       "</div>"
      ],
      "text/plain": [
       "                       lat         lon  \\\n",
       "883991900000     47.889919 -122.732319   \n",
       "883991900001     47.900391 -122.727413   \n",
       "883991900000000  47.890340 -122.732139   \n",
       "883991900000001  47.891040 -122.731820   \n",
       "883991900000002  47.892129 -122.731310   \n",
       "\n",
       "                                                coordinates  \n",
       "883991900000     POINT (-122.732318937778 47.8899192810059)  \n",
       "883991900001          POINT (-122.72741317749 47.900390625)  \n",
       "883991900000000  POINT (-122.732139229774 47.8903403878212)  \n",
       "883991900000001  POINT (-122.731820046902 47.8910404443741)  \n",
       "883991900000002  POINT (-122.731310427189 47.8921294212341)  "
      ]
     },
     "execution_count": 7,
     "metadata": {},
     "output_type": "execute_result"
    }
   ],
   "source": [
    "df['coordinates'] = list(zip(df.lon, df.lat))\n",
    "df['coordinates'] = df['coordinates'].apply(Point)\n",
    "df.head()"
   ]
  },
  {
   "cell_type": "code",
   "execution_count": 11,
   "metadata": {},
   "outputs": [
    {
     "data": {
      "text/html": [
       "<div>\n",
       "<style scoped>\n",
       "    .dataframe tbody tr th:only-of-type {\n",
       "        vertical-align: middle;\n",
       "    }\n",
       "\n",
       "    .dataframe tbody tr th {\n",
       "        vertical-align: top;\n",
       "    }\n",
       "\n",
       "    .dataframe thead th {\n",
       "        text-align: right;\n",
       "    }\n",
       "</style>\n",
       "<table border=\"1\" class=\"dataframe\">\n",
       "  <thead>\n",
       "    <tr style=\"text-align: right;\">\n",
       "      <th></th>\n",
       "      <th>lat</th>\n",
       "      <th>lon</th>\n",
       "      <th>coordinates</th>\n",
       "    </tr>\n",
       "  </thead>\n",
       "  <tbody>\n",
       "    <tr>\n",
       "      <th>883991900000</th>\n",
       "      <td>47.889919</td>\n",
       "      <td>-122.732319</td>\n",
       "      <td>POINT (-122.732318937778 47.8899192810059)</td>\n",
       "    </tr>\n",
       "    <tr>\n",
       "      <th>883991900001</th>\n",
       "      <td>47.900391</td>\n",
       "      <td>-122.727413</td>\n",
       "      <td>POINT (-122.72741317749 47.900390625)</td>\n",
       "    </tr>\n",
       "    <tr>\n",
       "      <th>883991900000000</th>\n",
       "      <td>47.890340</td>\n",
       "      <td>-122.732139</td>\n",
       "      <td>POINT (-122.732139229774 47.8903403878212)</td>\n",
       "    </tr>\n",
       "    <tr>\n",
       "      <th>883991900000001</th>\n",
       "      <td>47.891040</td>\n",
       "      <td>-122.731820</td>\n",
       "      <td>POINT (-122.731820046902 47.8910404443741)</td>\n",
       "    </tr>\n",
       "    <tr>\n",
       "      <th>883991900000002</th>\n",
       "      <td>47.892129</td>\n",
       "      <td>-122.731310</td>\n",
       "      <td>POINT (-122.731310427189 47.8921294212341)</td>\n",
       "    </tr>\n",
       "  </tbody>\n",
       "</table>\n",
       "</div>"
      ],
      "text/plain": [
       "                       lat         lon  \\\n",
       "883991900000     47.889919 -122.732319   \n",
       "883991900001     47.900391 -122.727413   \n",
       "883991900000000  47.890340 -122.732139   \n",
       "883991900000001  47.891040 -122.731820   \n",
       "883991900000002  47.892129 -122.731310   \n",
       "\n",
       "                                                coordinates  \n",
       "883991900000     POINT (-122.732318937778 47.8899192810059)  \n",
       "883991900001          POINT (-122.72741317749 47.900390625)  \n",
       "883991900000000  POINT (-122.732139229774 47.8903403878212)  \n",
       "883991900000001  POINT (-122.731820046902 47.8910404443741)  \n",
       "883991900000002  POINT (-122.731310427189 47.8921294212341)  "
      ]
     },
     "execution_count": 11,
     "metadata": {},
     "output_type": "execute_result"
    }
   ],
   "source": [
    "gdf = gp.GeoDataFrame(df, geometry='coordinates', crs={'init': 'epsg:4326'})\n",
    "gdf.head()"
   ]
  },
  {
   "cell_type": "code",
   "execution_count": 12,
   "metadata": {},
   "outputs": [
    {
     "data": {
      "text/html": [
       "<div>\n",
       "<style scoped>\n",
       "    .dataframe tbody tr th:only-of-type {\n",
       "        vertical-align: middle;\n",
       "    }\n",
       "\n",
       "    .dataframe tbody tr th {\n",
       "        vertical-align: top;\n",
       "    }\n",
       "\n",
       "    .dataframe thead th {\n",
       "        text-align: right;\n",
       "    }\n",
       "</style>\n",
       "<table border=\"1\" class=\"dataframe\">\n",
       "  <thead>\n",
       "    <tr style=\"text-align: right;\">\n",
       "      <th></th>\n",
       "      <th>lat</th>\n",
       "      <th>lon</th>\n",
       "      <th>coordinates</th>\n",
       "    </tr>\n",
       "  </thead>\n",
       "  <tbody>\n",
       "    <tr>\n",
       "      <th>883991900000</th>\n",
       "      <td>47.889919</td>\n",
       "      <td>-122.732319</td>\n",
       "      <td>POINT (-13662499.24803109 6056846.233746414)</td>\n",
       "    </tr>\n",
       "    <tr>\n",
       "      <th>883991900001</th>\n",
       "      <td>47.900391</td>\n",
       "      <td>-122.727413</td>\n",
       "      <td>POINT (-13661953.14129388 6058579.510538366)</td>\n",
       "    </tr>\n",
       "    <tr>\n",
       "      <th>883991900000000</th>\n",
       "      <td>47.890340</td>\n",
       "      <td>-122.732139</td>\n",
       "      <td>POINT (-13662479.2430276 6056915.930951803)</td>\n",
       "    </tr>\n",
       "    <tr>\n",
       "      <th>883991900000001</th>\n",
       "      <td>47.891040</td>\n",
       "      <td>-122.731820</td>\n",
       "      <td>POINT (-13662443.71175282 6057031.798268416)</td>\n",
       "    </tr>\n",
       "    <tr>\n",
       "      <th>883991900000002</th>\n",
       "      <td>47.892129</td>\n",
       "      <td>-122.731310</td>\n",
       "      <td>POINT (-13662386.98114587 6057212.039448578)</td>\n",
       "    </tr>\n",
       "  </tbody>\n",
       "</table>\n",
       "</div>"
      ],
      "text/plain": [
       "                       lat         lon  \\\n",
       "883991900000     47.889919 -122.732319   \n",
       "883991900001     47.900391 -122.727413   \n",
       "883991900000000  47.890340 -122.732139   \n",
       "883991900000001  47.891040 -122.731820   \n",
       "883991900000002  47.892129 -122.731310   \n",
       "\n",
       "                                                  coordinates  \n",
       "883991900000     POINT (-13662499.24803109 6056846.233746414)  \n",
       "883991900001     POINT (-13661953.14129388 6058579.510538366)  \n",
       "883991900000000   POINT (-13662479.2430276 6056915.930951803)  \n",
       "883991900000001  POINT (-13662443.71175282 6057031.798268416)  \n",
       "883991900000002  POINT (-13662386.98114587 6057212.039448578)  "
      ]
     },
     "execution_count": 12,
     "metadata": {},
     "output_type": "execute_result"
    }
   ],
   "source": [
    "gdfp = gdf.to_crs({'init': 'epsg:3395'})\n",
    "gdfp.head()"
   ]
  },
  {
   "cell_type": "code",
   "execution_count": 14,
   "metadata": {},
   "outputs": [
    {
     "data": {
      "text/plain": [
       "lat                                                 47.8899\n",
       "lon                                                -122.732\n",
       "coordinates    POINT (-13662499.24803109 6056846.233746414)\n",
       "Name: 883991900000, dtype: object"
      ]
     },
     "execution_count": 14,
     "metadata": {},
     "output_type": "execute_result"
    }
   ],
   "source": [
    "gdfp.loc[883991900000]"
   ]
  },
  {
   "cell_type": "code",
   "execution_count": null,
   "metadata": {},
   "outputs": [],
   "source": []
  }
 ],
 "metadata": {
  "kernelspec": {
   "display_name": "Python 3",
   "language": "python",
   "name": "python3"
  },
  "language_info": {
   "codemirror_mode": {
    "name": "ipython",
    "version": 3
   },
   "file_extension": ".py",
   "mimetype": "text/x-python",
   "name": "python",
   "nbconvert_exporter": "python",
   "pygments_lexer": "ipython3",
   "version": "3.6.5"
  }
 },
 "nbformat": 4,
 "nbformat_minor": 2
}
