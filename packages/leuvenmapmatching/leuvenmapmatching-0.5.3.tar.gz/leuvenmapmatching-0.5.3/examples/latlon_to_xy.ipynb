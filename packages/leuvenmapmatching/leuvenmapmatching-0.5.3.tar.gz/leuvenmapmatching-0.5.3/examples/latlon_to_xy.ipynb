{
 "cells": [
  {
   "cell_type": "code",
   "execution_count": 10,
   "metadata": {},
   "outputs": [],
   "source": [
    "import pyproj\n",
    "import matplotlib.pyplot as plt\n",
    "%matplotlib inline"
   ]
  },
  {
   "cell_type": "code",
   "execution_count": 12,
   "metadata": {},
   "outputs": [],
   "source": [
    "route = [\n",
    "(4.67878,50.864),\n",
    "(4.67934,50.86413),\n",
    "(4.67957,50.86418),\n",
    "(4.67979,50.86423),\n",
    "(4.67999,50.86387),\n",
    "(4.68006,50.86376),\n",
    "(4.68035,50.86382),\n",
    "(4.68043,50.86383),\n",
    "(4.68054,50.86381),\n",
    "(4.68057,50.86381),\n",
    "(4.68062,50.8638),\n",
    "(4.68076,50.86358),\n",
    "(4.68081,50.86352),\n",
    "(4.68087,50.86345),\n",
    "(4.68093,50.86338),\n",
    "(4.68098,50.86332),\n",
    "(4.68102,50.86328),\n",
    "(4.68109,50.8632),\n",
    "(4.68113,50.86315),\n",
    "(4.68118,50.8631),\n",
    "(4.68123,50.86306),\n",
    "(4.68129,50.86303),\n",
    "(4.68133,50.863),\n",
    "(4.68143,50.86296),\n",
    "(4.68147,50.86295),\n",
    "(4.68153,50.86293),\n",
    "(4.68159,50.86292),\n",
    "(4.68162,50.86291),\n",
    "(4.68166,50.86289),\n",
    "(4.6817,50.86284),\n",
    "(4.68175,50.86288),\n",
    "(4.6821,50.86304),\n",
    "(4.68222,50.8631),\n",
    "(4.68233,50.8632),\n",
    "(4.68245,50.86339),\n",
    "(4.68252,50.8635),\n",
    "(4.68257,50.86357),\n",
    "(4.68261,50.86363),\n",
    "(4.68266,50.86366),\n",
    "(4.68277,50.86371),\n",
    "(4.68288,50.86374),\n",
    "(4.68331,50.86391),\n",
    "(4.68391,50.86421),\n",
    "(4.68445,50.86447),\n",
    "(4.68466,50.86457),\n",
    "(4.68476,50.86468),\n",
    "(4.68479,50.86479),\n",
    "(4.68478,50.86489),\n",
    "(4.68473,50.86498),\n",
    "(4.68466,50.86504),\n",
    "(4.68437,50.86535),\n",
    "(4.68447,50.86548),\n",
    "(4.68524,50.86606),\n",
    "(4.68598,50.86663),\n",
    "(4.68626,50.86685),\n",
    "(4.6863,50.86688),\n",
    "(4.68691,50.86731),\n",
    "(4.68795,50.86805),\n",
    "(4.68817,50.86822),\n",
    "(4.68852,50.86864),\n",
    "(4.68875,50.86899),\n",
    "(4.68883,50.86896),\n",
    "(4.68888,50.86895),\n",
    "(4.68894,50.86895),\n",
    "(4.68907,50.86895),\n",
    "(4.6892,50.86895),\n",
    "(4.6893,50.86897),\n",
    "(4.6894,50.86899),\n",
    "(4.6895,50.869),\n",
    "(4.68964,50.86901),\n",
    "(4.68976,50.86901),\n",
    "(4.68987,50.86901),\n",
    "(4.68997,50.86899),\n",
    "(4.69006,50.86897),\n",
    "(4.69018,50.86893),\n",
    "(4.69027,50.86892),\n",
    "(4.69038,50.86891),\n",
    "(4.69048,50.86891),\n",
    "(4.69055,50.86892),\n",
    "(4.69062,50.86893),\n",
    "(4.69067,50.86894),\n",
    "(4.69075,50.86894),\n",
    "(4.69081,50.86894),\n",
    "(4.69103,50.86895),\n",
    "(4.69127,50.86895),\n",
    "(4.69146,50.86895),\n",
    "(4.69169,50.86897),\n",
    "(4.69191,50.86899),\n",
    "(4.69218,50.86916),\n",
    "(4.69222,50.86919),\n",
    "(4.69283,50.86955),\n",
    "(4.69307,50.8697),\n",
    "(4.69344,50.86987),\n",
    "(4.69354,50.86992),\n",
    "(4.69359,50.86987),\n",
    "(4.69363,50.86979),\n",
    "(4.6937,50.8698),\n",
    "(4.6938,50.8699),\n",
    "(4.69407,50.87021),\n",
    "(4.69415,50.8702),\n",
    "(4.69427,50.87036),\n",
    "(4.69449,50.87065),\n",
    "(4.69453,50.8707),\n",
    "(4.69453,50.87074),\n",
    "(4.69451,50.87076),\n",
    "(4.69449,50.87079),\n",
    "(4.69445,50.87082),\n",
    "(4.69438,50.87085),\n",
    "(4.69456,50.87102),\n",
    "(4.69459,50.87111),\n",
    "(4.69457,50.8712),\n",
    "(4.69454,50.87126),\n",
    "(4.69434,50.8715),\n",
    "(4.69427,50.87157),\n",
    "(4.69427,50.87161),\n",
    "(4.69433,50.87165),\n",
    "(4.69455,50.87171),\n",
    "(4.69482,50.87176),\n",
    "(4.69498,50.87178),\n",
    "(4.69512,50.87181),\n",
    "(4.69538,50.87184),\n",
    "(4.69557,50.87187),\n",
    "(4.69567,50.87187),\n",
    "(4.69602,50.87188),\n",
    "(4.69627,50.87186),\n",
    "(4.69663,50.87174),\n",
    "(4.69704,50.87169),\n",
    "(4.69703,50.87196),\n",
    "(4.69705,50.87223),\n",
    "(4.69711,50.87239),\n",
    "(4.69622,50.87248),\n",
    "(4.69632,50.8727),\n",
    "(4.69633,50.87275),\n",
    "(4.69634,50.87279),\n",
    "(4.6964,50.8728),\n",
    "(4.69651,50.8728),\n",
    "(4.69658,50.8728),\n",
    "(4.69663,50.87281),\n",
    "(4.69667,50.87284),\n",
    "(4.69669,50.8729),\n",
    "(4.69639,50.8729),\n",
    "(4.69642,50.87309),\n",
    "(4.69643,50.87315),\n",
    "(4.69644,50.87317),\n",
    "(4.69646,50.87321),\n",
    "(4.69649,50.87325),\n",
    "(4.69653,50.87329),\n",
    "(4.69664,50.87342),\n",
    "(4.69669,50.87348),\n",
    "(4.69676,50.87355),\n",
    "(4.69682,50.87364),\n",
    "(4.69683,50.87368),\n",
    "(4.697,50.87366),\n",
    "(4.69707,50.87366),\n",
    "(4.69714,50.87368),\n",
    "(4.69722,50.8737),\n",
    "(4.69732,50.87373),\n",
    "(4.6974,50.87378),\n",
    "(4.69755,50.87387),\n",
    "(4.69766,50.87393),\n",
    "(4.69776,50.87399),\n",
    "(4.69782,50.87405),\n",
    "(4.69785,50.87409),\n",
    "(4.69788,50.87416),\n",
    "(4.69787,50.87425),\n",
    "(4.69785,50.87432),\n",
    "(4.69784,50.87448),\n",
    "(4.69794,50.87449),\n",
    "(4.69815,50.8745),\n",
    "(4.69814,50.8746),\n",
    "(4.69805,50.87483),\n",
    "(4.69791,50.87502),\n",
    "(4.69774,50.87527),\n",
    "(4.69768,50.87552),\n",
    "(4.69768,50.87572),\n",
    "(4.69774,50.87601),\n",
    "(4.69765,50.87607),\n",
    "(4.69805,50.87681),\n",
    "(4.69832,50.87737),\n",
    "(4.69846,50.8776),\n",
    "(4.69858,50.87782),\n",
    "(4.69862,50.87789),\n",
    "(4.6991,50.8785),\n",
    "(4.69972,50.87831),\n",
    "(4.6997,50.87828)\n",
    "]"
   ]
  },
  {
   "cell_type": "markdown",
   "metadata": {},
   "source": [
    "## Pyproj"
   ]
  },
  {
   "cell_type": "code",
   "execution_count": 4,
   "metadata": {},
   "outputs": [],
   "source": [
    "# g = pyproj.Geod(ellps='GRS80')"
   ]
  },
  {
   "cell_type": "code",
   "execution_count": 5,
   "metadata": {},
   "outputs": [],
   "source": [
    "lat = 50.8612987\n",
    "lon = 4.6720198"
   ]
  },
  {
   "cell_type": "code",
   "execution_count": 30,
   "metadata": {},
   "outputs": [],
   "source": [
    "lons, lats = zip(*route)"
   ]
  },
  {
   "cell_type": "code",
   "execution_count": 39,
   "metadata": {},
   "outputs": [
    {
     "data": {
      "text/plain": [
       "(50.86284, 4.67878)"
      ]
     },
     "execution_count": 39,
     "metadata": {},
     "output_type": "execute_result"
    }
   ],
   "source": [
    "min_lat = min(lats)\n",
    "min_lon = min(lons)\n",
    "min_lat, min_lon"
   ]
  },
  {
   "cell_type": "code",
   "execution_count": 95,
   "metadata": {},
   "outputs": [],
   "source": [
    "proj = pyproj.Proj(f\"+proj=merc +ellps=GRS80 +units=m +lon_0={min_lon} +lat_0={min_lat} +lat_ts={min_lat} +no_defs\")"
   ]
  },
  {
   "cell_type": "code",
   "execution_count": 93,
   "metadata": {},
   "outputs": [],
   "source": [
    "xs = []\n",
    "ys = []\n",
    "for lon, lat in route:\n",
    "    x, y = proj(lon, lat)\n",
    "    xs.append(x)\n",
    "    ys.append(y)"
   ]
  },
  {
   "cell_type": "code",
   "execution_count": 94,
   "metadata": {},
   "outputs": [
    {
     "data": {
      "text/plain": [
       "([0.0, 39.42648709887529, 55.61950858590436, 71.1084856604685],\n",
       " [4151496.079215824,\n",
       "  4151510.541532241,\n",
       "  4151516.1039724275,\n",
       "  4151521.6664186097])"
      ]
     },
     "execution_count": 94,
     "metadata": {},
     "output_type": "execute_result"
    }
   ],
   "source": [
    "xs[:4], ys[:4]"
   ]
  },
  {
   "cell_type": "code",
   "execution_count": 91,
   "metadata": {},
   "outputs": [
    {
     "data": {
      "text/plain": [
       "[<matplotlib.lines.Line2D at 0x10b8f84e0>]"
      ]
     },
     "execution_count": 91,
     "metadata": {},
     "output_type": "execute_result"
    },
    {
     "data": {
      "image/png": "[encoded data removed]",
      "text/plain": [
       "<Figure size 432x288 with 1 Axes>"
      ]
     },
     "metadata": {},
     "output_type": "display_data"
    }
   ],
   "source": [
    "plt.plot(xs, ys)"
   ]
  },
  {
   "cell_type": "markdown",
   "metadata": {},
   "source": [
    "## Pyproj 2"
   ]
  },
  {
   "cell_type": "code",
   "execution_count": 106,
   "metadata": {},
   "outputs": [],
   "source": [
    "p1 = pyproj.Proj(proj='latlon', datum='WGS84')\n",
    "p2 = pyproj.Proj(proj='utm', datum='WGS84')"
   ]
  },
  {
   "cell_type": "code",
   "execution_count": 102,
   "metadata": {},
   "outputs": [],
   "source": [
    "xs = []\n",
    "ys = []\n",
    "for lon, lat in route:\n",
    "    x, y = pyproj.transform(p1, p2, lon, lat)\n",
    "    xs.append(x)\n",
    "    ys.append(y)"
   ]
  },
  {
   "cell_type": "code",
   "execution_count": 103,
   "metadata": {},
   "outputs": [
    {
     "data": {
      "text/plain": [
       "[<matplotlib.lines.Line2D at 0x10baee7f0>]"
      ]
     },
     "execution_count": 103,
     "metadata": {},
     "output_type": "execute_result"
    },
    {
     "data": {
      "image/png": "[encoded data removed]",
      "text/plain": [
       "<Figure size 432x288 with 1 Axes>"
      ]
     },
     "metadata": {},
     "output_type": "display_data"
    }
   ],
   "source": [
    "plt.plot(xs, ys)"
   ]
  },
  {
   "cell_type": "code",
   "execution_count": null,
   "metadata": {},
   "outputs": [],
   "source": []
  }
 ],
 "metadata": {
  "kernelspec": {
   "display_name": "Python 3",
   "language": "python",
   "name": "python3"
  },
  "language_info": {
   "codemirror_mode": {
    "name": "ipython",
    "version": 3
   },
   "file_extension": ".py",
   "mimetype": "text/x-python",
   "name": "python",
   "nbconvert_exporter": "python",
   "pygments_lexer": "ipython3",
   "version": "3.6.5"
  }
 },
 "nbformat": 4,
 "nbformat_minor": 2
}
