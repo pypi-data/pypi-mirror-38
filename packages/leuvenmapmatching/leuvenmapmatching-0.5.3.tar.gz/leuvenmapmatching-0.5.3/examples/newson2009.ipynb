{
 "cells": [
  {
   "cell_type": "markdown",
   "metadata": {},
   "source": [
    "# Newson and Krumm 2009"
   ]
  },
  {
   "cell_type": "code",
   "execution_count": 1,
   "metadata": {},
   "outputs": [],
   "source": [
    "import numpy as np\n",
    "from scipy import stats\n",
    "import matplotlib.pyplot as plt\n",
    "import sqlite3\n",
    "from tabulate import tabulate\n",
    "import smopy\n",
    "import folium"
   ]
  },
  {
   "cell_type": "markdown",
   "metadata": {},
   "source": [
    "## Database"
   ]
  },
  {
   "cell_type": "code",
   "execution_count": 2,
   "metadata": {},
   "outputs": [],
   "source": [
    "fn = \"/Users/wannes/Projects/Research/2016-MapMatching/repo_mapmatching/tests/rsrc/newson_krumm_2009/road_network.sqlite\"\n",
    "conn = sqlite3.connect(fn)\n",
    "c = conn.cursor()"
   ]
  },
  {
   "cell_type": "code",
   "execution_count": 3,
   "metadata": {},
   "outputs": [],
   "source": [
    "def query(q, v=None, headers=()):\n",
    "    if v is None:\n",
    "        c.execute(q)\n",
    "    else:\n",
    "        c.execute(q, v)\n",
    "    rows = c.fetchall()\n",
    "    if len(headers) == 0 and c.description is not None:\n",
    "        headers = [row[0] for row in c.description]\n",
    "    print(tabulate(rows, headers=headers))"
   ]
  },
  {
   "cell_type": "code",
   "execution_count": 23,
   "metadata": {},
   "outputs": [
    {
     "name": "stdout",
     "output_type": "stream",
     "text": [
      "                 id          path    pathnum           id1           id2    speed    type\n",
      "-------------------  ------------  ---------  ------------  ------------  -------  ------\n",
      "8057285611342518121                           884147405164  884147400698                1\n",
      "8057285635047650571                           884147405164  884147405164                1\n",
      "8902228981580461271  884147407418          1  884147405164        141488  11.1111       0\n"
     ]
    }
   ],
   "source": [
    "query(\"SELECT * FROM edges WHERE id1=884147405164\")"
   ]
  },
  {
   "cell_type": "code",
   "execution_count": 4,
   "metadata": {},
   "outputs": [
    {
     "name": "stdout",
     "output_type": "stream",
     "text": [
      "                 id          path    pathnum           id1           id2    speed    type\n",
      "-------------------  ------------  ---------  ------------  ------------  -------  ------\n",
      "3866146660630628456  884147407419          2        141493        141494  11.1111       0\n",
      "4697398260954794281  884147407419          3        141494  884147405164  11.1111       0\n",
      "8902229780325862621  884147407419          1  884147405165        141493  11.1111       0\n"
     ]
    }
   ],
   "source": [
    "query(\"SELECT * FROM edges WHERE path=884147407419\")"
   ]
  },
  {
   "cell_type": "code",
   "execution_count": 5,
   "metadata": {},
   "outputs": [
    {
     "name": "stdout",
     "output_type": "stream",
     "text": [
      "                 id          path    pathnum           id1           id2    speed    type\n",
      "-------------------  ------------  ---------  ------------  ------------  -------  ------\n",
      "3850305214222701756  884147400648          2        136155        136156  11.1111       0\n",
      "4695822844914209756  884147400648          3        136156  884147400697  11.1111       0\n",
      "8929506531003134596  884147400648          1  884147400698        136155  11.1111       0\n",
      "8053989437215104846  884147400756          1  884147400798  884147400797  26.3889       0\n"
     ]
    }
   ],
   "source": [
    "query(\"SELECT * FROM edges WHERE path=884147400648 OR path=884147400756 ORDER BY path\")"
   ]
  },
  {
   "cell_type": "code",
   "execution_count": 8,
   "metadata": {},
   "outputs": [],
   "source": [
    "paths = [884147407419, 884147400648, 884147400756]"
   ]
  },
  {
   "cell_type": "code",
   "execution_count": 14,
   "metadata": {},
   "outputs": [],
   "source": [
    "path_nodes = {path: c.execute(f\"SELECT id1, id2 FROM edges WHERE path={path} ORDER BY pathnum\").fetchall()\n",
    "              for path in paths}"
   ]
  },
  {
   "cell_type": "code",
   "execution_count": 15,
   "metadata": {},
   "outputs": [
    {
     "name": "stdout",
     "output_type": "stream",
     "text": [
      "{884147407419: [(884147405165, 141493), (141493, 141494), (141494, 884147405164)], 884147400648: [(884147400698, 136155), (136155, 136156), (136156, 884147400697)], 884147400756: [(884147400798, 884147400797)]}\n"
     ]
    }
   ],
   "source": [
    "print(path_nodes)"
   ]
  },
  {
   "cell_type": "code",
   "execution_count": 17,
   "metadata": {},
   "outputs": [],
   "source": [
    "path_locs = {}\n",
    "for path, nodepairs in path_nodes.items():\n",
    "    nodes = [node for nodes in nodepairs for node in nodes]\n",
    "    path_locs[path] = [c.execute(f\"SELECT y, x FROM nodes WHERE id={node}\").fetchone() for node in nodes]"
   ]
  },
  {
   "cell_type": "code",
   "execution_count": 18,
   "metadata": {},
   "outputs": [
    {
     "data": {
      "text/plain": [
       "{884147407419: [(47.6427000761032, -122.322528362274),\n",
       "  (47.6425793766975, -122.322289645672),\n",
       "  (47.6425793766975, -122.322289645672),\n",
       "  (47.6424908638, -122.322080433369),\n",
       "  (47.6424908638, -122.322080433369),\n",
       "  (47.6424103975296, -122.321809530258)],\n",
       " 884147400648: [(47.6424103975296, -122.321809530258),\n",
       "  (47.6423299312592, -122.322139441967),\n",
       "  (47.6423299312592, -122.322139441967),\n",
       "  (47.6422494649887, -122.322340607643),\n",
       "  (47.6422494649887, -122.322340607643),\n",
       "  (47.6421502232552, -122.32253909111)],\n",
       " 884147400756: [(47.6421502232552, -122.32253909111),\n",
       "  (47.6427000761032, -122.322528362274)]}"
      ]
     },
     "execution_count": 18,
     "metadata": {},
     "output_type": "execute_result"
    }
   ],
   "source": [
    "path_locs"
   ]
  },
  {
   "cell_type": "code",
   "execution_count": 22,
   "metadata": {},
   "outputs": [
    {
     "name": "stdout",
     "output_type": "stream",
     "text": [
      "(47.6427000761032, -122.322528362274)\n"
     ]
    },
    {
     "data": {
      "text/html": [
       "<div style=\"width:100%;\"><div style=\"position:relative;width:100%;height:0;padding-bottom:60%;\"><iframe src=\"data:text/html;charset=utf-8;base64,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\" style=\"position:absolute;width:100%;height:100%;left:0;top:0;border:none !important;\" allowfullscreen webkitallowfullscreen mozallowfullscreen></iframe></div></div>"
      ],
      "text/plain": [
       "<folium.folium.Map at 0x113ad84a8>"
      ]
     },
     "execution_count": 22,
     "metadata": {},
     "output_type": "execute_result"
    }
   ],
   "source": [
    "location = path_locs[884147407419][0]\n",
    "print(location)\n",
    "m = folium.Map(location=location, zoom_start=17)\n",
    "m.add_child(folium.PolyLine(locations=path_locs[884147407419], weight=5, color=\"red\"))\n",
    "m.add_child(folium.PolyLine(locations=path_locs[884147400648], weight=5, color=\"blue\"))\n",
    "m.add_child(folium.PolyLine(locations=path_locs[884147400756], weight=5, color=\"blue\"))\n",
    "m"
   ]
  },
  {
   "cell_type": "code",
   "execution_count": null,
   "metadata": {},
   "outputs": [],
   "source": []
  },
  {
   "cell_type": "code",
   "execution_count": null,
   "metadata": {},
   "outputs": [],
   "source": []
  },
  {
   "cell_type": "code",
   "execution_count": null,
   "metadata": {},
   "outputs": [],
   "source": []
  },
  {
   "cell_type": "markdown",
   "metadata": {},
   "source": [
    "## Measurement probability"
   ]
  },
  {
   "cell_type": "markdown",
   "metadata": {},
   "source": [
    "Zero-mean Gaussian:\n",
    "\n",
    "\\begin{align}\n",
    "p(z_t|r_i) = \\frac{1}{\\sqrt{2\\pi}\\sigma_z}e^{-0.5\\left(\\frac{||z_t-x_t||_\\textit{great circle}}{\\sigma_z} \\right)^2}\n",
    "\\end{align}\n"
   ]
  },
  {
   "cell_type": "code",
   "execution_count": 2,
   "metadata": {},
   "outputs": [],
   "source": [
    "sigma_z = 2\n",
    "x_t = 0\n",
    "z_t = np.linspace(0, 10, 100)\n",
    "y = 1 / (np.sqrt(2*np.pi) * sigma_z) * np.exp(-0.5 * (np.abs(z_t - x_t) / sigma_z)**2)"
   ]
  },
  {
   "cell_type": "code",
   "execution_count": 3,
   "metadata": {},
   "outputs": [
    {
     "data": {
      "image/png": "[encoded data removed]",
      "text/plain": [
       "<Figure size 432x288 with 1 Axes>"
      ]
     },
     "metadata": {},
     "output_type": "display_data"
    }
   ],
   "source": [
    "plt.plot(z_t, y);"
   ]
  },
  {
   "cell_type": "markdown",
   "metadata": {},
   "source": [
    "Inverse CDF:"
   ]
  },
  {
   "cell_type": "code",
   "execution_count": 20,
   "metadata": {},
   "outputs": [
    {
     "data": {
      "text/plain": [
       "[<matplotlib.lines.Line2D at 0x109440e80>]"
      ]
     },
     "execution_count": 20,
     "metadata": {},
     "output_type": "execute_result"
    },
    {
     "data": {
      "image/png": "[encoded data removed]",
      "text/plain": [
       "<Figure size 432x288 with 1 Axes>"
      ]
     },
     "metadata": {},
     "output_type": "display_data"
    }
   ],
   "source": [
    "dist = stats.norm(0, sigma_z)\n",
    "z_t = np.linspace(0, 10, 100)\n",
    "y = 2*(1 - dist.cdf(z_t))\n",
    "plt.plot(z_t, y)"
   ]
  },
  {
   "cell_type": "markdown",
   "metadata": {},
   "source": [
    "In Meert (2018), we use a normalized zero-mean Gaussian:"
   ]
  },
  {
   "cell_type": "code",
   "execution_count": 4,
   "metadata": {},
   "outputs": [
    {
     "data": {
      "image/png": "[encoded data removed]",
      "text/plain": [
       "<Figure size 432x288 with 1 Axes>"
      ]
     },
     "metadata": {},
     "output_type": "display_data"
    }
   ],
   "source": [
    "y = np.exp(-0.5 * (np.abs(z_t - x_t) / sigma_z)**2)\n",
    "plt.plot(z_t, y);"
   ]
  },
  {
   "cell_type": "markdown",
   "metadata": {},
   "source": [
    "This is a more natural interpretation. If the measurement matches the location state there is a 100% change this can be generated by this location state. See also Lauren's derivation with a CDF."
   ]
  },
  {
   "cell_type": "markdown",
   "metadata": {},
   "source": [
    "## Transition Probability"
   ]
  },
  {
   "cell_type": "markdown",
   "metadata": {},
   "source": [
    "\\begin{align}\n",
    "p(d_t) = \\frac{1}{\\beta} e^{\\frac{-d_t}{\\beta}}\n",
    "\\end{align}"
   ]
  },
  {
   "cell_type": "markdown",
   "metadata": {},
   "source": [
    "At $d_t=0.0$, $p(d_t)=6$, thus $\\beta=\\frac{1}{6}$"
   ]
  },
  {
   "cell_type": "code",
   "execution_count": 2,
   "metadata": {},
   "outputs": [
    {
     "data": {
      "image/png": "[encoded data removed]",
      "text/plain": [
       "<Figure size 432x288 with 1 Axes>"
      ]
     },
     "metadata": {},
     "output_type": "display_data"
    }
   ],
   "source": [
    "beta = 1/6\n",
    "x = np.linspace(0, 2, 100)\n",
    "y = 1 / beta * np.exp(-x / beta)\n",
    "plt.plot(x, y);"
   ]
  },
  {
   "cell_type": "markdown",
   "metadata": {},
   "source": [
    "This we can transform a probability by using the inverse CDF:\n",
    "\\begin{align}\n",
    "P(d_t) = p(d > d_t) = e^{\\frac{-d_t}{\\beta}}\n",
    "\\end{align}"
   ]
  },
  {
   "cell_type": "code",
   "execution_count": 3,
   "metadata": {},
   "outputs": [
    {
     "data": {
      "image/png": "[encoded data removed]",
      "text/plain": [
       "<Figure size 432x288 with 1 Axes>"
      ]
     },
     "metadata": {},
     "output_type": "display_data"
    }
   ],
   "source": [
    "beta = 1/6\n",
    "x = np.linspace(0, 2, 100)\n",
    "y = np.exp(-x / beta)\n",
    "plt.plot(x, y);"
   ]
  },
  {
   "cell_type": "code",
   "execution_count": 14,
   "metadata": {},
   "outputs": [
    {
     "data": {
      "image/png": "[encoded data removed]",
      "text/plain": [
       "<Figure size 432x288 with 1 Axes>"
      ]
     },
     "metadata": {},
     "output_type": "display_data"
    }
   ],
   "source": [
    "beta = 6\n",
    "x = np.linspace(0, 10, 100)\n",
    "y = np.exp(-x / beta)\n",
    "plt.plot(x, y);"
   ]
  },
  {
   "cell_type": "markdown",
   "metadata": {},
   "source": [
    "But a logistic-like function would be better. The intuition is that distances smaller than a certain threshold are all ok."
   ]
  },
  {
   "cell_type": "code",
   "execution_count": 15,
   "metadata": {},
   "outputs": [
    {
     "name": "stdout",
     "output_type": "stream",
     "text": [
      "5.095930801728114\n"
     ]
    },
    {
     "data": {
      "text/plain": [
       "[<matplotlib.lines.Line2D at 0x10a972898>]"
      ]
     },
     "execution_count": 15,
     "metadata": {},
     "output_type": "execute_result"
    },
    {
     "data": {
      "image/png": "[encoded data removed]",
      "text/plain": [
       "<Figure size 432x288 with 1 Axes>"
      ]
     },
     "metadata": {},
     "output_type": "display_data"
    }
   ],
   "source": [
    "x_half = 6\n",
    "beta = np.sqrt(np.power(x_half, 2) / (np.log(2)*2))\n",
    "print(beta)\n",
    "x = np.linspace(0, 10, 100)\n",
    "y = np.exp(-np.power(x, 2) / (2 * beta**2))\n",
    "# y = np.exp(-x / beta)\n",
    "plt.plot(x, y);\n",
    "ly = np.log(y)\n",
    "plt.plot(x, ly)"
   ]
  },
  {
   "cell_type": "code",
   "execution_count": null,
   "metadata": {},
   "outputs": [],
   "source": []
  }
 ],
 "metadata": {
  "kernelspec": {
   "display_name": "Python 3",
   "language": "python",
   "name": "python3"
  },
  "language_info": {
   "codemirror_mode": {
    "name": "ipython",
    "version": 3
   },
   "file_extension": ".py",
   "mimetype": "text/x-python",
   "name": "python",
   "nbconvert_exporter": "python",
   "pygments_lexer": "ipython3",
   "version": "3.7.0"
  }
 },
 "nbformat": 4,
 "nbformat_minor": 2
}
