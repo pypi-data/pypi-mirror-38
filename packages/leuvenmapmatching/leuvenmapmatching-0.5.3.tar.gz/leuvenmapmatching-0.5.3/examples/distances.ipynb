{
 "cells": [
  {
   "cell_type": "code",
   "execution_count": 3,
   "metadata": {},
   "outputs": [],
   "source": [
    "import sys, os\n",
    "sys.path.append(os.pardir)"
   ]
  },
  {
   "cell_type": "code",
   "execution_count": 7,
   "metadata": {},
   "outputs": [],
   "source": [
    "import leuvenmapmatching as mm"
   ]
  },
  {
   "cell_type": "code",
   "execution_count": 8,
   "metadata": {},
   "outputs": [],
   "source": [
    "map_con = mm.map.InMemMap(use_latlon=False)"
   ]
  },
  {
   "cell_type": "code",
   "execution_count": 9,
   "metadata": {},
   "outputs": [],
   "source": [
    "matcher = mm.matching.Matcher(map_con, max_dist=300, max_dist_init=25,\n",
    "                                  obs_noise=75, obs_noise_ne=75, min_prob_norm=0.1,\n",
    "                                  max_lattice_width=5, only_edges=True,\n",
    "                                  non_emitting_states=True)"
   ]
  },
  {
   "cell_type": "code",
   "execution_count": 14,
   "metadata": {},
   "outputs": [
    {
     "name": "stdout",
     "output_type": "stream",
     "text": [
      "-0.0174222222222\n",
      "-0.0288\n",
      "-0.330755555556\n",
      "-1.07555555556\n",
      "-0.0174222222222\n",
      "-0.0288\n",
      "-0.330755555556\n",
      "-1.07555555556\n"
     ]
    }
   ],
   "source": [
    "values = [14, 18, 61, 110]\n",
    "for v in values:\n",
    "    print(matcher.logprob_obs(v, None, None, None))\n",
    "for v in values:\n",
    "    print(matcher.logprob_obs_ne(v, None, None, None))"
   ]
  },
  {
   "cell_type": "code",
   "execution_count": 22,
   "metadata": {},
   "outputs": [
    {
     "data": {
      "text/plain": [
       "1.1111111111111112"
      ]
     },
     "execution_count": 22,
     "metadata": {},
     "output_type": "execute_result"
    }
   ],
   "source": []
  },
  {
   "cell_type": "code",
   "execution_count": null,
   "metadata": {},
   "outputs": [],
   "source": []
  }
 ],
 "metadata": {
  "kernelspec": {
   "display_name": "Python 3",
   "language": "python",
   "name": "python3"
  },
  "language_info": {
   "codemirror_mode": {
    "name": "ipython",
    "version": 3
   },
   "file_extension": ".py",
   "mimetype": "text/x-python",
   "name": "python",
   "nbconvert_exporter": "python",
   "pygments_lexer": "ipython3",
   "version": "3.6.5"
  }
 },
 "nbformat": 4,
 "nbformat_minor": 2
}
