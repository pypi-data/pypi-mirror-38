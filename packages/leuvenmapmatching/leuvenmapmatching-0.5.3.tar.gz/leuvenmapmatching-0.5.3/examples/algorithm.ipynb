{
 "cells": [
  {
   "cell_type": "markdown",
   "metadata": {
    "deletable": true,
    "editable": true
   },
   "source": [
    "# Algorithm"
   ]
  },
  {
   "cell_type": "markdown",
   "metadata": {
    "deletable": true,
    "editable": true
   },
   "source": [
    "The Map Matching algorithm used here is based on an HMM where we want to decode the most likely path (Viterbi decoding) based on a sequence of position observations."
   ]
  },
  {
   "cell_type": "code",
   "execution_count": 1,
   "metadata": {
    "ExecuteTime": {
     "end_time": "2017-03-18T11:25:41.772743Z",
     "start_time": "2017-03-18T12:25:40.671135+01:00"
    },
    "collapsed": false,
    "deletable": true,
    "editable": true
   },
   "outputs": [],
   "source": [
    "import os, sys, importlib, math\n",
    "import matplotlib.pyplot as plt\n",
    "import numpy as np\n",
    "%matplotlib inline\n",
    "sys.path.append(os.path.join(os.getcwd(), os.pardir))\n",
    "import dtaimapmatching as mm\n",
    "from dtaimapmatching import visualization as mm_visualization"
   ]
  },
  {
   "cell_type": "markdown",
   "metadata": {
    "deletable": true,
    "editable": true
   },
   "source": [
    "## Data"
   ]
  },
  {
   "cell_type": "markdown",
   "metadata": {
    "deletable": true,
    "editable": true
   },
   "source": [
    "The input data are:\n",
    "\n",
    "- A graph representing the road network. A vertex is a point on a road or an intersection with an associated location, an edge is a road between two points.\n",
    "- A path representing a sequence of position observations (e.g., a series of latitude -longitude points)."
   ]
  },
  {
   "cell_type": "markdown",
   "metadata": {
    "deletable": true,
    "editable": true
   },
   "source": [
    "## Model"
   ]
  },
  {
   "cell_type": "markdown",
   "metadata": {
    "deletable": true,
    "editable": true
   },
   "source": [
    "### States"
   ]
  },
  {
   "cell_type": "markdown",
   "metadata": {
    "deletable": true,
    "editable": true
   },
   "source": [
    "The set of states $S = G_v \\cup G_e$ with:\n",
    "\n",
    "- $G_v$ is all vertices in the graph $G$\n",
    "- $G_e$ is all edges in the graph $G$\n",
    "\n",
    "The possible transitions are $T = S \\times S$ where \n",
    "\n",
    "\\begin{align}\n",
    "\\forall (s_i,s_j) \\in T: & (s_i,s_j) \\in G_e \\textrm{, or} \\\\\n",
    "& s_i = s_j \\textrm{ and } s_i \\in S \\textrm{, or} \\\\\n",
    "& s_i = (s_{i,k},s_{i,l}) \\in G_e \\textrm{ and } s_{i,l} = s_j \\in G_v \\textrm{, or} \\\\\n",
    "& s_j = (s_{j,k},s_{j,l}) \\in G_e \\textrm{ and } s_{j,k} = s_i \\in G_v\n",
    "\\end{align}\n",
    "\n",
    "All transitions in $T$ have a probability of $1.0$. This transition probability can be adapted to previous behaviour of the tracked object (e.g., expect a similar speed)."
   ]
  },
  {
   "cell_type": "markdown",
   "metadata": {
    "deletable": true,
    "editable": true
   },
   "source": [
    "### Observations"
   ]
  },
  {
   "cell_type": "markdown",
   "metadata": {
    "deletable": true,
    "editable": true
   },
   "source": [
    "A measurement can be disturbed due to Gaussian noise, $X \\sim \\mathcal{N}(0, \\sigma^2_n)$ with $\\sigma^2_n$ is the standard deviation of the noise on the observation:\n",
    "\n",
    "\\begin{equation}\n",
    "    Pr(o_i|s_i) = 2\\cdot X(d(o_i, s_i))\n",
    "\\end{equation}\n",
    "\n",
    "Where $s_i$ is the i-th state, $o_i$ is the i-th observation, and $d$ depends on the type of state:\n",
    "\n",
    "- $d(o_i, s_i) = distance(o_i, s_i)$ if $s_i \\in G_v$\n",
    "- $d(o_i, s_i) = distance(o_i, p_i)$ where $p_i$ is the orthogonal projection of $o_i$ on segment $e$ if $s_i \\in G_e$."
   ]
  },
  {
   "cell_type": "code",
   "execution_count": 2,
   "metadata": {
    "ExecuteTime": {
     "end_time": "2017-03-18T11:25:47.737273Z",
     "start_time": "2017-03-18T12:25:47.447161+01:00"
    },
    "collapsed": false,
    "deletable": true,
    "editable": true
   },
   "outputs": [
    {
     "data": {
      "image/png": "[encoded data removed]",
      "text/plain": [
       "<matplotlib.figure.Figure at 0x103832908>"
      ]
     },
     "metadata": {},
     "output_type": "display_data"
    }
   ],
   "source": [
    "mm_visualization.plot_obs_noise_dist(mm.matching.Matcher(map, obs_noise=1))\n",
    "plt.savefig('observation_noise.png')"
   ]
  },
  {
   "cell_type": "markdown",
   "metadata": {
    "deletable": true,
    "editable": true
   },
   "source": [
    "## Task"
   ]
  },
  {
   "cell_type": "markdown",
   "metadata": {
    "deletable": true,
    "editable": true
   },
   "source": [
    "The goal is to find the sequence of states $\\mathbf{s} = [s_0, s_1, \\dots, s_m]$ where $s_i \\in S$ that minimizes the probability that the observations $\\mathbf{o} = [o_0, o_1, \\dots, o_m]$ are due to noise or maximizes the probability that the observation is close to the actual position with the assumption that the actual position is a position on the graph (either on a vertex or on an edge):\n",
    "\n",
    "\\begin{equation}\n",
    "\\max Pr(\\mathbf{s} | \\mathbf{o}) = \\sum_{i=1}^m Pr(o_i | s_i) \\cdot Pr(s_i|s_{i-1})\\cdot Pr(o_0 | s_0) \\cdot Pr(s_0)\n",
    "\\end{equation}"
   ]
  },
  {
   "cell_type": "markdown",
   "metadata": {
    "deletable": true,
    "editable": true
   },
   "source": [
    "## Including behaviour"
   ]
  },
  {
   "cell_type": "markdown",
   "metadata": {
    "deletable": true,
    "editable": true
   },
   "source": [
    "In case we want to model the behaviour of the object we are tracking, we can refine the possible states. Where now the states are a vertex or an edge, this can be refined to an actual position on an edge. The challenge now is that $\\Pr(s_i | s_{i-1})$ is a continuous distribution instead of a discrete (this is typically solved by a Particle Filter or Kalman filter not a HMM).\n",
    "\n",
    "This is not yet implemented in the toolbox. An approximation is implemented where the probability of the next state takes the average speed and the previous positions into account. But only for the orthogonal projection on the edge or the vertex and not any position on the edge."
   ]
  }
 ],
 "metadata": {
  "kernelspec": {
   "display_name": "Python 3",
   "language": "python",
   "name": "python3"
  },
  "language_info": {
   "codemirror_mode": {
    "name": "ipython",
    "version": 3
   },
   "file_extension": ".py",
   "mimetype": "text/x-python",
   "name": "python",
   "nbconvert_exporter": "python",
   "pygments_lexer": "ipython3",
   "version": "3.6.1"
  },
  "nav_menu": {},
  "toc": {
   "navigate_menu": true,
   "number_sections": true,
   "sideBar": true,
   "threshold": 6,
   "toc_cell": false,
   "toc_section_display": "block",
   "toc_window_display": false
  }
 },
 "nbformat": 4,
 "nbformat_minor": 0
}
