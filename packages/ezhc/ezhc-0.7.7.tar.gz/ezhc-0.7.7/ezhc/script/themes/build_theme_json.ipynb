{
 "cells": [
  {
   "cell_type": "code",
   "execution_count": 1,
   "metadata": {},
   "outputs": [],
   "source": [
    "import os\n",
    "from IPython.display import display, Javascript"
   ]
  },
  {
   "cell_type": "code",
   "execution_count": 69,
   "metadata": {},
   "outputs": [
    {
     "data": {
      "application/javascript": [
       "var theme = {\n",
       "\tcolors: ['#FDD089', '#FF7F79', '#A0446E', '#251535'],\n",
       "\n",
       "\tcolorAxis: {\n",
       "\t\tmaxColor: '#60042E',\n",
       "\t\tminColor: '#FDD089'\n",
       "\t},\n",
       "\n",
       "\tplotOptions: {\n",
       "\t\tmap: {\n",
       "\t\t\tnullColor: '#fefefc'\n",
       "\t\t}\n",
       "\t},\n",
       "\n",
       "\tnavigator: {\n",
       "\t\tseries: {\n",
       "\t\t\tcolor: '#FF7F79',\n",
       "\t\t\tlineColor: '#A0446E'\n",
       "\t\t}\n",
       "\t}\n",
       "};window.theme = theme; console.log(\"sunset.js:\"); console.log(theme);"
      ],
      "text/plain": [
       "<IPython.core.display.Javascript object>"
      ]
     },
     "metadata": {},
     "output_type": "display_data"
    }
   ],
   "source": [
    "filename = 'sunset.js'\n",
    "with open(filename, 'r') as f:\n",
    "    content = f.read()\n",
    "    js_theme = content + 'window.theme = theme; console.log(\"{}:\"); console.log(theme);'.format(filename)\n",
    "    #print(js_theme)\n",
    "    display(Javascript(js_theme))"
   ]
  },
  {
   "cell_type": "code",
   "execution_count": 70,
   "metadata": {},
   "outputs": [
    {
     "data": {
      "application/javascript": [
       "\n",
       "window.json_theme = JSON.stringify(window.theme);\n",
       "console.log(json_theme);\n"
      ],
      "text/plain": [
       "<IPython.core.display.Javascript object>"
      ]
     },
     "execution_count": 70,
     "metadata": {},
     "output_type": "execute_result"
    }
   ],
   "source": [
    "js_transform = \"\"\"\n",
    "window.json_theme = JSON.stringify(window.theme);\n",
    "console.log(json_theme);\n",
    "\"\"\"\n",
    "Javascript(js_transform)"
   ]
  },
  {
   "cell_type": "code",
   "execution_count": null,
   "metadata": {},
   "outputs": [],
   "source": []
  }
 ],
 "metadata": {
  "kernelspec": {
   "display_name": "Python 3",
   "language": "python",
   "name": "python3"
  },
  "language_info": {
   "codemirror_mode": {
    "name": "ipython",
    "version": 3
   },
   "file_extension": ".py",
   "mimetype": "text/x-python",
   "name": "python",
   "nbconvert_exporter": "python",
   "pygments_lexer": "ipython3",
   "version": "3.6.3"
  }
 },
 "nbformat": 4,
 "nbformat_minor": 2
}
