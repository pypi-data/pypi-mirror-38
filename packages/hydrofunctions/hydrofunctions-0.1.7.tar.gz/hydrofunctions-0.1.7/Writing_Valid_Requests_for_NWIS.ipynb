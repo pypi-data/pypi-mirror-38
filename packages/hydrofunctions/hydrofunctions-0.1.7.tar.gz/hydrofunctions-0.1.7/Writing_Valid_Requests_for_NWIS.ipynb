{
 "cells": [
  {
   "cell_type": "markdown",
   "metadata": {},
   "source": [
    "# Writing Valid Requests for NWIS\n",
    "The USGS National Water Information System (NWIS) is capable of handling a wide range of requests. A few features in Hydrofunctions are set up to help you write a successful request."
   ]
  },
  {
   "cell_type": "code",
   "execution_count": 1,
   "metadata": {
    "collapsed": true
   },
   "outputs": [],
   "source": [
    "# First, import hydrofunctions.\n",
    "import hydrofunctions as hf"
   ]
  },
  {
   "cell_type": "code",
   "execution_count": 2,
   "metadata": {
    "collapsed": true
   },
   "outputs": [],
   "source": [
    "# This is what a good request might look like.\n",
    "goodNWIS = hf.NWIS('01585200', 'dv', period='P200D').get_data()"
   ]
  },
  {
   "cell_type": "code",
   "execution_count": 3,
   "metadata": {},
   "outputs": [],
   "source": [
    "# You could also make this request using a function, like this:\n",
    "# goodNWISresponse = hf.get_nwis('01585200', 'dv', period='P200D')\n",
    "# goodNWISdataframe = hf.extract_nwis_df(goodNWISresponse)\n",
    "# goodNWISdataframe.head()"
   ]
  },
  {
   "cell_type": "code",
   "execution_count": 4,
   "metadata": {},
   "outputs": [
    {
     "data": {
      "text/html": [
       "<div>\n",
       "<style>\n",
       "    .dataframe thead tr:only-child th {\n",
       "        text-align: right;\n",
       "    }\n",
       "\n",
       "    .dataframe thead th {\n",
       "        text-align: left;\n",
       "    }\n",
       "\n",
       "    .dataframe tbody tr th {\n",
       "        vertical-align: top;\n",
       "    }\n",
       "</style>\n",
       "<table border=\"1\" class=\"dataframe\">\n",
       "  <thead>\n",
       "    <tr style=\"text-align: right;\">\n",
       "      <th></th>\n",
       "      <th>01585200 - Mean Discharge, cubic feet per second</th>\n",
       "    </tr>\n",
       "    <tr>\n",
       "      <th>datetime</th>\n",
       "      <th></th>\n",
       "    </tr>\n",
       "  </thead>\n",
       "  <tbody>\n",
       "    <tr>\n",
       "      <th>2017-08-06</th>\n",
       "      <td>0.38</td>\n",
       "    </tr>\n",
       "    <tr>\n",
       "      <th>2017-08-07</th>\n",
       "      <td>8.03</td>\n",
       "    </tr>\n",
       "    <tr>\n",
       "      <th>2017-08-08</th>\n",
       "      <td>0.72</td>\n",
       "    </tr>\n",
       "    <tr>\n",
       "      <th>2017-08-09</th>\n",
       "      <td>0.44</td>\n",
       "    </tr>\n",
       "    <tr>\n",
       "      <th>2017-08-10</th>\n",
       "      <td>0.45</td>\n",
       "    </tr>\n",
       "  </tbody>\n",
       "</table>\n",
       "</div>"
      ],
      "text/plain": [
       "            01585200 - Mean Discharge, cubic feet per second\n",
       "datetime                                                    \n",
       "2017-08-06                                              0.38\n",
       "2017-08-07                                              8.03\n",
       "2017-08-08                                              0.72\n",
       "2017-08-09                                              0.44\n",
       "2017-08-10                                              0.45"
      ]
     },
     "execution_count": 4,
     "metadata": {},
     "output_type": "execute_result"
    }
   ],
   "source": [
    "# We can examine the dataframe to make sure it looks nice..., or we could plot the dataframe to check it.\n",
    "goodNWIS.df().head()"
   ]
  },
  {
   "cell_type": "code",
   "execution_count": 5,
   "metadata": {},
   "outputs": [
    {
     "data": {
      "text/plain": [
       "<matplotlib.axes._subplots.AxesSubplot at 0x239bae1e128>"
      ]
     },
     "execution_count": 5,
     "metadata": {},
     "output_type": "execute_result"
    },
    {
     "data": {
      "image/png": "[encoded data removed]",
      "text/plain": [
       "<matplotlib.figure.Figure at 0x239badd0f60>"
      ]
     },
     "metadata": {},
     "output_type": "display_data"
    }
   ],
   "source": [
    "# ...or we could plot the dataframe to check it.\n",
    "%matplotlib inline\n",
    "goodNWIS.df().plot()"
   ]
  },
  {
   "cell_type": "markdown",
   "metadata": {},
   "source": [
    "## What happens when you make a bad request?\n",
    "The power of the NWIS also makes it easy to make mistakes.\n",
    "So, we've added a series of helpful error messages to let you know when something went wrong, and why it went wrong."
   ]
  },
  {
   "cell_type": "code",
   "execution_count": 6,
   "metadata": {},
   "outputs": [
    {
     "ename": "TypeError",
     "evalue": "The NWIS service type accepts 'dv' for daily values, or 'iv' for instantaneous values. Actual value: xx",
     "output_type": "error",
     "traceback": [
      "\u001b[1;31m---------------------------------------------------------------------------\u001b[0m",
      "\u001b[1;31mTypeError\u001b[0m                                 Traceback (most recent call last)",
      "\u001b[1;32m<ipython-input-6-2415219c948f>\u001b[0m in \u001b[0;36m<module>\u001b[1;34m()\u001b[0m\n\u001b[0;32m      1\u001b[0m \u001b[1;31m# For example, let's mistpye one of our parameters that worked so well above:\u001b[0m\u001b[1;33m\u001b[0m\u001b[1;33m\u001b[0m\u001b[0m\n\u001b[1;32m----> 2\u001b[1;33m \u001b[0mnotSoGoodNWIS\u001b[0m \u001b[1;33m=\u001b[0m \u001b[0mhf\u001b[0m\u001b[1;33m.\u001b[0m\u001b[0mNWIS\u001b[0m\u001b[1;33m(\u001b[0m\u001b[1;34m'01585200'\u001b[0m\u001b[1;33m,\u001b[0m \u001b[1;34m'xx'\u001b[0m\u001b[1;33m,\u001b[0m \u001b[0mperiod\u001b[0m\u001b[1;33m=\u001b[0m\u001b[1;34m'P200D'\u001b[0m\u001b[1;33m)\u001b[0m\u001b[1;33m.\u001b[0m\u001b[0mget_data\u001b[0m\u001b[1;33m(\u001b[0m\u001b[1;33m)\u001b[0m\u001b[1;33m\u001b[0m\u001b[0m\n\u001b[0m",
      "\u001b[1;32m~\\PyDev\\src\\hydrofunctions\\hydrofunctions\\station.py\u001b[0m in \u001b[0;36m__init__\u001b[1;34m(self, site, service, start_date, end_date, stateCd, countyCd, parameterCd, period)\u001b[0m\n\u001b[0;32m    108\u001b[0m \u001b[1;33m\u001b[0m\u001b[0m\n\u001b[0;32m    109\u001b[0m         \u001b[0mself\u001b[0m\u001b[1;33m.\u001b[0m\u001b[0msite\u001b[0m \u001b[1;33m=\u001b[0m \u001b[0mtyping\u001b[0m\u001b[1;33m.\u001b[0m\u001b[0mcheck_NWIS_site\u001b[0m\u001b[1;33m(\u001b[0m\u001b[0msite\u001b[0m\u001b[1;33m)\u001b[0m\u001b[1;33m\u001b[0m\u001b[0m\n\u001b[1;32m--> 110\u001b[1;33m         \u001b[0mself\u001b[0m\u001b[1;33m.\u001b[0m\u001b[0mservice\u001b[0m \u001b[1;33m=\u001b[0m \u001b[0mtyping\u001b[0m\u001b[1;33m.\u001b[0m\u001b[0mcheck_NWIS_service\u001b[0m\u001b[1;33m(\u001b[0m\u001b[0mservice\u001b[0m\u001b[1;33m)\u001b[0m\u001b[1;33m\u001b[0m\u001b[0m\n\u001b[0m\u001b[0;32m    111\u001b[0m         \u001b[0mself\u001b[0m\u001b[1;33m.\u001b[0m\u001b[0mstart_date\u001b[0m \u001b[1;33m=\u001b[0m \u001b[0mtyping\u001b[0m\u001b[1;33m.\u001b[0m\u001b[0mcheck_datestr\u001b[0m\u001b[1;33m(\u001b[0m\u001b[0mstart_date\u001b[0m\u001b[1;33m)\u001b[0m\u001b[1;33m\u001b[0m\u001b[0m\n\u001b[0;32m    112\u001b[0m         \u001b[0mself\u001b[0m\u001b[1;33m.\u001b[0m\u001b[0mend_date\u001b[0m \u001b[1;33m=\u001b[0m \u001b[0mtyping\u001b[0m\u001b[1;33m.\u001b[0m\u001b[0mcheck_datestr\u001b[0m\u001b[1;33m(\u001b[0m\u001b[0mend_date\u001b[0m\u001b[1;33m)\u001b[0m\u001b[1;33m\u001b[0m\u001b[0m\n",
      "\u001b[1;32m~\\PyDev\\src\\hydrofunctions\\hydrofunctions\\typing.py\u001b[0m in \u001b[0;36mcheck_NWIS_service\u001b[1;34m(input)\u001b[0m\n\u001b[0;32m     67\u001b[0m         raise TypeError(\"The NWIS service type accepts 'dv' for daily values, \"\n\u001b[0;32m     68\u001b[0m                         \u001b[1;34m\"or 'iv' for instantaneous values. Actual value: \"\u001b[0m\u001b[1;33m\u001b[0m\u001b[0m\n\u001b[1;32m---> 69\u001b[1;33m                         \"{}\".format(input))\n\u001b[0m\u001b[0;32m     70\u001b[0m \u001b[1;33m\u001b[0m\u001b[0m\n\u001b[0;32m     71\u001b[0m \u001b[1;33m\u001b[0m\u001b[0m\n",
      "\u001b[1;31mTypeError\u001b[0m: The NWIS service type accepts 'dv' for daily values, or 'iv' for instantaneous values. Actual value: xx"
     ]
    }
   ],
   "source": [
    "# For example, let's mistpye one of our parameters that worked so well above:\n",
    "notSoGoodNWIS = hf.NWIS('01585200', 'xx', period='P200D').get_data()"
   ]
  },
  {
   "cell_type": "markdown",
   "metadata": {},
   "source": [
    "Okay, maybe I shouldn't have typed 'xx' for our service.\n",
    "\n",
    "\n",
    "Some errors get caught by hydrofunctions, but some don't. Sometimes we end up asking NWIS for something that doesn't make sense, or something that it doesn't have, or maybe NWIS isn't available. In this case, hydrofunctions will receive an error message from NWIS and help you figure out what went wrong."
   ]
  },
  {
   "cell_type": "code",
   "execution_count": null,
   "metadata": {},
   "outputs": [],
   "source": [
    "# Let's ask for the impossible: the start date is AFTER the end date:\n",
    "badRequest = hf.get_nwis('01585200', 'dv', '2017-12-31', '2017-01-01')"
   ]
  },
  {
   "cell_type": "markdown",
   "metadata": {},
   "source": [
    "# Getting Help\n",
    "I probably shouldn't have started with all of the things that go wrong! My point is that we've got ya.\n",
    "\n",
    "Where can you go to learn how to do things the RIGHT way?\n",
    "* [The User's Guide](https://hydrofunctions.readthedocs.io/en/latest/?badge=latest)\n",
    "* [Introduction to Hydrofunctions.ipynb](https://github.com/mroberge/hydrofunctions/blob/master/Introduction%20to%20Hydrofunctions.ipynb)\n",
    "* [The USGS guide to their waterservices](https://help.waterdata.usgs.gov/faq/automated-retrievals)\n",
    "\n",
    "**But we also have a few built-in helpers that you can use right here, right now:**\n",
    "* help() and ? will show you \n",
    "* dir() and .<TAB>"
   ]
  },
  {
   "cell_type": "code",
   "execution_count": null,
   "metadata": {},
   "outputs": [],
   "source": [
    "# Use the help() function to see all of the parameters for a function, their default values, \n",
    "# and a short explanation of what it all means. Or you can type ?hf.get_nwis to access the same information.\n",
    "help(hf.get_nwis)"
   ]
  },
  {
   "cell_type": "code",
   "execution_count": null,
   "metadata": {},
   "outputs": [],
   "source": [
    "# Use the dir() function to see what sort of methods you have available to you,\n",
    "# or type hf.NWIS.<TAB> to see the same list.\n",
    "dir(hf.NWIS)"
   ]
  },
  {
   "cell_type": "markdown",
   "metadata": {},
   "source": [
    "# Happy Computing!\n",
    "\n",
    "If you have any problems or have any comments, please leave me a note on the [Issues page](https://github.com/mroberge/hydrofunctions/issues)!"
   ]
  }
 ],
 "metadata": {
  "kernelspec": {
   "display_name": "Python [default]",
   "language": "python",
   "name": "python3"
  },
  "language_info": {
   "codemirror_mode": {
    "name": "ipython",
    "version": 3
   },
   "file_extension": ".py",
   "mimetype": "text/x-python",
   "name": "python",
   "nbconvert_exporter": "python",
   "pygments_lexer": "ipython3",
   "version": "3.6.3"
  }
 },
 "nbformat": 4,
 "nbformat_minor": 2
}
