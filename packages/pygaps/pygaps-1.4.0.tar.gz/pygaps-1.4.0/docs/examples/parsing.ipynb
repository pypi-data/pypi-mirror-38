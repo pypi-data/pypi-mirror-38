{
 "cells": [
  {
   "cell_type": "markdown",
   "metadata": {},
   "source": [
    "# Parsing examples\n",
    "\n",
    "Some examples on parsing to and from supported formats.\n",
    "\n",
    "## Declare paths\n",
    "\n",
    "First, let's do all the necessary imports and generate the paths that we'll use for file import and export.\n",
    "We'll then use the `util_get_file_paths` function to get the file paths in those directories."
   ]
  },
  {
   "cell_type": "code",
   "execution_count": 11,
   "metadata": {},
   "outputs": [],
   "source": [
    "import os\n",
    "import pygaps\n",
    "\n",
    "# Get directory paths\n",
    "xl_path = os.path.join(os.getcwd(), 'data', 'parsing', 'excel')\n",
    "json_path = os.path.join(os.getcwd(), 'data', 'parsing', 'json')\n",
    "csv_path = os.path.join(os.getcwd(), 'data', 'parsing', 'csv')\n",
    "\n",
    "# Find files\n",
    "json_file_paths = pygaps.util_get_file_paths(json_path, '.json')\n",
    "xl_file_paths = pygaps.util_get_file_paths(xl_path, '.xls')\n",
    "csv_file_paths = pygaps.util_get_file_paths(csv_path, '.csv')"
   ]
  },
  {
   "cell_type": "markdown",
   "metadata": {},
   "source": [
    "## JSON Parsing\n",
    "### JSON Import"
   ]
  },
  {
   "cell_type": "code",
   "execution_count": 3,
   "metadata": {},
   "outputs": [
    {
     "name": "stdout",
     "output_type": "stream",
     "text": [
      "Experimental isotherm\n",
      "Material: HKUST-1(Cu)\n",
      "Batch: Test\n",
      "Adsorbate used: CO2\n",
      "Isotherm temperature: 303.0K\n",
      "Isotherm type: Calorimetrie\n",
      "Isotherm date: 2010-05-21 00:00:00\n",
      "Machine: CV\n",
      "User: ADW\n",
      "Activation temperature: 150.0°C\n",
      "Source: MADIREL\n",
      "Units: \n",
      "\tUnit for loading: mmol/g\n",
      "\tUnit for pressure: bar\n",
      "Other properties: \n",
      "\tid: 9a5f018592c09525cd0ab253b80a3b9b\n",
      "\n",
      "Experimental isotherm\n",
      "Material: MCM-41\n",
      "Batch: Test\n",
      "Adsorbate used: N2\n",
      "Isotherm temperature: 77.0K\n",
      "Isotherm type: Isotherme\n",
      "Machine: Triflex\n",
      "User: PI\n",
      "Activation temperature: 150.0°C\n",
      "Source: MADIREL\n",
      "Units: \n",
      "\tUnit for loading: mmol/g\n",
      "\tUnit for pressure: bar\n",
      "Other properties: \n",
      "\tid: 158077c3923f05773f5067eedd20ee9b\n",
      "\n"
     ]
    }
   ],
   "source": [
    "# Import them\n",
    "isotherms = []\n",
    "for filepath in json_file_paths:\n",
    "    with open(filepath, 'r') as text_file:\n",
    "        isotherms.append(pygaps.isotherm_from_json(text_file.read()))\n",
    "\n",
    "# See the files\n",
    "for isotherm in isotherms:\n",
    "    print(isotherm)"
   ]
  },
  {
   "cell_type": "markdown",
   "metadata": {},
   "source": [
    "### JSON Export"
   ]
  },
  {
   "cell_type": "code",
   "execution_count": 5,
   "metadata": {},
   "outputs": [],
   "source": [
    "for isotherm in isotherms:\n",
    "    filename = os.path.join(json_path, \n",
    "                            ' '.join([isotherm.sample_name,\n",
    "                                      isotherm.adsorbate,\n",
    "                                      str(isotherm.t_exp)]) + '.json')\n",
    "    with open(filename, mode='w') as f:\n",
    "        f.write(pygaps.isotherm_to_json(isotherm))"
   ]
  },
  {
   "cell_type": "markdown",
   "metadata": {},
   "source": [
    "## Excel Parsing\n",
    "\n",
    "Excel *does not* have to be installed on the system in use.     \n",
    "\n",
    "### Excel Import"
   ]
  },
  {
   "cell_type": "code",
   "execution_count": 12,
   "metadata": {},
   "outputs": [
    {
     "ename": "XLRDError",
     "evalue": "No sheet named <'data'>",
     "output_type": "error",
     "traceback": [
      "\u001b[1;31m---------------------------------------------------------------------------\u001b[0m",
      "\u001b[1;31mValueError\u001b[0m                                Traceback (most recent call last)",
      "\u001b[1;32m~\\Miniconda3\\lib\\site-packages\\xlrd\\book.py\u001b[0m in \u001b[0;36msheet_by_name\u001b[1;34m(self, sheet_name)\u001b[0m\n\u001b[0;32m    469\u001b[0m         \u001b[1;32mtry\u001b[0m\u001b[1;33m:\u001b[0m\u001b[1;33m\u001b[0m\u001b[0m\n\u001b[1;32m--> 470\u001b[1;33m             \u001b[0msheetx\u001b[0m \u001b[1;33m=\u001b[0m \u001b[0mself\u001b[0m\u001b[1;33m.\u001b[0m\u001b[0m_sheet_names\u001b[0m\u001b[1;33m.\u001b[0m\u001b[0mindex\u001b[0m\u001b[1;33m(\u001b[0m\u001b[0msheet_name\u001b[0m\u001b[1;33m)\u001b[0m\u001b[1;33m\u001b[0m\u001b[0m\n\u001b[0m\u001b[0;32m    471\u001b[0m         \u001b[1;32mexcept\u001b[0m \u001b[0mValueError\u001b[0m\u001b[1;33m:\u001b[0m\u001b[1;33m\u001b[0m\u001b[0m\n",
      "\u001b[1;31mValueError\u001b[0m: 'data' is not in list",
      "\nDuring handling of the above exception, another exception occurred:\n",
      "\u001b[1;31mXLRDError\u001b[0m                                 Traceback (most recent call last)",
      "\u001b[1;32m<ipython-input-12-9477a7640b94>\u001b[0m in \u001b[0;36m<module>\u001b[1;34m()\u001b[0m\n\u001b[0;32m      1\u001b[0m \u001b[1;31m# Import them\u001b[0m\u001b[1;33m\u001b[0m\u001b[1;33m\u001b[0m\u001b[0m\n\u001b[1;32m----> 2\u001b[1;33m \u001b[0misotherms\u001b[0m \u001b[1;33m=\u001b[0m \u001b[1;33m[\u001b[0m\u001b[0mpygaps\u001b[0m\u001b[1;33m.\u001b[0m\u001b[0misotherm_from_xl\u001b[0m\u001b[1;33m(\u001b[0m\u001b[0mpath\u001b[0m\u001b[1;33m)\u001b[0m \u001b[1;32mfor\u001b[0m \u001b[0mpath\u001b[0m \u001b[1;32min\u001b[0m \u001b[0mxl_file_paths\u001b[0m\u001b[1;33m]\u001b[0m\u001b[1;33m\u001b[0m\u001b[0m\n\u001b[0m\u001b[0;32m      3\u001b[0m \u001b[1;33m\u001b[0m\u001b[0m\n\u001b[0;32m      4\u001b[0m \u001b[1;31m# See the files\u001b[0m\u001b[1;33m\u001b[0m\u001b[1;33m\u001b[0m\u001b[0m\n\u001b[0;32m      5\u001b[0m \u001b[1;32mfor\u001b[0m \u001b[0misotherm\u001b[0m \u001b[1;32min\u001b[0m \u001b[0misotherms\u001b[0m\u001b[1;33m:\u001b[0m\u001b[1;33m\u001b[0m\u001b[0m\n",
      "\u001b[1;32m<ipython-input-12-9477a7640b94>\u001b[0m in \u001b[0;36m<listcomp>\u001b[1;34m(.0)\u001b[0m\n\u001b[0;32m      1\u001b[0m \u001b[1;31m# Import them\u001b[0m\u001b[1;33m\u001b[0m\u001b[1;33m\u001b[0m\u001b[0m\n\u001b[1;32m----> 2\u001b[1;33m \u001b[0misotherms\u001b[0m \u001b[1;33m=\u001b[0m \u001b[1;33m[\u001b[0m\u001b[0mpygaps\u001b[0m\u001b[1;33m.\u001b[0m\u001b[0misotherm_from_xl\u001b[0m\u001b[1;33m(\u001b[0m\u001b[0mpath\u001b[0m\u001b[1;33m)\u001b[0m \u001b[1;32mfor\u001b[0m \u001b[0mpath\u001b[0m \u001b[1;32min\u001b[0m \u001b[0mxl_file_paths\u001b[0m\u001b[1;33m]\u001b[0m\u001b[1;33m\u001b[0m\u001b[0m\n\u001b[0m\u001b[0;32m      3\u001b[0m \u001b[1;33m\u001b[0m\u001b[0m\n\u001b[0;32m      4\u001b[0m \u001b[1;31m# See the files\u001b[0m\u001b[1;33m\u001b[0m\u001b[1;33m\u001b[0m\u001b[0m\n\u001b[0;32m      5\u001b[0m \u001b[1;32mfor\u001b[0m \u001b[0misotherm\u001b[0m \u001b[1;32min\u001b[0m \u001b[0misotherms\u001b[0m\u001b[1;33m:\u001b[0m\u001b[1;33m\u001b[0m\u001b[0m\n",
      "\u001b[1;32mc:\\users\\paul\\git\\pygaps\\src\\pygaps\\parsing\\excelinterface.py\u001b[0m in \u001b[0;36misotherm_from_xl\u001b[1;34m(path, fmt)\u001b[0m\n\u001b[0;32m    339\u001b[0m         \u001b[1;31m# Get excel workbook and sheet\u001b[0m\u001b[1;33m\u001b[0m\u001b[1;33m\u001b[0m\u001b[0m\n\u001b[0;32m    340\u001b[0m         \u001b[0mwb\u001b[0m \u001b[1;33m=\u001b[0m \u001b[0mxlrd\u001b[0m\u001b[1;33m.\u001b[0m\u001b[0mopen_workbook\u001b[0m\u001b[1;33m(\u001b[0m\u001b[0mpath\u001b[0m\u001b[1;33m)\u001b[0m\u001b[1;33m\u001b[0m\u001b[0m\n\u001b[1;32m--> 341\u001b[1;33m         \u001b[0msht\u001b[0m \u001b[1;33m=\u001b[0m \u001b[0mwb\u001b[0m\u001b[1;33m.\u001b[0m\u001b[0msheet_by_name\u001b[0m\u001b[1;33m(\u001b[0m\u001b[1;34m'data'\u001b[0m\u001b[1;33m)\u001b[0m\u001b[1;33m\u001b[0m\u001b[0m\n\u001b[0m\u001b[0;32m    342\u001b[0m \u001b[1;33m\u001b[0m\u001b[0m\n\u001b[0;32m    343\u001b[0m         \u001b[1;31m# get the required dictionaries\u001b[0m\u001b[1;33m\u001b[0m\u001b[1;33m\u001b[0m\u001b[0m\n",
      "\u001b[1;32m~\\Miniconda3\\lib\\site-packages\\xlrd\\book.py\u001b[0m in \u001b[0;36msheet_by_name\u001b[1;34m(self, sheet_name)\u001b[0m\n\u001b[0;32m    470\u001b[0m             \u001b[0msheetx\u001b[0m \u001b[1;33m=\u001b[0m \u001b[0mself\u001b[0m\u001b[1;33m.\u001b[0m\u001b[0m_sheet_names\u001b[0m\u001b[1;33m.\u001b[0m\u001b[0mindex\u001b[0m\u001b[1;33m(\u001b[0m\u001b[0msheet_name\u001b[0m\u001b[1;33m)\u001b[0m\u001b[1;33m\u001b[0m\u001b[0m\n\u001b[0;32m    471\u001b[0m         \u001b[1;32mexcept\u001b[0m \u001b[0mValueError\u001b[0m\u001b[1;33m:\u001b[0m\u001b[1;33m\u001b[0m\u001b[0m\n\u001b[1;32m--> 472\u001b[1;33m             \u001b[1;32mraise\u001b[0m \u001b[0mXLRDError\u001b[0m\u001b[1;33m(\u001b[0m\u001b[1;34m'No sheet named <%r>'\u001b[0m \u001b[1;33m%\u001b[0m \u001b[0msheet_name\u001b[0m\u001b[1;33m)\u001b[0m\u001b[1;33m\u001b[0m\u001b[0m\n\u001b[0m\u001b[0;32m    473\u001b[0m         \u001b[1;32mreturn\u001b[0m \u001b[0mself\u001b[0m\u001b[1;33m.\u001b[0m\u001b[0msheet_by_index\u001b[0m\u001b[1;33m(\u001b[0m\u001b[0msheetx\u001b[0m\u001b[1;33m)\u001b[0m\u001b[1;33m\u001b[0m\u001b[0m\n\u001b[0;32m    474\u001b[0m \u001b[1;33m\u001b[0m\u001b[0m\n",
      "\u001b[1;31mXLRDError\u001b[0m: No sheet named <'data'>"
     ]
    }
   ],
   "source": [
    "# Import them\n",
    "isotherms = [pygaps.isotherm_from_xl(path) for path in xl_file_paths]\n",
    "\n",
    "# See the files\n",
    "for isotherm in isotherms:\n",
    "    print(isotherm)"
   ]
  },
  {
   "cell_type": "markdown",
   "metadata": {},
   "source": [
    "### Excel Export"
   ]
  },
  {
   "cell_type": "code",
   "execution_count": 5,
   "metadata": {},
   "outputs": [],
   "source": [
    "# Export each isotherm in turn\n",
    "for isotherm in isotherms:\n",
    "    filename = ' '.join([isotherm.sample_name, isotherm.adsorbate, str(isotherm.t_exp)]) + '.xls'\n",
    "    pygaps.isotherm_to_xl(isotherm, os.path.join(xl_path, filename))"
   ]
  },
  {
   "cell_type": "markdown",
   "metadata": {},
   "source": [
    "## CSV Parsing\n",
    "### CSV Import"
   ]
  },
  {
   "cell_type": "code",
   "execution_count": 6,
   "metadata": {},
   "outputs": [
    {
     "name": "stdout",
     "output_type": "stream",
     "text": [
      "Experimental isotherm\n",
      "Material: HKUST-1(Cu)\n",
      "Batch: Test\n",
      "Adsorbate used: CO2\n",
      "Isotherm temperature: 303.0K\n",
      "Isotherm type: Calorimetrie\n",
      "Isotherm date: 21/05/2010 00:00\n",
      "Machine: CV\n",
      "User: ADW\n",
      "Activation temperature: 150.0°C\n",
      "Source: MADIREL\n",
      "Units: \n",
      "Unit for loading: mmol/g\n",
      "Unit for pressure: bar\n",
      "Other properties: \n",
      "\n",
      "Experimental isotherm\n",
      "Material: MCM-41\n",
      "Batch: Test\n",
      "Adsorbate used: N2\n",
      "Isotherm temperature: 77.0K\n",
      "Isotherm type: Isotherme\n",
      "Machine: Triflex\n",
      "User: PI\n",
      "Activation temperature: 150.0°C\n",
      "Source: MADIREL\n",
      "Units: \n",
      "Unit for loading: mmol/g\n",
      "Unit for pressure: bar\n",
      "Other properties: \n",
      "\n"
     ]
    }
   ],
   "source": [
    "# Import them\n",
    "isotherms = [pygaps.isotherm_from_csv(path) for path in csv_file_paths]\n",
    "\n",
    "# See the files\n",
    "for isotherm in isotherms:\n",
    "    print(isotherm)"
   ]
  },
  {
   "cell_type": "markdown",
   "metadata": {},
   "source": [
    "### CSV Export"
   ]
  },
  {
   "cell_type": "code",
   "execution_count": 7,
   "metadata": {},
   "outputs": [],
   "source": [
    "# Export each isotherm in turn\n",
    "for isotherm in isotherms:\n",
    "    filename = ' '.join([isotherm.sample_name, isotherm.adsorbate, str(isotherm.t_exp)]) + '.csv'\n",
    "    pygaps.isotherm_to_csv(isotherm, os.path.join(csv_path, filename))"
   ]
  }
 ],
 "metadata": {
  "kernelspec": {
   "display_name": "Python 3",
   "language": "python",
   "name": "python3"
  },
  "language_info": {
   "codemirror_mode": {
    "name": "ipython",
    "version": 3
   },
   "file_extension": ".py",
   "mimetype": "text/x-python",
   "name": "python",
   "nbconvert_exporter": "python",
   "pygments_lexer": "ipython3",
   "version": "3.6.6"
  }
 },
 "nbformat": 4,
 "nbformat_minor": 2
}
