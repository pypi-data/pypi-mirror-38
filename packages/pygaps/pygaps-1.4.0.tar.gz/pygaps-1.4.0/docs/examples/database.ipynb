{
 "cells": [
  {
   "cell_type": "markdown",
   "metadata": {
    "collapsed": true
   },
   "source": [
    "# Database examples"
   ]
  },
  {
   "cell_type": "markdown",
   "metadata": {},
   "source": [
    "## Premise\n",
    "\n",
    "Let's assume we want to upload a newly created isotherm in the internal database. This isotherm\n",
    "is measured on the novel adsorbent *Carbon X1*, with nitrogen at 77 K. The sample itself is \n",
    "synthesised locally, by Dr. Alice and has then undergone a chemical activation process. The experiment is performed on a homemade apparatus by Dr. Bob."
   ]
  },
  {
   "cell_type": "markdown",
   "metadata": {},
   "source": [
    "## Imports\n",
    "\n",
    "First we need to do the required imports"
   ]
  },
  {
   "cell_type": "code",
   "execution_count": 1,
   "metadata": {},
   "outputs": [
    {
     "name": "stdout",
     "output_type": "stream",
     "text": [
      "Selected 0 samples\n",
      "Selected 23 adsorbates\n"
     ]
    }
   ],
   "source": [
    "import pygaps"
   ]
  },
  {
   "cell_type": "markdown",
   "metadata": {},
   "source": [
    "## Adsorbate"
   ]
  },
  {
   "cell_type": "markdown",
   "metadata": {
    "collapsed": true
   },
   "source": [
    "The internal database already contains nitrogen as an adsorbate therefore, there's no need to\n",
    "worry about the adsorbate for now."
   ]
  },
  {
   "cell_type": "markdown",
   "metadata": {},
   "source": [
    "## Sample\n",
    "\n",
    "Since no samples are present in the internal database, we must first upload the sample object.\n",
    "We create a Sample class with the required values and try to upload it."
   ]
  },
  {
   "cell_type": "code",
   "execution_count": 2,
   "metadata": {
    "scrolled": true
   },
   "outputs": [
    {
     "name": "stdout",
     "output_type": "stream",
     "text": [
      "Error on sample: \n",
      " Carbon X1 \n",
      " FOREIGN KEY constraint failed\n",
      "\n"
     ]
    }
   ],
   "source": [
    "novel_sample = pygaps.Sample(\n",
    "            name = 'Carbon',\n",
    "            batch = 'X1',\n",
    "\n",
    "            contact = 'Alice',\n",
    "            source = 'local',\n",
    "            type = 'novel',\n",
    "    \n",
    "            treatment = 'chemical'\n",
    "            )\n",
    "\n",
    "try:\n",
    "    pygaps.db_upload_sample(pygaps.DATABASE, novel_sample)\n",
    "except Exception as e:\n",
    "    print(e)"
   ]
  },
  {
   "cell_type": "markdown",
   "metadata": {},
   "source": [
    "We get a foreign key error, since the constraints do not exist in the database yet.\n",
    "Before we can upload the sample, we need to have the values of the foreign keys in place:\n",
    "\n",
    "- the contact, as Alice\n",
    "- the source, as local\n",
    "- the type of adsorbent, as novel\n",
    "- the sample property we have added\n",
    "\n",
    "We can do this by passing to the respective functions dictionaries with the required values."
   ]
  },
  {
   "cell_type": "code",
   "execution_count": 3,
   "metadata": {},
   "outputs": [
    {
     "name": "stdout",
     "output_type": "stream",
     "text": [
      "Contact uploaded Alice\n"
     ]
    }
   ],
   "source": [
    "pygaps.db_upload_contact(pygaps.DATABASE, \n",
    "                         {\n",
    "                             'nick' : 'Alice',\n",
    "                             'name' : 'Dr. Alice'\n",
    "                         })"
   ]
  },
  {
   "cell_type": "code",
   "execution_count": 4,
   "metadata": {
    "scrolled": false
   },
   "outputs": [
    {
     "name": "stdout",
     "output_type": "stream",
     "text": [
      "Source uploaded local\n"
     ]
    }
   ],
   "source": [
    "pygaps.db_upload_source(pygaps.DATABASE, \n",
    "                         {\n",
    "                             'nick' : 'local',\n",
    "                             'name' : 'our own lab'\n",
    "                         })"
   ]
  },
  {
   "cell_type": "code",
   "execution_count": 5,
   "metadata": {},
   "outputs": [
    {
     "name": "stdout",
     "output_type": "stream",
     "text": [
      "Sample type uploaded {'type': 'novel', 'name': 'a novel sample which was developed in our lab'}\n"
     ]
    }
   ],
   "source": [
    "pygaps.db_upload_sample_type(pygaps.DATABASE, \n",
    "                             {\n",
    "                                 'type' : 'novel',\n",
    "                                 'name' : 'a novel sample which was developed in our lab'\n",
    "                             })"
   ]
  },
  {
   "cell_type": "code",
   "execution_count": 6,
   "metadata": {},
   "outputs": [
    {
     "name": "stdout",
     "output_type": "stream",
     "text": [
      "Property type uploaded {'type': 'treatment'}\n"
     ]
    }
   ],
   "source": [
    "pygaps.db_upload_sample_property_type(pygaps.DATABASE, \n",
    "                             {\n",
    "                                 'type' : 'treatment',\n",
    "                             })"
   ]
  },
  {
   "cell_type": "markdown",
   "metadata": {},
   "source": [
    "Now that all of the constraints are in place let's try the sample upload again."
   ]
  },
  {
   "cell_type": "code",
   "execution_count": 7,
   "metadata": {},
   "outputs": [
    {
     "name": "stdout",
     "output_type": "stream",
     "text": [
      "Sample uploaded Carbon X1\n"
     ]
    }
   ],
   "source": [
    "pygaps.db_upload_sample(pygaps.DATABASE, novel_sample)"
   ]
  },
  {
   "cell_type": "markdown",
   "metadata": {},
   "source": [
    "## Isotherm\n",
    "\n",
    "Now it's time to upload the isotherm itself.\n",
    "We happen to have the isotherm conveniently stored as a json file, so we load it into memory and we attempt to upload it."
   ]
  },
  {
   "cell_type": "code",
   "execution_count": 8,
   "metadata": {},
   "outputs": [
    {
     "name": "stdout",
     "output_type": "stream",
     "text": [
      "Error on isotherm: \n",
      " physisorption Carbon X1 Bob N2 homemade1 150.0 303.0 \n",
      " FOREIGN KEY constraint failed\n",
      "\n"
     ]
    }
   ],
   "source": [
    "import os\n",
    "json_path = os.path.join(os.getcwd(), 'data', 'database', 'Carbon X1.json')\n",
    "with open(json_path) as text_file:\n",
    "    isotherm = pygaps.isotherm_from_json(text_file.read())\n",
    "\n",
    "try:\n",
    "    pygaps.db_upload_experiment(pygaps.DATABASE, isotherm)\n",
    "except Exception as e:\n",
    "    print(e)"
   ]
  },
  {
   "cell_type": "markdown",
   "metadata": {},
   "source": [
    "As before, we need to first make sure that the constraints are satisfied before the isotherm can be uploaded. On the isotherm side, we have the following constraints:\n",
    "\n",
    "- the adsorbate which was used in the experiment, which is already in the database\n",
    "- the machine which was used to measure the data\n",
    "- the user who measured it\n",
    "- the experiment type, in this case physisorption\n",
    "- the experiment data types, which in this case are just the columns in the dataframe: pressure and loading.\n",
    "\n",
    "\n",
    "Again, we pass to the respective functions dictionaries with the required values."
   ]
  },
  {
   "cell_type": "code",
   "execution_count": 9,
   "metadata": {},
   "outputs": [
    {
     "name": "stdout",
     "output_type": "stream",
     "text": [
      "Machine uploaded homemade1\n"
     ]
    }
   ],
   "source": [
    "pygaps.db_upload_machine(pygaps.DATABASE, {\n",
    "                             'nick' : 'homemade1',\n",
    "                             'name' : 'our own apparatus'\n",
    "                         })"
   ]
  },
  {
   "cell_type": "code",
   "execution_count": 10,
   "metadata": {},
   "outputs": [
    {
     "name": "stdout",
     "output_type": "stream",
     "text": [
      "Contact uploaded Bob\n"
     ]
    }
   ],
   "source": [
    "pygaps.db_upload_contact(pygaps.DATABASE, {\n",
    "                             'nick' : 'Bob',\n",
    "                             'name' : 'Dr. Bob'\n",
    "                         })"
   ]
  },
  {
   "cell_type": "code",
   "execution_count": 11,
   "metadata": {},
   "outputs": [
    {
     "name": "stdout",
     "output_type": "stream",
     "text": [
      "Experiment type uploaded physisorption\n"
     ]
    }
   ],
   "source": [
    "pygaps.db_upload_experiment_type(pygaps.DATABASE, {\n",
    "                                 'type' : 'physisorption',\n",
    "                                 'name' : 'physisorption at 77 k'\n",
    "                             })"
   ]
  },
  {
   "cell_type": "code",
   "execution_count": 12,
   "metadata": {},
   "outputs": [
    {
     "name": "stdout",
     "output_type": "stream",
     "text": [
      "Data type uploaded {'type': 'loading', 'name': 'mmol/g'}\n",
      "Data type uploaded {'type': 'pressure', 'unit': 'bar'}\n"
     ]
    }
   ],
   "source": [
    "pygaps.db_upload_experiment_data_type(pygaps.DATABASE, {\n",
    "                                 'type' : isotherm.loading_key,\n",
    "                                 'name' : 'mmol/g'\n",
    "                             })\n",
    "pygaps.db_upload_experiment_data_type(pygaps.DATABASE, {\n",
    "                                 'type' : isotherm.pressure_key,\n",
    "                                 'unit' : 'bar'\n",
    "                             })"
   ]
  },
  {
   "cell_type": "markdown",
   "metadata": {},
   "source": [
    "Now we can try the upload again."
   ]
  },
  {
   "cell_type": "code",
   "execution_count": 13,
   "metadata": {},
   "outputs": [
    {
     "name": "stdout",
     "output_type": "stream",
     "text": [
      "Success: Experimental isotherm\n",
      "Material: Carbon\n",
      "Batch: X1\n",
      "Adsorbate used: N2\n",
      "Isotherm temperature: 303.0K\n",
      "Isotherm type: physisorption\n",
      "Machine: homemade1\n",
      "User: Bob\n",
      "Activation temperature: 150.0°C\n",
      "Units: \n",
      "Unit for loading: mmol/g\n",
      "Unit for pressure: bar\n",
      "Other properties: \n",
      "\n"
     ]
    }
   ],
   "source": [
    "pygaps.db_upload_experiment(pygaps.DATABASE, isotherm)"
   ]
  },
  {
   "cell_type": "markdown",
   "metadata": {},
   "source": [
    "## Conclusion\n",
    "\n",
    "While the instantiation process is initially lengthy, after the constraints are added to the database, the infrastructure is in place for easy upload of isotherms."
   ]
  },
  {
   "cell_type": "markdown",
   "metadata": {},
   "source": [
    "## Clean-up\n",
    "\n",
    "If you run this iPython notebook with your own installation, run the following code to remove any residual values from the database."
   ]
  },
  {
   "cell_type": "code",
   "execution_count": 14,
   "metadata": {},
   "outputs": [
    {
     "name": "stdout",
     "output_type": "stream",
     "text": [
      "Success: Experimental isotherm\n",
      "Material: Carbon\n",
      "Batch: X1\n",
      "Adsorbate used: N2\n",
      "Isotherm temperature: 303.0K\n",
      "Isotherm type: physisorption\n",
      "Machine: homemade1\n",
      "User: Bob\n",
      "Activation temperature: 150.0°C\n",
      "Units: \n",
      "Unit for loading: mmol/g\n",
      "Unit for pressure: bar\n",
      "Other properties: \n",
      "\n",
      "Success Carbon X1\n",
      "Success local\n",
      "Success Alice\n",
      "Success Bob\n",
      "Success homemade1\n",
      "Success novel\n",
      "Success treatment\n",
      "Success physisorption\n",
      "Success loading\n",
      "Success pressure\n"
     ]
    }
   ],
   "source": [
    "pygaps.db_delete_experiment(pygaps.DATABASE, isotherm)\n",
    "pygaps.db_delete_sample(pygaps.DATABASE, novel_sample)\n",
    "pygaps.db_delete_source(pygaps.DATABASE, 'local')\n",
    "pygaps.db_delete_contact(pygaps.DATABASE, 'Alice')\n",
    "pygaps.db_delete_contact(pygaps.DATABASE, 'Bob')\n",
    "pygaps.db_delete_machine(pygaps.DATABASE, 'homemade1')\n",
    "pygaps.db_delete_sample_type(pygaps.DATABASE, 'novel')\n",
    "pygaps.db_delete_sample_property_type(pygaps.DATABASE, 'treatment')\n",
    "pygaps.db_delete_experiment_type(pygaps.DATABASE, 'physisorption')\n",
    "pygaps.db_delete_experiment_data_type(pygaps.DATABASE, isotherm.loading_key)\n",
    "pygaps.db_delete_experiment_data_type(pygaps.DATABASE, isotherm.pressure_key)"
   ]
  }
 ],
 "metadata": {
  "kernelspec": {
   "display_name": "Python 3",
   "language": "python",
   "name": "python3"
  },
  "language_info": {
   "codemirror_mode": {
    "name": "ipython",
    "version": 3
   },
   "file_extension": ".py",
   "mimetype": "text/x-python",
   "name": "python",
   "nbconvert_exporter": "python",
   "pygments_lexer": "ipython3",
   "version": "3.6.3"
  }
 },
 "nbformat": 4,
 "nbformat_minor": 2
}
