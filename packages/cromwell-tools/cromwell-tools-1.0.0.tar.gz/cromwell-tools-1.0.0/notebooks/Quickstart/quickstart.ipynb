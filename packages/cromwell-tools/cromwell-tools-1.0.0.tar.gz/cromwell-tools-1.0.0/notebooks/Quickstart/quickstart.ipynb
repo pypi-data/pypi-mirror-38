{
 "cells": [
  {
   "cell_type": "markdown",
   "metadata": {},
   "source": [
    "# Quickstart"
   ]
  },
  {
   "cell_type": "markdown",
   "metadata": {},
   "source": [
    "## Standard Authentication"
   ]
  },
  {
   "cell_type": "markdown",
   "metadata": {},
   "source": [
    "### 1. Authenticate with Cromwell using HTTPBasicAuth (username and password)"
   ]
  },
  {
   "cell_type": "code",
   "execution_count": 37,
   "metadata": {},
   "outputs": [],
   "source": [
    "from cromwell_tools.cromwell_auth import CromwellAuth\n",
    "\n",
    "auth_httpbasic = CromwellAuth.from_user_password(username='username', \n",
    "                                                 password='password', \n",
    "                                                 url='https://cromwell.xxx.broadinstitute.org')"
   ]
  },
  {
   "cell_type": "markdown",
   "metadata": {},
   "source": [
    "### 2. Authenticate with Cromwell using HTTPBasicAuth (secret JSON file)"
   ]
  },
  {
   "cell_type": "markdown",
   "metadata": {},
   "source": [
    "A secret JSON file should look like the following example with 3 keys:\n",
    "```JSON\n",
    "{\n",
    "    \"url\": \"url\",\n",
    "    \"username\": \"username\",\n",
    "    \"password\": \"password\"\n",
    "}\n",
    "```"
   ]
  },
  {
   "cell_type": "code",
   "execution_count": 3,
   "metadata": {},
   "outputs": [],
   "source": [
    "from cromwell_tools.cromwell_auth import CromwellAuth\n",
    "\n",
    "auth_httpbasic_file = CromwellAuth.from_secrets_file(secrets_file='path/to/secrets_file.json')"
   ]
  },
  {
   "cell_type": "markdown",
   "metadata": {},
   "source": [
    "### 3. Authenticate with Cromwell using OAuth (service account JSON key file)"
   ]
  },
  {
   "cell_type": "code",
   "execution_count": 25,
   "metadata": {},
   "outputs": [],
   "source": [
    "from cromwell_tools.cromwell_auth import CromwellAuth\n",
    "\n",
    "auth_oauth = CromwellAuth.from_service_account_key_file(service_account_key='path/to/service/account/key.json', \n",
    "                                                        url='https://cromwell.caas-prod.broadinstitute.org')"
   ]
  },
  {
   "cell_type": "markdown",
   "metadata": {},
   "source": [
    "### 4. Authenticate with Cromwell with no Auth"
   ]
  },
  {
   "cell_type": "code",
   "execution_count": 5,
   "metadata": {},
   "outputs": [],
   "source": [
    "# NotImplemented"
   ]
  },
  {
   "cell_type": "markdown",
   "metadata": {},
   "source": [
    "### 5. [Recommended] Authenticate with Cromwell using the standardized method"
   ]
  },
  {
   "cell_type": "code",
   "execution_count": null,
   "metadata": {},
   "outputs": [],
   "source": [
    "from cromwell_tools.cromwell_auth import CromwellAuth\n",
    "\n",
    "auth = CromwellAuth.harmonize_credentials(service_account_key='path/to/service/account/key.json', \n",
    "                                          url='https://cromwell.caas-prod.broadinstitute.org')"
   ]
  },
  {
   "cell_type": "markdown",
   "metadata": {},
   "source": [
    "## Submit jobs to Cromwell/Cromwell-as-a-Service"
   ]
  },
  {
   "cell_type": "code",
   "execution_count": 35,
   "metadata": {},
   "outputs": [],
   "source": [
    "from cromwell_tools import api\n",
    "from cromwell_tools import utilities"
   ]
  },
  {
   "cell_type": "code",
   "execution_count": 38,
   "metadata": {},
   "outputs": [],
   "source": [
    "response = api.submit(auth=auth_httpbasic, \n",
    "                      wdl_file='Examples/hello_world.wdl', \n",
    "                      inputs_files=['Examples/inputs.json'], \n",
    "                      dependencies=['Examples/helloworld.wdl'])"
   ]
  },
  {
   "cell_type": "code",
   "execution_count": 39,
   "metadata": {},
   "outputs": [
    {
     "data": {
      "text/plain": [
       "{'id': '5eb26c8c-07d9-4f07-b728-4805602318de', 'status': 'Submitted'}"
      ]
     },
     "execution_count": 39,
     "metadata": {},
     "output_type": "execute_result"
    }
   ],
   "source": [
    "response.json()"
   ]
  },
  {
   "cell_type": "code",
   "execution_count": 40,
   "metadata": {},
   "outputs": [
    {
     "name": "stdout",
     "output_type": "stream",
     "text": [
      "All workflows succeeded!\n"
     ]
    }
   ],
   "source": [
    "api.wait(workflow_ids=[response.json()['id']], auth=auth_httpbasic)"
   ]
  },
  {
   "cell_type": "markdown",
   "metadata": {},
   "source": [
    "## Query jobs in Cromwell/Cromwell-as-a-Service"
   ]
  },
  {
   "cell_type": "markdown",
   "metadata": {},
   "source": [
    "### Get the workflows"
   ]
  },
  {
   "cell_type": "code",
   "execution_count": 2,
   "metadata": {},
   "outputs": [],
   "source": [
    "from cromwell_tools import api\n",
    "from cromwell_tools import utilities"
   ]
  },
  {
   "cell_type": "markdown",
   "metadata": {},
   "source": [
    "There are a lot of query keys can be used to filter workflows\n",
    "A complicated query dict could be:\n",
    "```JSON\n",
    "custom_query_dict = {\n",
    "    'label': {\n",
    "        'cromwell-workflow-id': 'cromwell-xxxxxxxx-xxxx-xxxx-xxxx-xxxxxxxxxxxx',\n",
    "        'project_shortname': 'Name of a project that trigerred this workflow'\n",
    "    },\n",
    "    'status': ['Running', 'Succeeded', 'Aborted', 'Submitted', 'On Hold', 'Failed'],\n",
    "    'id': 'xxxxxxxx-xxxx-xxxx-xxxx-xxxxxxxxxxxx',\n",
    "    'additionalQueryResultFields': 'labels',\n",
    "    'submission': '2018-01-01T00:01:01.410150Z',\n",
    "    'start': '2018-01-01T01:01:01.410150Z',\n",
    "    'end': '2018-01-01T02:01:01.410150Z',\n",
    "    'name': ['SmartSeq2SingleCell', '10xCount'],\n",
    "    'additionalQueryResultFields': ['labels'],\n",
    "    'includeSubworkflows': True\n",
    "}\n",
    "```\n",
    "We will just use a very simple example here to query for the workflow we just submitted:"
   ]
  },
  {
   "cell_type": "code",
   "execution_count": 41,
   "metadata": {},
   "outputs": [],
   "source": [
    "custom_query_dict = {\n",
    "    'name': 'HelloWorld',\n",
    "    'id': response.json()['id']\n",
    "}\n",
    "\n",
    "response = api.query(query_dict=custom_query_dict, auth=auth_httpbasic)"
   ]
  },
  {
   "cell_type": "code",
   "execution_count": 42,
   "metadata": {},
   "outputs": [
    {
     "data": {
      "text/plain": [
       "[{'name': 'HelloWorld',\n",
       "  'id': '5eb26c8c-07d9-4f07-b728-4805602318de',\n",
       "  'submission': '2018-11-09T16:56:36.052Z',\n",
       "  'status': 'Succeeded',\n",
       "  'end': '2018-11-09T16:58:19.640Z',\n",
       "  'start': '2018-11-09T16:56:41.111Z'}]"
      ]
     },
     "execution_count": 42,
     "metadata": {},
     "output_type": "execute_result"
    }
   ],
   "source": [
    "response.json()['results']"
   ]
  },
  {
   "cell_type": "markdown",
   "metadata": {},
   "source": [
    "## Submit jobs with On Hold in Cromwell/Cromwell-as-a-Service\n",
    "- Submit a job with \"On Hold\" status.\n",
    "- Check the status.\n",
    "- Release the job."
   ]
  },
  {
   "cell_type": "markdown",
   "metadata": {},
   "source": [
    "#### Submit the job"
   ]
  },
  {
   "cell_type": "code",
   "execution_count": 35,
   "metadata": {},
   "outputs": [],
   "source": [
    "from cromwell_tools import api\n",
    "from cromwell_tools import utilities"
   ]
  },
  {
   "cell_type": "code",
   "execution_count": 43,
   "metadata": {},
   "outputs": [],
   "source": [
    "response = api.submit(auth=auth_httpbasic, \n",
    "                      wdl_file='Examples/hello_world.wdl', \n",
    "                      inputs_files=['Examples/inputs.json'], \n",
    "                      dependencies=['Examples/helloworld.wdl'], \n",
    "                      on_hold=True)"
   ]
  },
  {
   "cell_type": "code",
   "execution_count": 44,
   "metadata": {},
   "outputs": [
    {
     "data": {
      "text/plain": [
       "{'id': 'e0061585-168e-4635-aa47-aebe366105bb', 'status': 'On Hold'}"
      ]
     },
     "execution_count": 44,
     "metadata": {},
     "output_type": "execute_result"
    }
   ],
   "source": [
    "response.json()"
   ]
  },
  {
   "cell_type": "markdown",
   "metadata": {},
   "source": [
    "#### Check the status of the job"
   ]
  },
  {
   "cell_type": "code",
   "execution_count": 45,
   "metadata": {},
   "outputs": [
    {
     "data": {
      "text/plain": [
       "{'status': 'On Hold', 'id': 'e0061585-168e-4635-aa47-aebe366105bb'}"
      ]
     },
     "execution_count": 45,
     "metadata": {},
     "output_type": "execute_result"
    }
   ],
   "source": [
    "response = api.status(auth=auth_httpbasic, \n",
    "                      uuid=response.json()['id'])\n",
    "response.json()"
   ]
  },
  {
   "cell_type": "markdown",
   "metadata": {},
   "source": [
    "#### Release the job"
   ]
  },
  {
   "cell_type": "code",
   "execution_count": 46,
   "metadata": {},
   "outputs": [
    {
     "data": {
      "text/plain": [
       "{'id': 'e0061585-168e-4635-aa47-aebe366105bb', 'status': 'Submitted'}"
      ]
     },
     "execution_count": 46,
     "metadata": {},
     "output_type": "execute_result"
    }
   ],
   "source": [
    "response = api.release_hold(auth=auth_httpbasic, \n",
    "                            uuid=response.json()['id'])\n",
    "response.json()"
   ]
  }
 ],
 "metadata": {
  "kernelspec": {
   "display_name": "Python 3",
   "language": "python",
   "name": "python3"
  },
  "language_info": {
   "codemirror_mode": {
    "name": "ipython",
    "version": 3
   },
   "file_extension": ".py",
   "mimetype": "text/x-python",
   "name": "python",
   "nbconvert_exporter": "python",
   "pygments_lexer": "ipython3",
   "version": "3.6.4"
  }
 },
 "nbformat": 4,
 "nbformat_minor": 2
}
