{
 "cells": [
  {
   "cell_type": "code",
   "execution_count": 1,
   "metadata": {},
   "outputs": [],
   "source": [
    "from sympy import init_session"
   ]
  },
  {
   "cell_type": "code",
   "execution_count": 2,
   "metadata": {},
   "outputs": [
    {
     "name": "stdout",
     "output_type": "stream",
     "text": [
      "IPython console for SymPy 1.3 (Python 3.6.2-64-bit) (ground types: python)\n",
      "\n",
      "These commands were executed:\n",
      ">>> from __future__ import division\n",
      ">>> from sympy import *\n",
      ">>> x, y, z, t = symbols('x y z t')\n",
      ">>> k, m, n = symbols('k m n', integer=True)\n",
      ">>> f, g, h = symbols('f g h', cls=Function)\n",
      ">>> init_printing()\n",
      "\n",
      "Documentation can be found at http://docs.sympy.org/1.3/\n",
      "\n"
     ]
    }
   ],
   "source": [
    "init_session()"
   ]
  },
  {
   "cell_type": "code",
   "execution_count": 12,
   "metadata": {},
   "outputs": [
    {
     "data": {
      "image/png": "[encoded data removed]",
      "text/latex": [
       "$$\\sqrt{2} \\sqrt{\\pi} D t σ \\left(- \\frac{e^{- \\frac{\\left(- μ + \\log{\\left (t \\right )}\\right)^{2}}{σ^{2}}}}{2 \\pi t σ^{2} \\left(- \\frac{\\operatorname{erf}{\\left (\\frac{\\sqrt{2} \\left(- μ + \\log{\\left (t \\right )}\\right)}{2 σ} \\right )}}{2} + \\frac{1}{2}\\right)^{2}} - \\frac{\\sqrt{2} \\left(2 μ - 2 \\log{\\left (t \\right )}\\right) e^{- \\frac{\\left(- μ + \\log{\\left (t \\right )}\\right)^{2}}{2 σ^{2}}}}{4 \\sqrt{\\pi} t σ^{3} \\left(- \\frac{\\operatorname{erf}{\\left (\\frac{\\sqrt{2} \\left(- μ + \\log{\\left (t \\right )}\\right)}{2 σ} \\right )}}{2} + \\frac{1}{2}\\right)}\\right) \\left(- \\frac{\\operatorname{erf}{\\left (\\frac{\\sqrt{2} \\left(- μ + \\log{\\left (t \\right )}\\right)}{2 σ} \\right )}}{2} + \\frac{1}{2}\\right) e^{\\frac{\\left(- μ + \\log{\\left (t \\right )}\\right)^{2}}{2 σ^{2}}} + \\frac{\\sqrt{2} e^{- \\frac{\\left(- μ + \\log{\\left (t \\right )}\\right)^{2}}{2 σ^{2}}}}{2 \\sqrt{\\pi} σ \\left(- \\frac{\\operatorname{erf}{\\left (\\frac{\\sqrt{2} \\left(- μ + \\log{\\left (t \\right )}\\right)}{2 σ} \\right )}}{2} + \\frac{1}{2}\\right)}$$"
      ],
      "text/plain": [
       "            ⎛                            2                                    \n",
       "            ⎜              -(-μ + log(t))                                     \n",
       "            ⎜              ────────────────                                   \n",
       "            ⎜                      2                                          \n",
       "            ⎜                     σ                                           \n",
       "            ⎜             ℯ                               √2⋅(2⋅μ - 2⋅log(t))⋅\n",
       "√2⋅√π⋅D⋅t⋅σ⋅⎜- ─────────────────────────────────────── - ─────────────────────\n",
       "            ⎜                                        2             ⎛     ⎛√2⋅(\n",
       "            ⎜           ⎛     ⎛√2⋅(-μ + log(t))⎞    ⎞              ⎜  erf⎜────\n",
       "            ⎜           ⎜  erf⎜────────────────⎟    ⎟            3 ⎜     ⎝    \n",
       "            ⎜         2 ⎜     ⎝      2⋅σ       ⎠   1⎟    4⋅√π⋅t⋅σ ⋅⎜- ────────\n",
       "            ⎜  2⋅π⋅t⋅σ ⋅⎜- ───────────────────── + ─⎟              ⎝          \n",
       "            ⎝           ⎝            2             2⎠                         \n",
       "\n",
       "               2  ⎞                                                           \n",
       " -(-μ + log(t))   ⎟                                             2             \n",
       " ──────────────── ⎟                                (-μ + log(t))              \n",
       "          2       ⎟ ⎛     ⎛√2⋅(-μ + log(t))⎞    ⎞  ──────────────             \n",
       "       2⋅σ        ⎟ ⎜  erf⎜────────────────⎟    ⎟          2                  \n",
       "ℯ                 ⎟ ⎜     ⎝      2⋅σ       ⎠   1⎟       2⋅σ                 √2\n",
       "──────────────────⎟⋅⎜- ───────────────────── + ─⎟⋅ℯ               + ──────────\n",
       "-μ + log(t))⎞    ⎞⎟ ⎝            2             2⎠                          ⎛  \n",
       "────────────⎟    ⎟⎟                                                        ⎜  \n",
       "  2⋅σ       ⎠   1⎟⎟                                                        ⎜  \n",
       "───────────── + ─⎟⎟                                                 2⋅√π⋅σ⋅⎜- \n",
       "  2             2⎠⎟                                                        ⎝  \n",
       "                  ⎠                                                           \n",
       "\n",
       "                2         \n",
       "  -(-μ + log(t))          \n",
       "  ────────────────        \n",
       "           2              \n",
       "        2⋅σ               \n",
       "⋅ℯ                        \n",
       "──────────────────────────\n",
       "   ⎛√2⋅(-μ + log(t))⎞    ⎞\n",
       "erf⎜────────────────⎟    ⎟\n",
       "   ⎝      2⋅σ       ⎠   1⎟\n",
       "───────────────────── + ─⎟\n",
       "          2             2⎠\n",
       "                          "
      ]
     },
     "execution_count": 12,
     "metadata": {},
     "output_type": "execute_result"
    }
   ],
   "source": [
    "from sympy import *\n",
    "t, μ, σ, D = symbols('t μ σ D')\n",
    "\n",
    "def pdf(x):\n",
    "    return 1/sqrt(2*pi) * exp(-x**2/2)\n",
    "\n",
    "\n",
    "def cdf(x):\n",
    "    return (1 + erf(x / sqrt(2)))/2\n",
    "\n",
    "diff(\n",
    "    D*log(\n",
    "     pdf((log(t) - μ)/σ) / (t*σ*(1-cdf((log(t) - μ)/σ)))\n",
    "    ) + log(1-cdf((log(t) - μ)/σ)),\n",
    "μ)"
   ]
  },
  {
   "cell_type": "code",
   "execution_count": null,
   "metadata": {},
   "outputs": [],
   "source": []
  }
 ],
 "metadata": {
  "kernelspec": {
   "display_name": "Python 3",
   "language": "python",
   "name": "python3"
  },
  "language_info": {
   "codemirror_mode": {
    "name": "ipython",
    "version": 3
   },
   "file_extension": ".py",
   "mimetype": "text/x-python",
   "name": "python",
   "nbconvert_exporter": "python",
   "pygments_lexer": "ipython3",
   "version": "3.6.2"
  }
 },
 "nbformat": 4,
 "nbformat_minor": 2
}
