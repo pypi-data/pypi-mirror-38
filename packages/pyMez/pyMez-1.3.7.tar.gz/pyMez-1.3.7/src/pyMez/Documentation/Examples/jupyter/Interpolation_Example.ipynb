{
 "cells": [
  {
   "cell_type": "markdown",
   "metadata": {},
   "source": [
    "# Interpolation Example\n",
    "Interpolation allows you to create data points inside of a defined range. It interpolates the data points, the interpolate_table function reassigns the independent variable to a user defined list and interpolates all the other values in data, returning a data table with the same format. It should be noted that this does not extrapolate, so if the new range is outside the old range it will fail."
   ]
  },
  {
   "cell_type": "code",
   "execution_count": 1,
   "metadata": {
    "collapsed": false
   },
   "outputs": [
    {
     "name": "stdout",
     "output_type": "stream",
     "text": [
      "Importing pyMez, this should take roughly 30 seconds\n",
      "The module smithplot was not found,please put it on the python path\n",
      "The module smithplot was not found,please put it on the python path\n"
     ]
    }
   ],
   "source": [
    "from pyMez import *"
   ]
  },
  {
   "cell_type": "code",
   "execution_count": 2,
   "metadata": {
    "collapsed": true
   },
   "outputs": [],
   "source": [
    "from pyMez.Code.Analysis.Interpolation import *"
   ]
  },
  {
   "cell_type": "code",
   "execution_count": 9,
   "metadata": {
    "collapsed": true
   },
   "outputs": [],
   "source": [
    "# first we define a table where the independent x-axis is the first column\n",
    "x_data=np.linspace(-10,10,10).tolist()\n",
    "data_table=[[x,2.1*x,1.25*x**2] for x in x_data]\n",
    "column_names=[\"x\",\"line\",\"second_order\"]\n",
    "data_table=AsciiDataTable(data=data_table,\n",
    "                          column_names=column_names,\n",
    "                          header=[\"A test of the data table\"],\n",
    "                         column_types=[\"float\",\"float\",\"float\"])"
   ]
  },
  {
   "cell_type": "code",
   "execution_count": 10,
   "metadata": {
    "collapsed": false
   },
   "outputs": [
    {
     "name": "stdout",
     "output_type": "stream",
     "text": [
      "A test of the data table\n",
      "x,line,second_order\n",
      "-10.0,-21.0,125.0\n",
      "-7.77777777778,-16.3333333333,75.6172839506\n",
      "-5.55555555556,-11.6666666667,38.5802469136\n",
      "-3.33333333333,-7.0,13.8888888889\n",
      "-1.11111111111,-2.33333333333,1.54320987654\n",
      "1.11111111111,2.33333333333,1.54320987654\n",
      "3.33333333333,7.0,13.8888888889\n",
      "5.55555555556,11.6666666667,38.5802469136\n",
      "7.77777777778,16.3333333333,75.6172839506\n",
      "10.0,21.0,125.0\n"
     ]
    }
   ],
   "source": [
    "print(data_table)"
   ]
  },
  {
   "cell_type": "code",
   "execution_count": 15,
   "metadata": {
    "collapsed": false
   },
   "outputs": [],
   "source": [
    "# now we want a lot of data points in between the defined range\n",
    "interpolated_table=interpolate_table(table=data_table,independent_variable_list=np.linspace(-5,5,50))"
   ]
  },
  {
   "cell_type": "code",
   "execution_count": 16,
   "metadata": {
    "collapsed": false
   },
   "outputs": [
    {
     "name": "stdout",
     "output_type": "stream",
     "text": [
      "A test of the data table\n",
      "x,line,second_order\n",
      "-5.0,-10.5,32.4074074074\n",
      "-4.79591836735,-10.0714285714,30.1398337113\n",
      "-4.59183673469,-9.64285714286,27.8722600151\n",
      "-4.38775510204,-9.21428571429,25.604686319\n",
      "-4.18367346939,-8.78571428571,23.3371126228\n",
      "-3.97959183673,-8.35714285714,21.0695389267\n",
      "-3.77551020408,-7.92857142857,18.8019652305\n",
      "-3.57142857143,-7.5,16.5343915344\n",
      "-3.36734693878,-7.07142857143,14.2668178382\n",
      "-3.16326530612,-6.64285714286,12.9440665155\n",
      "-2.95918367347,-6.21428571429,11.8102796674\n",
      "-2.75510204082,-5.78571428571,10.6764928193\n",
      "-2.55102040816,-5.35714285714,9.54270597128\n",
      "-2.34693877551,-4.92857142857,8.4089191232\n",
      "-2.14285714286,-4.5,7.27513227513\n",
      "-1.9387755102,-4.07142857143,6.14134542706\n",
      "-1.73469387755,-3.64285714286,5.00755857899\n",
      "-1.5306122449,-3.21428571429,3.87377173091\n",
      "-1.32653061224,-2.78571428571,2.73998488284\n",
      "-1.12244897959,-2.35714285714,1.60619803477\n",
      "-0.918367346939,-1.92857142857,1.54320987654\n",
      "-0.714285714286,-1.5,1.54320987654\n",
      "-0.510204081633,-1.07142857143,1.54320987654\n",
      "-0.30612244898,-0.642857142857,1.54320987654\n",
      "-0.102040816327,-0.214285714286,1.54320987654\n",
      "0.102040816327,0.214285714286,1.54320987654\n",
      "0.30612244898,0.642857142857,1.54320987654\n",
      "0.510204081633,1.07142857143,1.54320987654\n",
      "0.714285714286,1.5,1.54320987654\n",
      "0.918367346939,1.92857142857,1.54320987654\n",
      "1.12244897959,2.35714285714,1.60619803477\n",
      "1.32653061224,2.78571428571,2.73998488284\n",
      "1.5306122449,3.21428571429,3.87377173091\n",
      "1.73469387755,3.64285714286,5.00755857899\n",
      "1.9387755102,4.07142857143,6.14134542706\n",
      "2.14285714286,4.5,7.27513227513\n",
      "2.34693877551,4.92857142857,8.4089191232\n",
      "2.55102040816,5.35714285714,9.54270597128\n",
      "2.75510204082,5.78571428571,10.6764928193\n",
      "2.95918367347,6.21428571429,11.8102796674\n",
      "3.16326530612,6.64285714286,12.9440665155\n",
      "3.36734693878,7.07142857143,14.2668178382\n",
      "3.57142857143,7.5,16.5343915344\n",
      "3.77551020408,7.92857142857,18.8019652305\n",
      "3.97959183673,8.35714285714,21.0695389267\n",
      "4.18367346939,8.78571428571,23.3371126228\n",
      "4.38775510204,9.21428571429,25.604686319\n",
      "4.59183673469,9.64285714286,27.8722600151\n",
      "4.79591836735,10.0714285714,30.1398337113\n",
      "5.0,10.5,32.4074074074\n"
     ]
    }
   ],
   "source": [
    "print(interpolated_table)"
   ]
  },
  {
   "cell_type": "code",
   "execution_count": 19,
   "metadata": {
    "collapsed": false
   },
   "outputs": [
    {
     "data": {
      "text/plain": [
       "<matplotlib.legend.Legend at 0x11cad7f0>"
      ]
     },
     "execution_count": 19,
     "metadata": {},
     "output_type": "execute_result"
    },
    {
     "data": {
      "image/png": "[encoded data removed]",
      "text/plain": [
       "<matplotlib.figure.Figure at 0x11acf160>"
      ]
     },
     "metadata": {},
     "output_type": "display_data"
    }
   ],
   "source": [
    "%matplotlib inline\n",
    "# for demonstation we can now plot to compare them\n",
    "plt.plot(data_table[\"x\"],data_table[\"line\"],label=\"original\")\n",
    "plt.plot(interpolated_table[\"x\"],interpolated_table[\"line\"],label=\"interpolated\")\n",
    "plt.legend()"
   ]
  },
  {
   "cell_type": "code",
   "execution_count": 20,
   "metadata": {
    "collapsed": false
   },
   "outputs": [
    {
     "data": {
      "text/plain": [
       "<matplotlib.legend.Legend at 0x11e6af28>"
      ]
     },
     "execution_count": 20,
     "metadata": {},
     "output_type": "execute_result"
    },
    {
     "data": {
      "image/png": "[encoded data removed]",
      "text/plain": [
       "<matplotlib.figure.Figure at 0x11cdb080>"
      ]
     },
     "metadata": {},
     "output_type": "display_data"
    }
   ],
   "source": [
    "# The second order \n",
    "plt.plot(data_table[\"x\"],data_table[\"second_order\"],label=\"original\")\n",
    "plt.plot(interpolated_table[\"x\"],interpolated_table[\"second_order\"],label=\"interpolated\")\n",
    "plt.legend()"
   ]
  }
 ],
 "metadata": {
  "kernelspec": {
   "display_name": "Python 2",
   "language": "python",
   "name": "python2"
  },
  "language_info": {
   "codemirror_mode": {
    "name": "ipython",
    "version": 2
   },
   "file_extension": ".py",
   "mimetype": "text/x-python",
   "name": "python",
   "nbconvert_exporter": "python",
   "pygments_lexer": "ipython2",
   "version": "2.7.13"
  }
 },
 "nbformat": 4,
 "nbformat_minor": 2
}
