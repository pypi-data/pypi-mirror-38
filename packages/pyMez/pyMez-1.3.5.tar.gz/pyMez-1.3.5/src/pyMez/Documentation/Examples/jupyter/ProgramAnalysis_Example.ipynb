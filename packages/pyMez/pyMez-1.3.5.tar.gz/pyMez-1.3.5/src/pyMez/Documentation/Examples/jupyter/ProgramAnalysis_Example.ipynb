{
 "cells": [
  {
   "cell_type": "markdown",
   "metadata": {},
   "source": [
    "# Example of creating an SVG diagram \n",
    "The ProgramAnaiysis Module creates a SVG diagram with links to demonstrate a function. The left hand side has boxes that rerpresent the input and have links to the input in text form. The central box represents the action or function being done and has a link to the code of the function. The right most boxes represent the output and has a link to the text version of the output. The output can have a "
   ]
  },
  {
   "cell_type": "code",
   "execution_count": 1,
   "metadata": {},
   "outputs": [
    {
     "name": "stdout",
     "output_type": "stream",
     "text": [
      "Importing pyMez, this should take roughly 30 seconds\n",
      "Importing Code.DataHandlers.GeneralModels\n",
      "It took 0.477027 s to import Code.DataHandlers.GeneralModels\n",
      "Importing Code.DataHandlers.HTMLModels\n",
      "It took 0.16101 s to import Code.DataHandlers.HTMLModels\n",
      "Importing Code.DataHandlers.NISTModels\n",
      "The module smithplot was not found,please put it on the python path\n",
      "It took 1.044059 s to import Code.DataHandlers.NISTModels\n",
      "Importing Code.DataHandlers.TouchstoneModels\n",
      "It took 0.001 s to import Code.DataHandlers.TouchstoneModels\n",
      "Importing Code.DataHandlers.XMLModels\n",
      "It took 0.141009 s to import Code.DataHandlers.XMLModels\n",
      "Importing Code.DataHandlers.ZipModels\n",
      "It took 0.011 s to import Code.DataHandlers.ZipModels\n",
      "Importing Code.InstrumentControl.Experiments\n",
      "It took 3.590206 s to import Code.InstrumentControl.Experiments\n",
      "Importing Code.InstrumentControl.Instruments\n",
      "It took 0.001 s to import Code.InstrumentControl.Instruments\n",
      "Importing Code.Utils.Names\n",
      "It took 0.0 s to import Code.Utils.Names\n",
      "It took 5.427311 s to import all of the active modules\n"
     ]
    },
    {
     "name": "stderr",
     "output_type": "stream",
     "text": [
      "C:\\Users\\sandersa\\AppData\\Local\\Continuum\\anaconda3\\lib\\site-packages\\odo\\backends\\pandas.py:102: FutureWarning: pandas.tslib is deprecated and will be removed in a future version.\n",
      "You can access NaTType as type(pandas.NaT)\n",
      "  @convert.register((pd.Timestamp, pd.Timedelta), (pd.tslib.NaTType, type(None)))\n"
     ]
    }
   ],
   "source": [
    "from pyMez.Code.DataHandlers.Translations import S2PV1_to_XmlDataTable\n",
    "from pyMez.Code.Analysis.ProgramAnalysis import *"
   ]
  },
  {
   "cell_type": "code",
   "execution_count": 2,
   "metadata": {},
   "outputs": [],
   "source": [
    "# to display this diagram it is good to have a html form first\n",
    "new_svg=create_svg_black_box_diagram(inputs={\"s2p\":S2PV1(os.path.join(TESTS_DIRECTORY,\"thru.s2p\"))},\n",
    "                                             outputs=[\"S2P_as_xml\"],function=S2PV1_to_XmlDataTable,\n",
    "                                     output_transformation_function=lambda x: x.to_HTML(os.path.join(TESTS_DIRECTORY,\n",
    "                                                                                                     '../XSL/S2P_DB_STYLE.xsl')),\n",
    "                                     output_mime_type=\"text/html\",box_text_ratio=15)\n",
    "\n",
    "new_html=HTMLBase()\n",
    "new_html.add_head()\n",
    "new_html.add_body()\n",
    "new_html.append_to_body({\"tag\":\"br\"})\n",
    "new_html.append_to_body(new_svg)\n",
    "new_html.append_to_head({\"tag\":\"style\",\"text\":\"rect:hover {stroke-width:8;stroke:blue;}\"})"
   ]
  },
  {
   "cell_type": "code",
   "execution_count": 3,
   "metadata": {},
   "outputs": [],
   "source": [
    "# from IPython.display import SVG,HTML\n",
    "# HTML(str(new_html))"
   ]
  },
  {
   "cell_type": "code",
   "execution_count": 4,
   "metadata": {},
   "outputs": [
    {
     "name": "stdout",
     "output_type": "stream",
     "text": [
      "file://C:/Users/sandersa/AppData/Local/Temp/1/tmpgkqrmd2j.html\n"
     ]
    }
   ],
   "source": [
    "# this shows the html file in your browser\n",
    "new_html.show()"
   ]
  },
  {
   "cell_type": "code",
   "execution_count": 5,
   "metadata": {},
   "outputs": [
    {
     "name": "stdout",
     "output_type": "stream",
     "text": [
      "file://C:/Users/sandersa/AppData/Local/Temp/1/tmpij459d3_.html\n"
     ]
    }
   ],
   "source": [
    "# this works for any function\n",
    "black_box=create_svg_black_box_diagram(inputs={\"list_of_strings\":[\"This is one string\",\"This is number two\"]},\n",
    "                                       function=string_list_collapse,outputs=[\"Collapsed String\"])\n",
    "new_html.append_to_body(black_box)\n",
    "new_html.show()"
   ]
  }
 ],
 "metadata": {
  "kernelspec": {
   "display_name": "Python 3",
   "language": "python",
   "name": "python3"
  },
  "language_info": {
   "codemirror_mode": {
    "name": "ipython",
    "version": 3
   },
   "file_extension": ".py",
   "mimetype": "text/x-python",
   "name": "python",
   "nbconvert_exporter": "python",
   "pygments_lexer": "ipython3",
   "version": "3.7.0"
  }
 },
 "nbformat": 4,
 "nbformat_minor": 2
}
