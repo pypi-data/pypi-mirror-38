{
 "cells": [
  {
   "cell_type": "markdown",
   "metadata": {},
   "source": [
    "# Graph Transformation Example\n",
    "Data in a table form can be transformed into numerous different formats using the class pyMez.Code.DataHandlers.GraphModels.TableGraph. The abstract data model is a table with column names."
   ]
  },
  {
   "cell_type": "markdown",
   "metadata": {},
   "source": [
    "## Examples of Formats\n",
    "<table>\n",
    "<tr>\n",
    "<td> <a href=\"./TableGraph_Files/test.xlsx\">Excel File</a></td>\n",
    "</tr>\n",
    "<tr>\n",
    "<td> <a href=\"./TableGraph_Files/test.csv\">Csv File</a></td>\n",
    "</tr>\n",
    "<tr>\n",
    "<td> <a href=\"./TableGraph_Files/test.hdf\">Hdf File</a></td>\n",
    "</tr>\n",
    "<tr>\n",
    "<td> <a href=\"./TableGraph_Files/test.html\">Html File</a></td>\n",
    "</tr>\n",
    "<tr>\n",
    "<td> <a href=\"./TableGraph_Files/test.json\">Json File</a></td>\n",
    "</tr>\n",
    "<tr>\n",
    "<td> <a href=\"./TableGraph_Files/test.mat\">Matlab File</a></td>\n",
    "</tr>\n",
    "<tr>\n",
    "<td> <a href=\"./TableGraph_Files/test.ods\">Open Office File</a></td>\n",
    "</tr>\n",
    "<tr>\n",
    "<td> <a href=\"./TableGraph_Files/test.xml\">XML File</a></td>\n",
    "</tr>\n",
    "</table>"
   ]
  },
  {
   "cell_type": "markdown",
   "metadata": {},
   "source": [
    "## Import needed modules"
   ]
  },
  {
   "cell_type": "code",
   "execution_count": 1,
   "metadata": {},
   "outputs": [
    {
     "name": "stdout",
     "output_type": "stream",
     "text": [
      "Importing pyMez, this should take roughly 30 seconds\n",
      "Importing Code.DataHandlers.GeneralModels\n",
      "It took 0.51203 s to import Code.DataHandlers.GeneralModels\n",
      "Importing Code.DataHandlers.HTMLModels\n",
      "It took 0.105006 s to import Code.DataHandlers.HTMLModels\n",
      "Importing Code.DataHandlers.NISTModels\n",
      "The module smithplot was not found,please put it on the python path\n",
      "It took 0.785044 s to import Code.DataHandlers.NISTModels\n",
      "Importing Code.DataHandlers.TouchstoneModels\n",
      "It took 0.0 s to import Code.DataHandlers.TouchstoneModels\n",
      "Importing Code.DataHandlers.XMLModels\n",
      "It took 0.094006 s to import Code.DataHandlers.XMLModels\n",
      "Importing Code.DataHandlers.ZipModels\n",
      "It took 0.008 s to import Code.DataHandlers.ZipModels\n",
      "Importing Code.InstrumentControl.Experiments\n",
      "It took 2.62215 s to import Code.InstrumentControl.Experiments\n",
      "Importing Code.InstrumentControl.Instruments\n",
      "It took 0.0 s to import Code.InstrumentControl.Instruments\n",
      "Importing Code.Utils.Names\n",
      "It took 0.0 s to import Code.Utils.Names\n",
      "It took 4.126236 s to import all of the active modules\n"
     ]
    },
    {
     "name": "stderr",
     "output_type": "stream",
     "text": [
      "C:\\Users\\sandersa\\AppData\\Local\\Continuum\\anaconda3\\lib\\site-packages\\odo\\backends\\pandas.py:102: FutureWarning: pandas.tslib is deprecated and will be removed in a future version.\n",
      "You can access NaTType as type(pandas.NaT)\n",
      "  @convert.register((pd.Timestamp, pd.Timedelta), (pd.tslib.NaTType, type(None)))\n"
     ]
    }
   ],
   "source": [
    "from pyMez.Code.DataHandlers.GraphModels import *"
   ]
  },
  {
   "cell_type": "code",
   "execution_count": 2,
   "metadata": {},
   "outputs": [],
   "source": [
    "# create the graph\n",
    "graph=TableGraph()"
   ]
  },
  {
   "cell_type": "code",
   "execution_count": 3,
   "metadata": {
    "scrolled": true
   },
   "outputs": [
    {
     "data": {
      "text/plain": [
       "['DataFrame',\n",
       " 'AsciiDataTable',\n",
       " 'HdfFile',\n",
       " 'XmlDataTable',\n",
       " 'ExcelFile',\n",
       " 'OdsFile',\n",
       " 'HtmlString',\n",
       " 'JsonFile',\n",
       " 'JsonString',\n",
       " 'CsvFile',\n",
       " 'MatFile',\n",
       " 'XmlFile',\n",
       " 'HtmlFile']"
      ]
     },
     "execution_count": 3,
     "metadata": {},
     "output_type": "execute_result"
    }
   ],
   "source": [
    "# now we have access to the folowing data formats\n",
    "graph.node_names"
   ]
  },
  {
   "cell_type": "code",
   "execution_count": 4,
   "metadata": {},
   "outputs": [
    {
     "data": {
      "image/png": "[encoded data removed]",
      "text/plain": [
       "<Figure size 432x288 with 1 Axes>"
      ]
     },
     "metadata": {
      "needs_background": "light"
     },
     "output_type": "display_data"
    },
    {
     "data": {
      "text/plain": [
       "<Figure size 432x288 with 0 Axes>"
      ]
     },
     "execution_count": 4,
     "metadata": {},
     "output_type": "execute_result"
    },
    {
     "data": {
      "text/plain": [
       "<Figure size 432x288 with 0 Axes>"
      ]
     },
     "metadata": {},
     "output_type": "display_data"
    }
   ],
   "source": [
    "# to visualize the graph use the show method\n",
    "graph.show()"
   ]
  },
  {
   "cell_type": "code",
   "execution_count": 5,
   "metadata": {},
   "outputs": [],
   "source": [
    "# if we want to open an ascii data table or subclass we open the schema and then open the file\n",
    "schema=read_schema(os.path.join(os.getcwd(),\"./TableGraph_Files/Line_4909_WR15_Wave_Parameters_20180313_003.schema\"))\n",
    "ascii_table=AsciiDataTable(os.path.join(os.getcwd(),\"./TableGraph_Files/Line_4909_WR15_Wave_Parameters_20180313_003.w2p\"),\n",
    "                           **schema)"
   ]
  },
  {
   "cell_type": "code",
   "execution_count": 6,
   "metadata": {},
   "outputs": [],
   "source": [
    "graph.set_state(node_name=\"AsciiDataTable\",node_data=ascii_table)"
   ]
  },
  {
   "cell_type": "code",
   "execution_count": 7,
   "metadata": {},
   "outputs": [],
   "source": [
    "# now if you want a pandas data frame just move to that node\n",
    "graph.move_to_node(\"DataFrame\")"
   ]
  },
  {
   "cell_type": "code",
   "execution_count": 8,
   "metadata": {},
   "outputs": [],
   "source": [
    "#now dataframe is just\n",
    "pandas_dataframe=graph.data"
   ]
  },
  {
   "cell_type": "code",
   "execution_count": 9,
   "metadata": {
    "scrolled": true
   },
   "outputs": [
    {
     "data": {
      "text/html": [
       "<div>\n",
       "<style scoped>\n",
       "    .dataframe tbody tr th:only-of-type {\n",
       "        vertical-align: middle;\n",
       "    }\n",
       "\n",
       "    .dataframe tbody tr th {\n",
       "        vertical-align: top;\n",
       "    }\n",
       "\n",
       "    .dataframe thead th {\n",
       "        text-align: right;\n",
       "    }\n",
       "</style>\n",
       "<table border=\"1\" class=\"dataframe\">\n",
       "  <thead>\n",
       "    <tr style=\"text-align: right;\">\n",
       "      <th></th>\n",
       "      <th>Frequency</th>\n",
       "      <th>reA1_D1</th>\n",
       "      <th>imA1_D1</th>\n",
       "      <th>reB1_D1</th>\n",
       "      <th>imB1_D1</th>\n",
       "      <th>reA2_D1</th>\n",
       "      <th>imA2_D1</th>\n",
       "      <th>reB2_D1</th>\n",
       "      <th>imB2_D1</th>\n",
       "      <th>reA1_D2</th>\n",
       "      <th>imA1_D2</th>\n",
       "      <th>reB1_D2</th>\n",
       "      <th>imB1_D2</th>\n",
       "      <th>reA2_D2</th>\n",
       "      <th>imA2_D2</th>\n",
       "      <th>reB2_D2</th>\n",
       "      <th>imB2_D2</th>\n",
       "    </tr>\n",
       "  </thead>\n",
       "  <tbody>\n",
       "    <tr>\n",
       "      <th>0</th>\n",
       "      <td>50.0</td>\n",
       "      <td>-0.06771637116</td>\n",
       "      <td>-0.01816907875</td>\n",
       "      <td>-0.002698191406</td>\n",
       "      <td>0.0007358189392</td>\n",
       "      <td>0.002504944754</td>\n",
       "      <td>0.006581974472</td>\n",
       "      <td>0.004641698273</td>\n",
       "      <td>-0.02466258165</td>\n",
       "      <td>-0.002775838721</td>\n",
       "      <td>0.0007365005672</td>\n",
       "      <td>-0.009040250908</td>\n",
       "      <td>-0.01372005375</td>\n",
       "      <td>-0.0304376245</td>\n",
       "      <td>0.03904758232</td>\n",
       "      <td>-0.0006660961421</td>\n",
       "      <td>-0.001239688192</td>\n",
       "    </tr>\n",
       "    <tr>\n",
       "      <th>1</th>\n",
       "      <td>50.1</td>\n",
       "      <td>0.02243850646</td>\n",
       "      <td>0.06665811006</td>\n",
       "      <td>-0.002309633574</td>\n",
       "      <td>-0.001366194728</td>\n",
       "      <td>-0.007025498308</td>\n",
       "      <td>0.003140471545</td>\n",
       "      <td>0.003017988775</td>\n",
       "      <td>0.02523530152</td>\n",
       "      <td>0.002766433187</td>\n",
       "      <td>0.0008072947322</td>\n",
       "      <td>-0.01298566794</td>\n",
       "      <td>0.009946449155</td>\n",
       "      <td>-0.006614970446</td>\n",
       "      <td>0.04995893607</td>\n",
       "      <td>0.0005611848447</td>\n",
       "      <td>0.0007264105887</td>\n",
       "    </tr>\n",
       "    <tr>\n",
       "      <th>2</th>\n",
       "      <td>50.2</td>\n",
       "      <td>0.04527021965</td>\n",
       "      <td>-0.05256141552</td>\n",
       "      <td>-0.00173388365</td>\n",
       "      <td>-0.001927861015</td>\n",
       "      <td>-0.002513645387</td>\n",
       "      <td>-0.007837803592</td>\n",
       "      <td>-0.007693914526</td>\n",
       "      <td>-0.02422755665</td>\n",
       "      <td>-0.0004392237569</td>\n",
       "      <td>0.002661782361</td>\n",
       "      <td>0.002922748697</td>\n",
       "      <td>-0.01585399076</td>\n",
       "      <td>0.02744889107</td>\n",
       "      <td>-0.04267520686</td>\n",
       "      <td>0.000952701442</td>\n",
       "      <td>0.0002679299738</td>\n",
       "    </tr>\n",
       "    <tr>\n",
       "      <th>3</th>\n",
       "      <td>50.3</td>\n",
       "      <td>-0.068064164</td>\n",
       "      <td>-0.006680145887</td>\n",
       "      <td>-0.0005841158336</td>\n",
       "      <td>-0.002532520237</td>\n",
       "      <td>0.008350680994</td>\n",
       "      <td>-0.001583162367</td>\n",
       "      <td>0.01300682537</td>\n",
       "      <td>0.0216939389</td>\n",
       "      <td>-0.002352720107</td>\n",
       "      <td>-0.0004776609296</td>\n",
       "      <td>0.006113562282</td>\n",
       "      <td>0.01449721952</td>\n",
       "      <td>-0.04672627515</td>\n",
       "      <td>0.01879209235</td>\n",
       "      <td>0.0002190834271</td>\n",
       "      <td>0.001004918029</td>\n",
       "    </tr>\n",
       "    <tr>\n",
       "      <th>4</th>\n",
       "      <td>50.4</td>\n",
       "      <td>0.01993176055</td>\n",
       "      <td>0.06522905575</td>\n",
       "      <td>0.001363952887</td>\n",
       "      <td>-0.002947389348</td>\n",
       "      <td>-0.0007865336407</td>\n",
       "      <td>0.008783444812</td>\n",
       "      <td>-0.01435682532</td>\n",
       "      <td>-0.02113154479</td>\n",
       "      <td>0.001078082821</td>\n",
       "      <td>-0.001850086426</td>\n",
       "      <td>-0.0104808844</td>\n",
       "      <td>-0.01154704467</td>\n",
       "      <td>0.04611253162</td>\n",
       "      <td>0.02143472309</td>\n",
       "      <td>0.0002404384847</td>\n",
       "      <td>0.0006860393303</td>\n",
       "    </tr>\n",
       "    <tr>\n",
       "      <th>5</th>\n",
       "      <td>50.5</td>\n",
       "      <td>0.06120319388</td>\n",
       "      <td>-0.02933126305</td>\n",
       "      <td>0.002600965115</td>\n",
       "      <td>0.0002420115068</td>\n",
       "      <td>-0.00765577376</td>\n",
       "      <td>-0.004734756304</td>\n",
       "      <td>0.01142720969</td>\n",
       "      <td>0.02331471344</td>\n",
       "      <td>0.0009795936786</td>\n",
       "      <td>0.001590920773</td>\n",
       "      <td>0.01322155897</td>\n",
       "      <td>0.008355509256</td>\n",
       "      <td>-0.01542597473</td>\n",
       "      <td>-0.04949449405</td>\n",
       "      <td>-0.001176449841</td>\n",
       "      <td>0.0005619314235</td>\n",
       "    </tr>\n",
       "    <tr>\n",
       "      <th>6</th>\n",
       "      <td>50.6</td>\n",
       "      <td>-0.04549624588</td>\n",
       "      <td>-0.05036273752</td>\n",
       "      <td>0.002401206648</td>\n",
       "      <td>0.001194642981</td>\n",
       "      <td>0.00717132721</td>\n",
       "      <td>-0.005577364131</td>\n",
       "      <td>-0.01149386376</td>\n",
       "      <td>-0.02369062349</td>\n",
       "      <td>-0.001749184772</td>\n",
       "      <td>-0.0001509449615</td>\n",
       "      <td>-0.01486666319</td>\n",
       "      <td>-0.004184518099</td>\n",
       "      <td>-0.02583977377</td>\n",
       "      <td>0.04489485325</td>\n",
       "      <td>-2.531147057e-05</td>\n",
       "      <td>-0.0003908249213</td>\n",
       "    </tr>\n",
       "    <tr>\n",
       "      <th>7</th>\n",
       "      <td>50.7</td>\n",
       "      <td>-0.03622071059</td>\n",
       "      <td>0.05817229729</td>\n",
       "      <td>-3.623704135e-05</td>\n",
       "      <td>0.003032823443</td>\n",
       "      <td>0.002033359668</td>\n",
       "      <td>0.008625612246</td>\n",
       "      <td>0.009857377368</td>\n",
       "      <td>0.02480800621</td>\n",
       "      <td>0.001344404504</td>\n",
       "      <td>-0.001363835</td>\n",
       "      <td>0.01510341316</td>\n",
       "      <td>0.002440900883</td>\n",
       "      <td>0.05179807238</td>\n",
       "      <td>0.0003036752765</td>\n",
       "      <td>-0.0007968675442</td>\n",
       "      <td>-0.0007567387715</td>\n",
       "    </tr>\n",
       "    <tr>\n",
       "      <th>8</th>\n",
       "      <td>50.8</td>\n",
       "      <td>0.0630271502</td>\n",
       "      <td>0.02902860699</td>\n",
       "      <td>-0.001880705228</td>\n",
       "      <td>0.001355544502</td>\n",
       "      <td>-0.007952566598</td>\n",
       "      <td>-0.003059360583</td>\n",
       "      <td>-0.003294191447</td>\n",
       "      <td>-0.02718061392</td>\n",
       "      <td>0.0001941419538</td>\n",
       "      <td>0.00223786501</td>\n",
       "      <td>-0.01526013303</td>\n",
       "      <td>-0.001378560896</td>\n",
       "      <td>-0.02279080746</td>\n",
       "      <td>-0.04731256854</td>\n",
       "      <td>0.001281713799</td>\n",
       "      <td>-0.0005104444253</td>\n",
       "    </tr>\n",
       "    <tr>\n",
       "      <th>9</th>\n",
       "      <td>50.9</td>\n",
       "      <td>0.02000265252</td>\n",
       "      <td>-0.06661988479</td>\n",
       "      <td>-0.002146230544</td>\n",
       "      <td>-0.0004442927581</td>\n",
       "      <td>0.006057403486</td>\n",
       "      <td>-0.004937491383</td>\n",
       "      <td>-0.001895092701</td>\n",
       "      <td>0.02750249379</td>\n",
       "      <td>-0.002240929551</td>\n",
       "      <td>-0.00148763921</td>\n",
       "      <td>0.01513982274</td>\n",
       "      <td>-9.430191224e-05</td>\n",
       "      <td>-0.02918889338</td>\n",
       "      <td>0.04371010376</td>\n",
       "      <td>0.0007133279978</td>\n",
       "      <td>0.000487065628</td>\n",
       "    </tr>\n",
       "  </tbody>\n",
       "</table>\n",
       "</div>"
      ],
      "text/plain": [
       "  Frequency         reA1_D1          imA1_D1           reB1_D1  \\\n",
       "0      50.0  -0.06771637116   -0.01816907875   -0.002698191406   \n",
       "1      50.1   0.02243850646    0.06665811006   -0.002309633574   \n",
       "2      50.2   0.04527021965   -0.05256141552    -0.00173388365   \n",
       "3      50.3    -0.068064164  -0.006680145887  -0.0005841158336   \n",
       "4      50.4   0.01993176055    0.06522905575    0.001363952887   \n",
       "5      50.5   0.06120319388   -0.02933126305    0.002600965115   \n",
       "6      50.6  -0.04549624588   -0.05036273752    0.002401206648   \n",
       "7      50.7  -0.03622071059    0.05817229729  -3.623704135e-05   \n",
       "8      50.8    0.0630271502    0.02902860699   -0.001880705228   \n",
       "9      50.9   0.02000265252   -0.06661988479   -0.002146230544   \n",
       "\n",
       "            imB1_D1           reA2_D1          imA2_D1          reB2_D1  \\\n",
       "0   0.0007358189392    0.002504944754   0.006581974472   0.004641698273   \n",
       "1   -0.001366194728   -0.007025498308   0.003140471545   0.003017988775   \n",
       "2   -0.001927861015   -0.002513645387  -0.007837803592  -0.007693914526   \n",
       "3   -0.002532520237    0.008350680994  -0.001583162367    0.01300682537   \n",
       "4   -0.002947389348  -0.0007865336407   0.008783444812   -0.01435682532   \n",
       "5   0.0002420115068    -0.00765577376  -0.004734756304    0.01142720969   \n",
       "6    0.001194642981     0.00717132721  -0.005577364131   -0.01149386376   \n",
       "7    0.003032823443    0.002033359668   0.008625612246   0.009857377368   \n",
       "8    0.001355544502   -0.007952566598  -0.003059360583  -0.003294191447   \n",
       "9  -0.0004442927581    0.006057403486  -0.004937491383  -0.001895092701   \n",
       "\n",
       "          imB2_D1           reA1_D2           imA1_D2          reB1_D2  \\\n",
       "0  -0.02466258165   -0.002775838721   0.0007365005672  -0.009040250908   \n",
       "1   0.02523530152    0.002766433187   0.0008072947322   -0.01298566794   \n",
       "2  -0.02422755665  -0.0004392237569    0.002661782361   0.002922748697   \n",
       "3    0.0216939389   -0.002352720107  -0.0004776609296   0.006113562282   \n",
       "4  -0.02113154479    0.001078082821   -0.001850086426    -0.0104808844   \n",
       "5   0.02331471344   0.0009795936786    0.001590920773    0.01322155897   \n",
       "6  -0.02369062349   -0.001749184772  -0.0001509449615   -0.01486666319   \n",
       "7   0.02480800621    0.001344404504      -0.001363835    0.01510341316   \n",
       "8  -0.02718061392   0.0001941419538     0.00223786501   -0.01526013303   \n",
       "9   0.02750249379   -0.002240929551    -0.00148763921    0.01513982274   \n",
       "\n",
       "            imB1_D2          reA2_D2          imA2_D2           reB2_D2  \\\n",
       "0    -0.01372005375    -0.0304376245    0.03904758232  -0.0006660961421   \n",
       "1    0.009946449155  -0.006614970446    0.04995893607   0.0005611848447   \n",
       "2    -0.01585399076    0.02744889107   -0.04267520686    0.000952701442   \n",
       "3     0.01449721952   -0.04672627515    0.01879209235   0.0002190834271   \n",
       "4    -0.01154704467    0.04611253162    0.02143472309   0.0002404384847   \n",
       "5    0.008355509256   -0.01542597473   -0.04949449405   -0.001176449841   \n",
       "6   -0.004184518099   -0.02583977377    0.04489485325  -2.531147057e-05   \n",
       "7    0.002440900883    0.05179807238  0.0003036752765  -0.0007968675442   \n",
       "8   -0.001378560896   -0.02279080746   -0.04731256854    0.001281713799   \n",
       "9  -9.430191224e-05   -0.02918889338    0.04371010376   0.0007133279978   \n",
       "\n",
       "            imB2_D2  \n",
       "0   -0.001239688192  \n",
       "1   0.0007264105887  \n",
       "2   0.0002679299738  \n",
       "3    0.001004918029  \n",
       "4   0.0006860393303  \n",
       "5   0.0005619314235  \n",
       "6  -0.0003908249213  \n",
       "7  -0.0007567387715  \n",
       "8  -0.0005104444253  \n",
       "9    0.000487065628  "
      ]
     },
     "execution_count": 9,
     "metadata": {},
     "output_type": "execute_result"
    }
   ],
   "source": [
    "pandas_dataframe[0:10]"
   ]
  },
  {
   "cell_type": "code",
   "execution_count": 10,
   "metadata": {},
   "outputs": [],
   "source": [
    "# if we want to transform to json string\n",
    "graph.move_to_node(\"JsonString\")"
   ]
  },
  {
   "cell_type": "code",
   "execution_count": 11,
   "metadata": {},
   "outputs": [],
   "source": [
    "json=graph.data"
   ]
  },
  {
   "cell_type": "code",
   "execution_count": 12,
   "metadata": {},
   "outputs": [
    {
     "name": "stderr",
     "output_type": "stream",
     "text": [
      "C:\\Users\\sandersa\\AppData\\Local\\Continuum\\anaconda3\\lib\\site-packages\\pyMez\\Code\\DataHandlers\\Translations.py:572: FutureWarning: Method .as_matrix will be removed in a future version. Use .values instead.\n",
      "  conversion_options[\"data\"]=pandas_data_frame.as_matrix().tolist()[:]\n"
     ]
    },
    {
     "name": "stdout",
     "output_type": "stream",
     "text": [
      "data_nodes is [<DOM Element: Data at 0xd1b12a8>]\n"
     ]
    },
    {
     "name": "stderr",
     "output_type": "stream",
     "text": [
      "C:\\Users\\sandersa\\AppData\\Local\\Continuum\\anaconda3\\lib\\site-packages\\pyMez\\Code\\DataHandlers\\Translations.py:572: FutureWarning: Method .as_matrix will be removed in a future version. Use .values instead.\n",
      "  conversion_options[\"data\"]=pandas_data_frame.as_matrix().tolist()[:]\n",
      "C:\\Users\\sandersa\\AppData\\Local\\Continuum\\anaconda3\\lib\\site-packages\\scipy\\io\\matlab\\miobase.py:414: FutureWarning: Using a non-tuple sequence for multidimensional indexing is deprecated; use `arr[tuple(seq)]` instead of `arr[seq]`. In the future this will be interpreted as an array index, `arr[np.array(seq)]`, which will result either in an error or a different result.\n",
      "  arr[empties] = ' '\n"
     ]
    },
    {
     "name": "stdout",
     "output_type": "stream",
     "text": [
      "data_nodes is [<DOM Element: Data at 0xd61be88>]\n",
      "data_nodes is [<DOM Element: Data at 0x805bb90>]\n"
     ]
    }
   ],
   "source": [
    "# if we would like to transform it to all possible data types -the xslx and ods require a confirmation\n",
    "# first change the working directory and now all files will be put in the folder\n",
    "os.chdir(\"./TableGraph_Files\")\n",
    "visit_all_nodes(graph)"
   ]
  }
 ],
 "metadata": {
  "kernelspec": {
   "display_name": "Python 3",
   "language": "python",
   "name": "python3"
  },
  "language_info": {
   "codemirror_mode": {
    "name": "ipython",
    "version": 3
   },
   "file_extension": ".py",
   "mimetype": "text/x-python",
   "name": "python",
   "nbconvert_exporter": "python",
   "pygments_lexer": "ipython3",
   "version": "3.7.0"
  }
 },
 "nbformat": 4,
 "nbformat_minor": 2
}
